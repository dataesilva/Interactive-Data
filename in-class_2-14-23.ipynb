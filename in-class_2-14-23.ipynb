{
 "cells": [
  {
   "cell_type": "code",
   "execution_count": 1,
   "id": "f67281fc",
   "metadata": {},
   "outputs": [],
   "source": [
    "import pandas as pd\n",
    "from matplotlib import pyplot as plt"
   ]
  },
  {
   "cell_type": "code",
   "execution_count": 2,
   "id": "fee9475f",
   "metadata": {},
   "outputs": [],
   "source": [
    "cces = pd.read_csv('cces_example_data.csv', header = 0)"
   ]
  },
  {
   "cell_type": "code",
   "execution_count": 3,
   "id": "da1815f1",
   "metadata": {},
   "outputs": [
    {
     "data": {
      "text/html": [
       "<div>\n",
       "<style scoped>\n",
       "    .dataframe tbody tr th:only-of-type {\n",
       "        vertical-align: middle;\n",
       "    }\n",
       "\n",
       "    .dataframe tbody tr th {\n",
       "        vertical-align: top;\n",
       "    }\n",
       "\n",
       "    .dataframe thead th {\n",
       "        text-align: right;\n",
       "    }\n",
       "</style>\n",
       "<table border=\"1\" class=\"dataframe\">\n",
       "  <thead>\n",
       "    <tr style=\"text-align: right;\">\n",
       "      <th></th>\n",
       "      <th>pew_religimp</th>\n",
       "      <th>pew_churatd</th>\n",
       "      <th>sex</th>\n",
       "      <th>educ</th>\n",
       "      <th>nonwhite</th>\n",
       "      <th>age</th>\n",
       "      <th>faminc_new</th>\n",
       "      <th>pid3</th>\n",
       "      <th>ideo5</th>\n",
       "      <th>QueerPhobia</th>\n",
       "      <th>...</th>\n",
       "      <th>InterGBiasParty</th>\n",
       "      <th>InterGBiasCand</th>\n",
       "      <th>InterGBiasSup</th>\n",
       "      <th>LibMediaUse</th>\n",
       "      <th>ConMediaUse</th>\n",
       "      <th>Real_Threat</th>\n",
       "      <th>Symb_Threat</th>\n",
       "      <th>Evaluation</th>\n",
       "      <th>teamweight</th>\n",
       "      <th>caseid</th>\n",
       "    </tr>\n",
       "  </thead>\n",
       "  <tbody>\n",
       "    <tr>\n",
       "      <th>0</th>\n",
       "      <td>2</td>\n",
       "      <td>6</td>\n",
       "      <td>2</td>\n",
       "      <td>2</td>\n",
       "      <td>1</td>\n",
       "      <td>56</td>\n",
       "      <td>6</td>\n",
       "      <td>1</td>\n",
       "      <td>1</td>\n",
       "      <td>1.000000</td>\n",
       "      <td>...</td>\n",
       "      <td>-99</td>\n",
       "      <td>-99</td>\n",
       "      <td>-96</td>\n",
       "      <td>2.666667</td>\n",
       "      <td>1.000000</td>\n",
       "      <td>5.00</td>\n",
       "      <td>4.857143</td>\n",
       "      <td>0</td>\n",
       "      <td>0.505028</td>\n",
       "      <td>1231308943</td>\n",
       "    </tr>\n",
       "    <tr>\n",
       "      <th>1</th>\n",
       "      <td>2</td>\n",
       "      <td>4</td>\n",
       "      <td>2</td>\n",
       "      <td>5</td>\n",
       "      <td>1</td>\n",
       "      <td>53</td>\n",
       "      <td>13</td>\n",
       "      <td>1</td>\n",
       "      <td>2</td>\n",
       "      <td>3.000000</td>\n",
       "      <td>...</td>\n",
       "      <td>-100</td>\n",
       "      <td>-100</td>\n",
       "      <td>-100</td>\n",
       "      <td>2.000000</td>\n",
       "      <td>2.000000</td>\n",
       "      <td>5.00</td>\n",
       "      <td>5.000000</td>\n",
       "      <td>0</td>\n",
       "      <td>0.852381</td>\n",
       "      <td>1232300315</td>\n",
       "    </tr>\n",
       "    <tr>\n",
       "      <th>2</th>\n",
       "      <td>1</td>\n",
       "      <td>2</td>\n",
       "      <td>1</td>\n",
       "      <td>2</td>\n",
       "      <td>1</td>\n",
       "      <td>69</td>\n",
       "      <td>10</td>\n",
       "      <td>2</td>\n",
       "      <td>5</td>\n",
       "      <td>4.333333</td>\n",
       "      <td>...</td>\n",
       "      <td>99</td>\n",
       "      <td>99</td>\n",
       "      <td>96</td>\n",
       "      <td>1.000000</td>\n",
       "      <td>1.000000</td>\n",
       "      <td>5.00</td>\n",
       "      <td>5.000000</td>\n",
       "      <td>2</td>\n",
       "      <td>1.320189</td>\n",
       "      <td>1232358697</td>\n",
       "    </tr>\n",
       "    <tr>\n",
       "      <th>3</th>\n",
       "      <td>2</td>\n",
       "      <td>3</td>\n",
       "      <td>1</td>\n",
       "      <td>6</td>\n",
       "      <td>1</td>\n",
       "      <td>76</td>\n",
       "      <td>97</td>\n",
       "      <td>1</td>\n",
       "      <td>3</td>\n",
       "      <td>1.000000</td>\n",
       "      <td>...</td>\n",
       "      <td>-86</td>\n",
       "      <td>-91</td>\n",
       "      <td>-89</td>\n",
       "      <td>4.666667</td>\n",
       "      <td>1.333333</td>\n",
       "      <td>4.25</td>\n",
       "      <td>4.428571</td>\n",
       "      <td>0</td>\n",
       "      <td>0.519198</td>\n",
       "      <td>1232540961</td>\n",
       "    </tr>\n",
       "    <tr>\n",
       "      <th>4</th>\n",
       "      <td>4</td>\n",
       "      <td>5</td>\n",
       "      <td>2</td>\n",
       "      <td>6</td>\n",
       "      <td>1</td>\n",
       "      <td>83</td>\n",
       "      <td>4</td>\n",
       "      <td>1</td>\n",
       "      <td>2</td>\n",
       "      <td>1.000000</td>\n",
       "      <td>...</td>\n",
       "      <td>-80</td>\n",
       "      <td>-88</td>\n",
       "      <td>-87</td>\n",
       "      <td>4.666667</td>\n",
       "      <td>3.666667</td>\n",
       "      <td>4.25</td>\n",
       "      <td>5.000000</td>\n",
       "      <td>0</td>\n",
       "      <td>1.154005</td>\n",
       "      <td>1232580601</td>\n",
       "    </tr>\n",
       "  </tbody>\n",
       "</table>\n",
       "<p>5 rows × 21 columns</p>\n",
       "</div>"
      ],
      "text/plain": [
       "   pew_religimp  pew_churatd  sex  educ  nonwhite  age  faminc_new  pid3  \\\n",
       "0             2            6    2     2         1   56           6     1   \n",
       "1             2            4    2     5         1   53          13     1   \n",
       "2             1            2    1     2         1   69          10     2   \n",
       "3             2            3    1     6         1   76          97     1   \n",
       "4             4            5    2     6         1   83           4     1   \n",
       "\n",
       "   ideo5  QueerPhobia  ...  InterGBiasParty  InterGBiasCand  InterGBiasSup  \\\n",
       "0      1     1.000000  ...              -99             -99            -96   \n",
       "1      2     3.000000  ...             -100            -100           -100   \n",
       "2      5     4.333333  ...               99              99             96   \n",
       "3      3     1.000000  ...              -86             -91            -89   \n",
       "4      2     1.000000  ...              -80             -88            -87   \n",
       "\n",
       "   LibMediaUse  ConMediaUse  Real_Threat  Symb_Threat  Evaluation  teamweight  \\\n",
       "0     2.666667     1.000000         5.00     4.857143           0    0.505028   \n",
       "1     2.000000     2.000000         5.00     5.000000           0    0.852381   \n",
       "2     1.000000     1.000000         5.00     5.000000           2    1.320189   \n",
       "3     4.666667     1.333333         4.25     4.428571           0    0.519198   \n",
       "4     4.666667     3.666667         4.25     5.000000           0    1.154005   \n",
       "\n",
       "       caseid  \n",
       "0  1231308943  \n",
       "1  1232300315  \n",
       "2  1232358697  \n",
       "3  1232540961  \n",
       "4  1232580601  \n",
       "\n",
       "[5 rows x 21 columns]"
      ]
     },
     "execution_count": 3,
     "metadata": {},
     "output_type": "execute_result"
    }
   ],
   "source": [
    "cces.head()"
   ]
  },
  {
   "cell_type": "code",
   "execution_count": 4,
   "id": "8b8e6604",
   "metadata": {},
   "outputs": [],
   "source": [
    "cces_clean = cces.astype({'sex': 'category', 'nonwhite': 'category', 'pid3': 'category', 'Evaluation': 'category'})"
   ]
  },
  {
   "cell_type": "code",
   "execution_count": 5,
   "id": "5af49c0f",
   "metadata": {},
   "outputs": [
    {
     "data": {
      "image/png": "[encoded data removed]",
      "text/plain": [
       "<Figure size 640x480 with 2 Axes>"
      ]
     },
     "metadata": {},
     "output_type": "display_data"
    }
   ],
   "source": [
    "fig1, ax1 = plt.subplots(1, 2)\n",
    "\n",
    "ax1[0].set_title(\"Age Histogram\")\n",
    "ax1[1].set_title(\"Political Identity\")\n",
    "\n",
    "plt.show()"
   ]
  },
  {
   "cell_type": "code",
   "execution_count": 6,
   "id": "8b9fe149",
   "metadata": {},
   "outputs": [
    {
     "data": {
      "text/plain": [
       "0      0\n",
       "1      0\n",
       "2      2\n",
       "3      0\n",
       "4      0\n",
       "      ..\n",
       "654    3\n",
       "655    0\n",
       "656    0\n",
       "657    2\n",
       "658    2\n",
       "Name: Evaluation, Length: 659, dtype: category\n",
       "Categories (4, int64): [0, 1, 2, 3]"
      ]
     },
     "execution_count": 6,
     "metadata": {},
     "output_type": "execute_result"
    }
   ],
   "source": [
    "cces_clean['Evaluation']"
   ]
  },
  {
   "cell_type": "code",
   "execution_count": 7,
   "id": "50598bac",
   "metadata": {},
   "outputs": [],
   "source": [
    "dat = cces_clean.groupby('Evaluation').count()['caseid']\n",
    "dat = dat.sort_values()"
   ]
  },
  {
   "cell_type": "code",
   "execution_count": 8,
   "id": "3f98212e",
   "metadata": {},
   "outputs": [
    {
     "data": {
      "text/plain": [
       "pandas.core.series.Series"
      ]
     },
     "execution_count": 8,
     "metadata": {},
     "output_type": "execute_result"
    }
   ],
   "source": [
    "type(dat)"
   ]
  },
  {
   "cell_type": "code",
   "execution_count": 9,
   "id": "f5b56b7a",
   "metadata": {},
   "outputs": [
    {
     "data": {
      "text/plain": [
       "365"
      ]
     },
     "execution_count": 9,
     "metadata": {},
     "output_type": "execute_result"
    }
   ],
   "source": [
    "dat[0]"
   ]
  },
  {
   "cell_type": "code",
   "execution_count": 10,
   "id": "ea42b11d",
   "metadata": {},
   "outputs": [
    {
     "data": {
      "image/png": "[encoded data removed]",
      "text/plain": [
       "<Figure size 640x480 with 1 Axes>"
      ]
     },
     "metadata": {},
     "output_type": "display_data"
    }
   ],
   "source": [
    "fig2, ax2 = plt.subplots()\n",
    "dat = cces_clean.groupby('Evaluation').count()['caseid']\n",
    "ax2.bar([0, 1, 2, 3], dat)\n",
    "\n",
    "ax2.set_xticks([0,1,2,3], [\"Legit\", \"other\", \"Illetgit\", \"Something\"])\n",
    "\n",
    "plt.show()"
   ]
  },
  {
   "cell_type": "code",
   "execution_count": 11,
   "id": "29e097d1",
   "metadata": {},
   "outputs": [
    {
     "data": {
      "image/png": "[encoded data removed]",
      "text/plain": [
       "<Figure size 640x480 with 1 Axes>"
      ]
     },
     "metadata": {},
     "output_type": "display_data"
    }
   ],
   "source": [
    "fig3, ax3 = plt.subplots()\n",
    "\n",
    "ax3.scatter(cces_clean['ConMediaUse'], cces_clean['ImmiPhobia'], alpha = .05)\n",
    "\n",
    "plt.show()"
   ]
  }
 ],
 "metadata": {
  "kernelspec": {
   "display_name": "Python 3 (ipykernel)",
   "language": "python",
   "name": "python3"
  },
  "language_info": {
   "codemirror_mode": {
    "name": "ipython",
    "version": 3
   },
   "file_extension": ".py",
   "mimetype": "text/x-python",
   "name": "python",
   "nbconvert_exporter": "python",
   "pygments_lexer": "ipython3",
   "version": "3.9.16"
  }
 },
 "nbformat": 4,
 "nbformat_minor": 5
}
