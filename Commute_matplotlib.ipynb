{
 "cells": [
  {
   "cell_type": "code",
   "execution_count": 1,
   "id": "d34a13b0",
   "metadata": {},
   "outputs": [],
   "source": [
    "import pandas as pd\n",
    "import numpy as np\n",
    "from matplotlib import pyplot as plt"
   ]
  },
  {
   "cell_type": "code",
   "execution_count": 2,
   "id": "f16a3a9d",
   "metadata": {},
   "outputs": [],
   "source": [
    "commute = pd.read_csv(\"commute.csv\", header = 0)"
   ]
  },
  {
   "cell_type": "code",
   "execution_count": 3,
   "id": "2062e72a",
   "metadata": {},
   "outputs": [],
   "source": [
    "commute = commute.astype({'Date': 'datetime64', 'Vehicle': 'category', 'Weather': 'category', 'Destination': 'category'})"
   ]
  },
  {
   "cell_type": "code",
   "execution_count": 4,
   "id": "b5b7c483",
   "metadata": {},
   "outputs": [],
   "source": [
    "group_by_weather_destination = commute.groupby(['Destination', 'Weather'])"
   ]
  },
  {
   "cell_type": "code",
   "execution_count": 5,
   "id": "8a4ff555",
   "metadata": {},
   "outputs": [
    {
     "data": {
      "text/plain": [
       "Destination  Weather\n",
       "Franklin     rain       18.5\n",
       "             snow        NaN\n",
       "             sun        18.0\n",
       "Library      rain        NaN\n",
       "             snow        NaN\n",
       "             sun        20.0\n",
       "Taylor       rain       21.0\n",
       "             snow       20.5\n",
       "             sun        19.0\n",
       "Name: CommuteTime, dtype: float64"
      ]
     },
     "execution_count": 5,
     "metadata": {},
     "output_type": "execute_result"
    }
   ],
   "source": [
    "group_by_weather_destination['CommuteTime'].mean()"
   ]
  },
  {
   "cell_type": "code",
   "execution_count": 6,
   "id": "e08d35f5",
   "metadata": {},
   "outputs": [],
   "source": [
    "group_by_vehicle = commute.groupby(['Vehicle'])"
   ]
  },
  {
   "cell_type": "code",
   "execution_count": 7,
   "id": "f068facd",
   "metadata": {},
   "outputs": [
    {
     "data": {
      "text/plain": [
       "{'max': Vehicle\n",
       " Passat           22.0\n",
       " Street Triple    20.0\n",
       " Name: CommuteTime, dtype: float64,\n",
       " 'min': Vehicle\n",
       " Passat           19.0\n",
       " Street Triple    17.0\n",
       " Name: CommuteTime, dtype: float64}"
      ]
     },
     "execution_count": 7,
     "metadata": {},
     "output_type": "execute_result"
    }
   ],
   "source": [
    "min_max_vehicle = {'max': group_by_vehicle['CommuteTime'].max(), 'min': group_by_vehicle['CommuteTime'].min()}\n",
    "min_max_vehicle"
   ]
  },
  {
   "cell_type": "code",
   "execution_count": 8,
   "id": "4c1f6c64",
   "metadata": {},
   "outputs": [
    {
     "data": {
      "text/plain": [
       "Vehicle\n",
       "Passat           22.0\n",
       "Street Triple    20.0\n",
       "Name: CommuteTime, dtype: float64"
      ]
     },
     "execution_count": 8,
     "metadata": {},
     "output_type": "execute_result"
    }
   ],
   "source": [
    "min_max_vehicle['max']"
   ]
  },
  {
   "cell_type": "code",
   "execution_count": 9,
   "id": "1738aabe",
   "metadata": {},
   "outputs": [
    {
     "data": {
      "text/plain": [
       "CategoricalIndex(['Passat', 'Street Triple'], categories=['Passat', 'Street Triple'], ordered=False, dtype='category', name='Vehicle')"
      ]
     },
     "execution_count": 9,
     "metadata": {},
     "output_type": "execute_result"
    }
   ],
   "source": [
    "min_max_vehicle['max'].keys()"
   ]
  },
  {
   "cell_type": "code",
   "execution_count": 10,
   "id": "52279429",
   "metadata": {},
   "outputs": [
    {
     "data": {
      "image/png": "[encoded data removed]",
      "text/plain": [
       "<Figure size 640x480 with 1 Axes>"
      ]
     },
     "metadata": {},
     "output_type": "display_data"
    }
   ],
   "source": [
    "fig1, ax1 = plt.subplots()\n",
    "dat = min_max_vehicle\n",
    "heights = [dat['max']['Passat'], dat['min']['Passat'], dat['max']['Street Triple'], dat['min']['Street Triple']]\n",
    "ax1.barh([0,1,4,5], heights)\n",
    "ax1.set_yticks([4.5, .5], ['Passat', 'Street Triple'])\n",
    "\n",
    "plt.show()"
   ]
  },
  {
   "cell_type": "code",
   "execution_count": 11,
   "id": "8d2e86bc",
   "metadata": {},
   "outputs": [
    {
     "data": {
      "image/png": "[encoded data removed]",
      "text/plain": [
       "<Figure size 640x480 with 1 Axes>"
      ]
     },
     "metadata": {},
     "output_type": "display_data"
    }
   ],
   "source": [
    "fig2, ax2 = plt.subplots()\n",
    "ax2.bar(2, 3, 3, 2)\n",
    "ax2.bar(4, 7, 3, 0)\n",
    "\n",
    "plt.show()"
   ]
  },
  {
   "cell_type": "code",
   "execution_count": 12,
   "id": "af8639f2",
   "metadata": {},
   "outputs": [],
   "source": [
    "group_by_vehicle_destination_weather = commute.groupby(['Vehicle', 'Destination', 'Weather'])"
   ]
  },
  {
   "cell_type": "code",
   "execution_count": 13,
   "id": "0520c260",
   "metadata": {},
   "outputs": [
    {
     "data": {
      "text/plain": [
       "Vehicle        Destination  Weather\n",
       "Passat         Franklin     rain        NaN\n",
       "                            snow        NaN\n",
       "                            sun        19.0\n",
       "               Library      rain        NaN\n",
       "                            snow        NaN\n",
       "                            sun         NaN\n",
       "               Taylor       rain       21.0\n",
       "                            snow       20.5\n",
       "                            sun         NaN\n",
       "Street Triple  Franklin     rain       18.5\n",
       "                            snow        NaN\n",
       "                            sun        17.0\n",
       "               Library      rain        NaN\n",
       "                            snow        NaN\n",
       "                            sun        20.0\n",
       "               Taylor       rain        NaN\n",
       "                            snow        NaN\n",
       "                            sun        19.0\n",
       "Name: CommuteTime, dtype: float64"
      ]
     },
     "execution_count": 13,
     "metadata": {},
     "output_type": "execute_result"
    }
   ],
   "source": [
    "group_by_vehicle_destination_weather['CommuteTime'].mean()"
   ]
  },
  {
   "cell_type": "code",
   "execution_count": 14,
   "id": "b363b246",
   "metadata": {},
   "outputs": [
    {
     "data": {
      "image/png": "[encoded data removed]",
      "text/plain": [
       "<Figure size 640x480 with 1 Axes>"
      ]
     },
     "metadata": {},
     "output_type": "display_data"
    }
   ],
   "source": [
    "fig3, ax3 = plt.subplots()\n",
    "dat = group_by_vehicle_destination_weather['CommuteTime'].mean()\n",
    "ax3.bar(0, dat['Passat']['Franklin']['sun'], color = 'orange')\n",
    "ax3.text(0, 21, 'Franklin', horizontalalignment = 'center')\n",
    "\n",
    "ax3.bar(1, dat['Passat']['Taylor']['rain'], color = 'blue')\n",
    "ax3.bar(1, dat['Passat']['Taylor']['snow'], bottom = dat['Passat']['Taylor']['rain'], color = 'grey')\n",
    "\n",
    "ax3.bar(3, dat['Street Triple']['Franklin']['rain'], color = 'blue')\n",
    "ax3.bar(3, dat['Street Triple']['Library']['sun'], color = 'orange', bottom = dat['Street Triple']['Franklin']['rain'])\n",
    "\n",
    "ax3.bar(4, dat['Street Triple']['Library']['sun'], color = 'orange')\n",
    "\n",
    "ax3.bar(5, dat['Street Triple']['Taylor']['sun'], color = 'orange')\n",
    "\n",
    "ax3.set_xticks([0.5, 4], ['Passat', 'Street Triple'])\n",
    "\n",
    "plt.show()"
   ]
  },
  {
   "cell_type": "code",
   "execution_count": 15,
   "id": "faf69189",
   "metadata": {},
   "outputs": [],
   "source": [
    "groupby_vehicle_weather = commute.groupby(['Vehicle', 'Weather'])"
   ]
  },
  {
   "cell_type": "code",
   "execution_count": 16,
   "id": "392d5a33",
   "metadata": {},
   "outputs": [
    {
     "data": {
      "text/plain": [
       "Vehicle        Weather\n",
       "Passat         rain       1\n",
       "               snow       2\n",
       "               sun        1\n",
       "Street Triple  rain       1\n",
       "               snow       0\n",
       "               sun        3\n",
       "Name: TripID, dtype: int64"
      ]
     },
     "execution_count": 16,
     "metadata": {},
     "output_type": "execute_result"
    }
   ],
   "source": [
    "groupby_vehicle_weather['TripID'].count()"
   ]
  },
  {
   "cell_type": "code",
   "execution_count": 17,
   "id": "f66cdd33",
   "metadata": {},
   "outputs": [
    {
     "data": {
      "image/png": "[encoded data removed]",
      "text/plain": [
       "<Figure size 640x480 with 2 Axes>"
      ]
     },
     "metadata": {},
     "output_type": "display_data"
    }
   ],
   "source": [
    "fig4, ax4 = plt.subplots(1, 2)\n",
    "dat = groupby_vehicle_weather['TripID'].count()\n",
    "ax4[0].pie(dat[0:3], labels = dat['Passat'].index)\n",
    "ax4[1].pie(dat[3:6], labels = dat['Street Triple'].index)\n",
    "\n",
    "ax4[0].set_xlabel('Passat')\n",
    "ax4[1].set_xlabel('Street Triple')\n",
    "\n",
    "plt.show()"
   ]
  }
 ],
 "metadata": {
  "kernelspec": {
   "display_name": "Python 3 (ipykernel)",
   "language": "python",
   "name": "python3"
  },
  "language_info": {
   "codemirror_mode": {
    "name": "ipython",
    "version": 3
   },
   "file_extension": ".py",
   "mimetype": "text/x-python",
   "name": "python",
   "nbconvert_exporter": "python",
   "pygments_lexer": "ipython3",
   "version": "3.9.15"
  }
 },
 "nbformat": 4,
 "nbformat_minor": 5
}
