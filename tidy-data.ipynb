{
 "cells": [
  {
   "cell_type": "code",
   "execution_count": 1,
   "id": "fe5f9c3b",
   "metadata": {},
   "outputs": [],
   "source": [
    "import pandas as pd\n",
    "import json"
   ]
  },
  {
   "cell_type": "code",
   "execution_count": 2,
   "id": "532fe1d2",
   "metadata": {},
   "outputs": [],
   "source": [
    "import re\n",
    "from functools import partial"
   ]
  },
  {
   "cell_type": "markdown",
   "id": "62804c9d",
   "metadata": {},
   "source": [
    "Solution for poor FB encoding in JSON by [Martijn Pieters](https://stackoverflow.com/a/50011987)."
   ]
  },
  {
   "cell_type": "code",
   "execution_count": 3,
   "id": "ea8cbb7b",
   "metadata": {},
   "outputs": [],
   "source": [
    "fix_mojibake_escapes = partial(\n",
    "    re.compile(rb'\\\\u00([\\da-f]{2})').sub,\n",
    "     lambda m: bytes.fromhex(m[1].decode()),\n",
    " )"
   ]
  },
  {
   "cell_type": "code",
   "execution_count": 4,
   "id": "475b33cd",
   "metadata": {},
   "outputs": [],
   "source": [
    "# with open(\"chessbuds_messages.json\") as m:\n",
    "#     mess = json.loads(repaired)"
   ]
  },
  {
   "cell_type": "code",
   "execution_count": 5,
   "id": "4b0a2a1c",
   "metadata": {},
   "outputs": [],
   "source": [
    "with open(\"chessbuds_messages.json\", 'rb') as m:\n",
    "    repaired = fix_mojibake_escapes(m.read())\n",
    "mess = json.loads(repaired)\n",
    "    \n",
    "with open(\"Spotify_Montero_data.json\") as s:\n",
    "    spot = json.load(s)"
   ]
  },
  {
   "cell_type": "code",
   "execution_count": null,
   "id": "d3df49d7",
   "metadata": {},
   "outputs": [],
   "source": [
    "mess"
   ]
  },
  {
   "cell_type": "code",
   "execution_count": null,
   "id": "dc25b60c",
   "metadata": {},
   "outputs": [],
   "source": [
    "spot"
   ]
  },
  {
   "cell_type": "code",
   "execution_count": 8,
   "id": "f2374933",
   "metadata": {},
   "outputs": [
    {
     "data": {
      "text/plain": [
       "dict_keys(['participants', 'messages', 'title', 'is_still_participant', 'thread_type', 'thread_path', 'magic_words', 'joinable_mode'])"
      ]
     },
     "execution_count": 8,
     "metadata": {},
     "output_type": "execute_result"
    }
   ],
   "source": [
    "mess.keys()"
   ]
  },
  {
   "cell_type": "code",
   "execution_count": 9,
   "id": "803c1de7",
   "metadata": {},
   "outputs": [
    {
     "data": {
      "text/plain": [
       "dict_keys(['album_type', 'artists', 'available_markets', 'copyrights', 'external_ids', 'external_urls', 'genres', 'href', 'id', 'images', 'label', 'name', 'popularity', 'release_date', 'release_date_precision', 'total_tracks', 'tracks', 'type', 'uri'])"
      ]
     },
     "execution_count": 9,
     "metadata": {},
     "output_type": "execute_result"
    }
   ],
   "source": [
    "spot.keys()"
   ]
  },
  {
   "cell_type": "code",
   "execution_count": 10,
   "id": "88f391fb",
   "metadata": {},
   "outputs": [
    {
     "data": {
      "text/plain": [
       "[{'name': 'Scott Pence'},\n",
       " {'name': 'Chad Larson'},\n",
       " {'name': 'Joanna Rusch'},\n",
       " {'name': 'Angela Babbitt Pence'},\n",
       " {'name': 'David Silva'},\n",
       " {'name': 'Aaron Rusch'},\n",
       " {'name': 'Timothy Vanderpool'}]"
      ]
     },
     "execution_count": 10,
     "metadata": {},
     "output_type": "execute_result"
    }
   ],
   "source": [
    "mess['participants']"
   ]
  },
  {
   "cell_type": "code",
   "execution_count": null,
   "id": "52270db1",
   "metadata": {},
   "outputs": [],
   "source": [
    "mess['messages']"
   ]
  },
  {
   "cell_type": "code",
   "execution_count": 12,
   "id": "6fcbb542",
   "metadata": {},
   "outputs": [
    {
     "data": {
      "text/plain": [
       "list"
      ]
     },
     "execution_count": 12,
     "metadata": {},
     "output_type": "execute_result"
    }
   ],
   "source": [
    "type(mess['messages'])"
   ]
  },
  {
   "cell_type": "code",
   "execution_count": 13,
   "id": "002a59c6",
   "metadata": {},
   "outputs": [
    {
     "data": {
      "text/plain": [
       "223"
      ]
     },
     "execution_count": 13,
     "metadata": {},
     "output_type": "execute_result"
    }
   ],
   "source": [
    "len(mess['messages'])"
   ]
  },
  {
   "cell_type": "code",
   "execution_count": 14,
   "id": "4d5da4fe",
   "metadata": {},
   "outputs": [
    {
     "data": {
      "text/plain": [
       "{'sender_name': 'Joanna Rusch',\n",
       " 'timestamp_ms': 1666374933946,\n",
       " 'content': \"Maybe he just wants to ride the publicity for a bit longer, even if he doesn't get any money from the lawsuit. Like, I didn't know his name before this but I certainly do now.\",\n",
       " 'reactions': [{'reaction': '👍', 'actor': 'Chad Larson'},\n",
       "  {'reaction': '👍', 'actor': 'Chad Larson'}],\n",
       " 'type': 'Generic',\n",
       " 'is_unsent': False,\n",
       " 'is_taken_down': False,\n",
       " 'bumped_message_metadata': {'bumped_message': \"Maybe he just wants to ride the publicity for a bit longer, even if he doesn't get any money from the lawsuit. Like, I didn't know his name before this but I certainly do now.\",\n",
       "  'is_bumped': False}}"
      ]
     },
     "execution_count": 14,
     "metadata": {},
     "output_type": "execute_result"
    }
   ],
   "source": [
    "mess['messages'][0]"
   ]
  },
  {
   "cell_type": "code",
   "execution_count": 15,
   "id": "0b8e6cac",
   "metadata": {},
   "outputs": [
    {
     "data": {
      "text/plain": [
       "dict_keys(['sender_name', 'timestamp_ms', 'content', 'reactions', 'type', 'is_unsent', 'is_taken_down', 'bumped_message_metadata'])"
      ]
     },
     "execution_count": 15,
     "metadata": {},
     "output_type": "execute_result"
    }
   ],
   "source": [
    "mess['messages'][0].keys()"
   ]
  },
  {
   "cell_type": "code",
   "execution_count": 16,
   "id": "3e546123",
   "metadata": {},
   "outputs": [
    {
     "data": {
      "text/plain": [
       "[{'reaction': '👍', 'actor': 'Chad Larson'},\n",
       " {'reaction': '👍', 'actor': 'Chad Larson'}]"
      ]
     },
     "execution_count": 16,
     "metadata": {},
     "output_type": "execute_result"
    }
   ],
   "source": [
    "mess['messages'][0]['reactions']"
   ]
  },
  {
   "cell_type": "code",
   "execution_count": 17,
   "id": "3470c2bd",
   "metadata": {},
   "outputs": [
    {
     "data": {
      "text/plain": [
       "2"
      ]
     },
     "execution_count": 17,
     "metadata": {},
     "output_type": "execute_result"
    }
   ],
   "source": [
    "len(mess['messages'][0]['reactions'])"
   ]
  },
  {
   "cell_type": "code",
   "execution_count": 18,
   "id": "ba42ab48",
   "metadata": {},
   "outputs": [
    {
     "data": {
      "text/plain": [
       "'👍'"
      ]
     },
     "execution_count": 18,
     "metadata": {},
     "output_type": "execute_result"
    }
   ],
   "source": [
    "mess['messages'][0]['reactions'][0]['reaction']"
   ]
  }
 ],
 "metadata": {
  "kernelspec": {
   "display_name": "Python 3 (ipykernel)",
   "language": "python",
   "name": "python3"
  },
  "language_info": {
   "codemirror_mode": {
    "name": "ipython",
    "version": 3
   },
   "file_extension": ".py",
   "mimetype": "text/x-python",
   "name": "python",
   "nbconvert_exporter": "python",
   "pygments_lexer": "ipython3",
   "version": "3.9.15"
  }
 },
 "nbformat": 4,
 "nbformat_minor": 5
}
