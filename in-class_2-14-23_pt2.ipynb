{
 "cells": [
  {
   "cell_type": "code",
   "execution_count": 1,
   "id": "33857408",
   "metadata": {},
   "outputs": [],
   "source": [
    "from matplotlib import pyplot as plt\n",
    "import pandas as pd\n",
    "import numpy as np"
   ]
  },
  {
   "cell_type": "code",
   "execution_count": 2,
   "id": "860b0399",
   "metadata": {},
   "outputs": [],
   "source": [
    "commute = pd.read_csv('commute.csv', header = 0)"
   ]
  },
  {
   "cell_type": "code",
   "execution_count": 3,
   "id": "40e675f3",
   "metadata": {},
   "outputs": [
    {
     "data": {
      "text/html": [
       "<div>\n",
       "<style scoped>\n",
       "    .dataframe tbody tr th:only-of-type {\n",
       "        vertical-align: middle;\n",
       "    }\n",
       "\n",
       "    .dataframe tbody tr th {\n",
       "        vertical-align: top;\n",
       "    }\n",
       "\n",
       "    .dataframe thead th {\n",
       "        text-align: right;\n",
       "    }\n",
       "</style>\n",
       "<table border=\"1\" class=\"dataframe\">\n",
       "  <thead>\n",
       "    <tr style=\"text-align: right;\">\n",
       "      <th></th>\n",
       "      <th>TripID</th>\n",
       "      <th>Vehicle</th>\n",
       "      <th>Date</th>\n",
       "      <th>CommuteTime</th>\n",
       "      <th>Destination</th>\n",
       "      <th>Weather</th>\n",
       "    </tr>\n",
       "  </thead>\n",
       "  <tbody>\n",
       "    <tr>\n",
       "      <th>0</th>\n",
       "      <td>0</td>\n",
       "      <td>Street Triple</td>\n",
       "      <td>11/8/2022</td>\n",
       "      <td>18.5</td>\n",
       "      <td>Franklin</td>\n",
       "      <td>rain</td>\n",
       "    </tr>\n",
       "    <tr>\n",
       "      <th>1</th>\n",
       "      <td>1</td>\n",
       "      <td>Street Triple</td>\n",
       "      <td>11/9/2022</td>\n",
       "      <td>19.0</td>\n",
       "      <td>Taylor</td>\n",
       "      <td>sun</td>\n",
       "    </tr>\n",
       "    <tr>\n",
       "      <th>2</th>\n",
       "      <td>2</td>\n",
       "      <td>Street Triple</td>\n",
       "      <td>11/10/2022</td>\n",
       "      <td>17.0</td>\n",
       "      <td>Franklin</td>\n",
       "      <td>sun</td>\n",
       "    </tr>\n",
       "    <tr>\n",
       "      <th>3</th>\n",
       "      <td>3</td>\n",
       "      <td>Passat</td>\n",
       "      <td>11/15/2022</td>\n",
       "      <td>22.0</td>\n",
       "      <td>Taylor</td>\n",
       "      <td>snow</td>\n",
       "    </tr>\n",
       "    <tr>\n",
       "      <th>4</th>\n",
       "      <td>4</td>\n",
       "      <td>Passat</td>\n",
       "      <td>11/16/2022</td>\n",
       "      <td>19.0</td>\n",
       "      <td>Taylor</td>\n",
       "      <td>snow</td>\n",
       "    </tr>\n",
       "    <tr>\n",
       "      <th>5</th>\n",
       "      <td>5</td>\n",
       "      <td>Passat</td>\n",
       "      <td>11/28/2022</td>\n",
       "      <td>21.0</td>\n",
       "      <td>Taylor</td>\n",
       "      <td>rain</td>\n",
       "    </tr>\n",
       "    <tr>\n",
       "      <th>6</th>\n",
       "      <td>6</td>\n",
       "      <td>Passat</td>\n",
       "      <td>12/2/2022</td>\n",
       "      <td>19.0</td>\n",
       "      <td>Franklin</td>\n",
       "      <td>sun</td>\n",
       "    </tr>\n",
       "    <tr>\n",
       "      <th>7</th>\n",
       "      <td>7</td>\n",
       "      <td>Street Triple</td>\n",
       "      <td>12/3/2022</td>\n",
       "      <td>20.0</td>\n",
       "      <td>Library</td>\n",
       "      <td>sun</td>\n",
       "    </tr>\n",
       "  </tbody>\n",
       "</table>\n",
       "</div>"
      ],
      "text/plain": [
       "   TripID        Vehicle        Date  CommuteTime Destination Weather\n",
       "0       0  Street Triple   11/8/2022         18.5    Franklin    rain\n",
       "1       1  Street Triple   11/9/2022         19.0      Taylor     sun\n",
       "2       2  Street Triple  11/10/2022         17.0    Franklin     sun\n",
       "3       3         Passat  11/15/2022         22.0      Taylor    snow\n",
       "4       4         Passat  11/16/2022         19.0      Taylor    snow\n",
       "5       5         Passat  11/28/2022         21.0      Taylor    rain\n",
       "6       6         Passat   12/2/2022         19.0    Franklin     sun\n",
       "7       7  Street Triple   12/3/2022         20.0     Library     sun"
      ]
     },
     "execution_count": 3,
     "metadata": {},
     "output_type": "execute_result"
    }
   ],
   "source": [
    "commute"
   ]
  },
  {
   "cell_type": "code",
   "execution_count": 4,
   "id": "d21f31a1",
   "metadata": {},
   "outputs": [
    {
     "data": {
      "text/plain": [
       "Vehicle\n",
       "Passat           22.0\n",
       "Street Triple    20.0\n",
       "Name: CommuteTime, dtype: float64"
      ]
     },
     "execution_count": 4,
     "metadata": {},
     "output_type": "execute_result"
    }
   ],
   "source": [
    "commute.groupby('Vehicle')['CommuteTime'].max()"
   ]
  },
  {
   "cell_type": "code",
   "execution_count": 5,
   "id": "094f1f3a",
   "metadata": {},
   "outputs": [],
   "source": [
    "groupby_vehicle = commute.groupby('Vehicle')"
   ]
  },
  {
   "cell_type": "code",
   "execution_count": 6,
   "id": "7e2894fe",
   "metadata": {},
   "outputs": [
    {
     "data": {
      "text/plain": [
       "Vehicle\n",
       "Passat           22.0\n",
       "Street Triple    20.0\n",
       "Name: CommuteTime, dtype: float64"
      ]
     },
     "execution_count": 6,
     "metadata": {},
     "output_type": "execute_result"
    }
   ],
   "source": [
    "groupby_vehicle['CommuteTime'].max()"
   ]
  },
  {
   "cell_type": "code",
   "execution_count": 7,
   "id": "bcac4daa",
   "metadata": {},
   "outputs": [
    {
     "data": {
      "text/plain": [
       "22.0"
      ]
     },
     "execution_count": 7,
     "metadata": {},
     "output_type": "execute_result"
    }
   ],
   "source": [
    "groupby_vehicle['CommuteTime'].max()['Passat']"
   ]
  },
  {
   "cell_type": "code",
   "execution_count": 8,
   "id": "3176f1fc",
   "metadata": {},
   "outputs": [
    {
     "data": {
      "text/plain": [
       "Vehicle\n",
       "Passat           19.0\n",
       "Street Triple    17.0\n",
       "Name: CommuteTime, dtype: float64"
      ]
     },
     "execution_count": 8,
     "metadata": {},
     "output_type": "execute_result"
    }
   ],
   "source": [
    "commute.groupby('Vehicle')['CommuteTime'].min()"
   ]
  },
  {
   "cell_type": "code",
   "execution_count": 9,
   "id": "9de7bc8f",
   "metadata": {},
   "outputs": [
    {
     "data": {
      "image/png": "[encoded data removed]",
      "text/plain": [
       "<Figure size 640x480 with 1 Axes>"
      ]
     },
     "metadata": {},
     "output_type": "display_data"
    }
   ],
   "source": [
    "fig1, ax1 = plt.subplots()\n",
    "heights = [groupby_vehicle['CommuteTime'].max()['Passat'],\n",
    "          groupby_vehicle['CommuteTime'].min()['Passat'],\n",
    "          groupby_vehicle['CommuteTime'].max()['Street Triple'],\n",
    "          groupby_vehicle['CommuteTime'].min()['Street Triple']]\n",
    "ax1.barh([0, 1, 3, 4], heights)\n",
    "# ax1.set_yticks([0.5, 3.5], [\"Passat\", \"Street Triple\"])\n",
    "ax1.set_xlabel(\"Commute Time in Minutes\")\n",
    "ax1.set_title(\"Vehicle\")\n",
    "ax1.text(17, 4, \"Min Value\")\n",
    "\n",
    "plt.show()"
   ]
  },
  {
   "cell_type": "code",
   "execution_count": 10,
   "id": "77f60765",
   "metadata": {},
   "outputs": [],
   "source": [
    "groupby_veh_weath_counts = commute.groupby(['Vehicle', 'Weather']).count()['TripID']"
   ]
  },
  {
   "cell_type": "code",
   "execution_count": 11,
   "id": "ba450519",
   "metadata": {},
   "outputs": [
    {
     "data": {
      "text/plain": [
       "Weather\n",
       "rain    1\n",
       "sun     3\n",
       "Name: TripID, dtype: int64"
      ]
     },
     "execution_count": 11,
     "metadata": {},
     "output_type": "execute_result"
    }
   ],
   "source": [
    "groupby_veh_weath_counts['Street Triple']"
   ]
  },
  {
   "cell_type": "code",
   "execution_count": 12,
   "id": "496b23c1",
   "metadata": {},
   "outputs": [
    {
     "data": {
      "image/png": "[encoded data removed]",
      "text/plain": [
       "<Figure size 640x480 with 2 Axes>"
      ]
     },
     "metadata": {},
     "output_type": "display_data"
    }
   ],
   "source": [
    "fig2, ax2 = plt.subplots(1, 2)\n",
    "\n",
    "ax2[0].pie(groupby_veh_weath_counts['Passat'], labels = groupby_veh_weath_counts['Passat'].index, colors = ['blue', 'grey', 'orange'])\n",
    "ax2[1].pie(groupby_veh_weath_counts['Street Triple'], labels = groupby_veh_weath_counts['Street Triple'].index, colors = ['blue', 'orange'])\n",
    "ax2[0].set_xlabel(\"Passat\")\n",
    "ax2[1].set_xlabel(\"Street Triple\")\n",
    "\n",
    "plt.show()"
   ]
  },
  {
   "cell_type": "code",
   "execution_count": 13,
   "id": "c4bc2b5a",
   "metadata": {},
   "outputs": [
    {
     "data": {
      "image/png": "[encoded data removed]",
      "text/plain": [
       "<Figure size 640x480 with 1 Axes>"
      ]
     },
     "metadata": {},
     "output_type": "display_data"
    }
   ],
   "source": [
    "fig3, ax3 = plt.subplots()\n",
    "\n",
    "ax3.bar(1, 3, bottom = 0, color = 'blue')\n",
    "ax3.bar(2, 2, bottom = 3, color = 'red')\n",
    "ax3.bar(3, 1, bottom = 5, color = 'gold')\n",
    "\n",
    "\n",
    "\n",
    "plt.show()"
   ]
  }
 ],
 "metadata": {
  "kernelspec": {
   "display_name": "Python 3 (ipykernel)",
   "language": "python",
   "name": "python3"
  },
  "language_info": {
   "codemirror_mode": {
    "name": "ipython",
    "version": 3
   },
   "file_extension": ".py",
   "mimetype": "text/x-python",
   "name": "python",
   "nbconvert_exporter": "python",
   "pygments_lexer": "ipython3",
   "version": "3.9.16"
  }
 },
 "nbformat": 4,
 "nbformat_minor": 5
}
