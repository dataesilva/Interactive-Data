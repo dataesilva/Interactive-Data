{
 "cells": [
  {
   "cell_type": "code",
   "execution_count": 1,
   "id": "9a38785b",
   "metadata": {},
   "outputs": [],
   "source": [
    "import pandas as pd\n",
    "from matplotlib import pyplot as plt\n",
    "import plotly.express as px\n",
    "import numpy as np"
   ]
  },
  {
   "cell_type": "code",
   "execution_count": 2,
   "id": "4d241b66",
   "metadata": {},
   "outputs": [],
   "source": [
    "dat = pd.read_csv('Fuel_Consumption_2000-2022.csv')"
   ]
  },
  {
   "cell_type": "code",
   "execution_count": 3,
   "id": "b825d12a",
   "metadata": {},
   "outputs": [
    {
     "data": {
      "text/html": [
       "<div>\n",
       "<style scoped>\n",
       "    .dataframe tbody tr th:only-of-type {\n",
       "        vertical-align: middle;\n",
       "    }\n",
       "\n",
       "    .dataframe tbody tr th {\n",
       "        vertical-align: top;\n",
       "    }\n",
       "\n",
       "    .dataframe thead th {\n",
       "        text-align: right;\n",
       "    }\n",
       "</style>\n",
       "<table border=\"1\" class=\"dataframe\">\n",
       "  <thead>\n",
       "    <tr style=\"text-align: right;\">\n",
       "      <th></th>\n",
       "      <th>ID</th>\n",
       "      <th>YEAR</th>\n",
       "      <th>MAKE</th>\n",
       "      <th>MODEL</th>\n",
       "      <th>VEHICLE CLASS</th>\n",
       "      <th>ENGINE SIZE</th>\n",
       "      <th>CYLINDERS</th>\n",
       "      <th>TRANSMISSION</th>\n",
       "      <th>FUEL</th>\n",
       "      <th>FUEL CONSUMPTION</th>\n",
       "      <th>COMB (mpg)</th>\n",
       "      <th>EMISSIONS</th>\n",
       "    </tr>\n",
       "  </thead>\n",
       "  <tbody>\n",
       "    <tr>\n",
       "      <th>0</th>\n",
       "      <td>1</td>\n",
       "      <td>2000</td>\n",
       "      <td>ACURA</td>\n",
       "      <td>1.6EL</td>\n",
       "      <td>COMPACT</td>\n",
       "      <td>1.6</td>\n",
       "      <td>4</td>\n",
       "      <td>A4</td>\n",
       "      <td>X</td>\n",
       "      <td>9.2</td>\n",
       "      <td>35</td>\n",
       "      <td>186</td>\n",
       "    </tr>\n",
       "    <tr>\n",
       "      <th>1</th>\n",
       "      <td>2</td>\n",
       "      <td>2000</td>\n",
       "      <td>ACURA</td>\n",
       "      <td>1.6EL</td>\n",
       "      <td>COMPACT</td>\n",
       "      <td>1.6</td>\n",
       "      <td>4</td>\n",
       "      <td>M5</td>\n",
       "      <td>X</td>\n",
       "      <td>8.5</td>\n",
       "      <td>37</td>\n",
       "      <td>175</td>\n",
       "    </tr>\n",
       "    <tr>\n",
       "      <th>2</th>\n",
       "      <td>3</td>\n",
       "      <td>2000</td>\n",
       "      <td>ACURA</td>\n",
       "      <td>3.2TL</td>\n",
       "      <td>MID-SIZE</td>\n",
       "      <td>3.2</td>\n",
       "      <td>6</td>\n",
       "      <td>AS5</td>\n",
       "      <td>Z</td>\n",
       "      <td>12.2</td>\n",
       "      <td>28</td>\n",
       "      <td>230</td>\n",
       "    </tr>\n",
       "    <tr>\n",
       "      <th>3</th>\n",
       "      <td>4</td>\n",
       "      <td>2000</td>\n",
       "      <td>ACURA</td>\n",
       "      <td>3.5RL</td>\n",
       "      <td>MID-SIZE</td>\n",
       "      <td>3.5</td>\n",
       "      <td>6</td>\n",
       "      <td>A4</td>\n",
       "      <td>Z</td>\n",
       "      <td>13.4</td>\n",
       "      <td>25</td>\n",
       "      <td>264</td>\n",
       "    </tr>\n",
       "    <tr>\n",
       "      <th>4</th>\n",
       "      <td>5</td>\n",
       "      <td>2000</td>\n",
       "      <td>ACURA</td>\n",
       "      <td>INTEGRA</td>\n",
       "      <td>SUBCOMPACT</td>\n",
       "      <td>1.8</td>\n",
       "      <td>4</td>\n",
       "      <td>A4</td>\n",
       "      <td>X</td>\n",
       "      <td>10.0</td>\n",
       "      <td>33</td>\n",
       "      <td>198</td>\n",
       "    </tr>\n",
       "  </tbody>\n",
       "</table>\n",
       "</div>"
      ],
      "text/plain": [
       "   ID  YEAR   MAKE    MODEL VEHICLE CLASS  ENGINE SIZE  CYLINDERS  \\\n",
       "0   1  2000  ACURA    1.6EL       COMPACT          1.6          4   \n",
       "1   2  2000  ACURA    1.6EL       COMPACT          1.6          4   \n",
       "2   3  2000  ACURA    3.2TL      MID-SIZE          3.2          6   \n",
       "3   4  2000  ACURA    3.5RL      MID-SIZE          3.5          6   \n",
       "4   5  2000  ACURA  INTEGRA    SUBCOMPACT          1.8          4   \n",
       "\n",
       "  TRANSMISSION FUEL  FUEL CONSUMPTION  COMB (mpg)  EMISSIONS  \n",
       "0           A4    X               9.2          35        186  \n",
       "1           M5    X               8.5          37        175  \n",
       "2          AS5    Z              12.2          28        230  \n",
       "3           A4    Z              13.4          25        264  \n",
       "4           A4    X              10.0          33        198  "
      ]
     },
     "execution_count": 3,
     "metadata": {},
     "output_type": "execute_result"
    }
   ],
   "source": [
    "dat.head()"
   ]
  },
  {
   "cell_type": "code",
   "execution_count": 4,
   "id": "4cdb1d0d",
   "metadata": {},
   "outputs": [
    {
     "data": {
      "text/plain": [
       "22556"
      ]
     },
     "execution_count": 4,
     "metadata": {},
     "output_type": "execute_result"
    }
   ],
   "source": [
    "len(dat.index)"
   ]
  },
  {
   "cell_type": "code",
   "execution_count": 5,
   "id": "943dfa6e",
   "metadata": {},
   "outputs": [
    {
     "data": {
      "text/plain": [
       "(22556, 12)"
      ]
     },
     "execution_count": 5,
     "metadata": {},
     "output_type": "execute_result"
    }
   ],
   "source": [
    "dat.shape"
   ]
  },
  {
   "cell_type": "code",
   "execution_count": 6,
   "id": "a5d307e5",
   "metadata": {},
   "outputs": [
    {
     "data": {
      "text/plain": [
       "Index(['ID', 'YEAR', 'MAKE', 'MODEL', 'VEHICLE CLASS', 'ENGINE SIZE',\n",
       "       'CYLINDERS', 'TRANSMISSION', 'FUEL', 'FUEL CONSUMPTION', 'COMB (mpg)',\n",
       "       'EMISSIONS'],\n",
       "      dtype='object')"
      ]
     },
     "execution_count": 6,
     "metadata": {},
     "output_type": "execute_result"
    }
   ],
   "source": [
    "dat.columns"
   ]
  },
  {
   "cell_type": "code",
   "execution_count": 7,
   "id": "693e8bc3",
   "metadata": {},
   "outputs": [],
   "source": [
    "dat = dat.astype({'YEAR': 'category', 'VEHICLE CLASS': 'category', 'MAKE': 'category'})"
   ]
  },
  {
   "cell_type": "code",
   "execution_count": 8,
   "id": "f4a35a7a",
   "metadata": {},
   "outputs": [],
   "source": [
    "dat_grouped = dat.groupby(['YEAR', 'VEHICLE CLASS']).describe()"
   ]
  },
  {
   "cell_type": "code",
   "execution_count": 9,
   "id": "5dfffa43",
   "metadata": {},
   "outputs": [
    {
     "data": {
      "text/plain": [
       "MultiIndex([(              'ID', 'count'),\n",
       "            (              'ID',  'mean'),\n",
       "            (              'ID',   'std'),\n",
       "            (              'ID',   'min'),\n",
       "            (              'ID',   '25%'),\n",
       "            (              'ID',   '50%'),\n",
       "            (              'ID',   '75%'),\n",
       "            (              'ID',   'max'),\n",
       "            (     'ENGINE SIZE', 'count'),\n",
       "            (     'ENGINE SIZE',  'mean'),\n",
       "            (     'ENGINE SIZE',   'std'),\n",
       "            (     'ENGINE SIZE',   'min'),\n",
       "            (     'ENGINE SIZE',   '25%'),\n",
       "            (     'ENGINE SIZE',   '50%'),\n",
       "            (     'ENGINE SIZE',   '75%'),\n",
       "            (     'ENGINE SIZE',   'max'),\n",
       "            (       'CYLINDERS', 'count'),\n",
       "            (       'CYLINDERS',  'mean'),\n",
       "            (       'CYLINDERS',   'std'),\n",
       "            (       'CYLINDERS',   'min'),\n",
       "            (       'CYLINDERS',   '25%'),\n",
       "            (       'CYLINDERS',   '50%'),\n",
       "            (       'CYLINDERS',   '75%'),\n",
       "            (       'CYLINDERS',   'max'),\n",
       "            ('FUEL CONSUMPTION', 'count'),\n",
       "            ('FUEL CONSUMPTION',  'mean'),\n",
       "            ('FUEL CONSUMPTION',   'std'),\n",
       "            ('FUEL CONSUMPTION',   'min'),\n",
       "            ('FUEL CONSUMPTION',   '25%'),\n",
       "            ('FUEL CONSUMPTION',   '50%'),\n",
       "            ('FUEL CONSUMPTION',   '75%'),\n",
       "            ('FUEL CONSUMPTION',   'max'),\n",
       "            (      'COMB (mpg)', 'count'),\n",
       "            (      'COMB (mpg)',  'mean'),\n",
       "            (      'COMB (mpg)',   'std'),\n",
       "            (      'COMB (mpg)',   'min'),\n",
       "            (      'COMB (mpg)',   '25%'),\n",
       "            (      'COMB (mpg)',   '50%'),\n",
       "            (      'COMB (mpg)',   '75%'),\n",
       "            (      'COMB (mpg)',   'max'),\n",
       "            (       'EMISSIONS', 'count'),\n",
       "            (       'EMISSIONS',  'mean'),\n",
       "            (       'EMISSIONS',   'std'),\n",
       "            (       'EMISSIONS',   'min'),\n",
       "            (       'EMISSIONS',   '25%'),\n",
       "            (       'EMISSIONS',   '50%'),\n",
       "            (       'EMISSIONS',   '75%'),\n",
       "            (       'EMISSIONS',   'max')],\n",
       "           )"
      ]
     },
     "execution_count": 9,
     "metadata": {},
     "output_type": "execute_result"
    }
   ],
   "source": [
    "dat_grouped.columns"
   ]
  },
  {
   "cell_type": "code",
   "execution_count": 10,
   "id": "df22b4ee",
   "metadata": {},
   "outputs": [
    {
     "data": {
      "text/html": [
       "<div>\n",
       "<style scoped>\n",
       "    .dataframe tbody tr th:only-of-type {\n",
       "        vertical-align: middle;\n",
       "    }\n",
       "\n",
       "    .dataframe tbody tr th {\n",
       "        vertical-align: top;\n",
       "    }\n",
       "\n",
       "    .dataframe thead tr th {\n",
       "        text-align: left;\n",
       "    }\n",
       "\n",
       "    .dataframe thead tr:last-of-type th {\n",
       "        text-align: right;\n",
       "    }\n",
       "</style>\n",
       "<table border=\"1\" class=\"dataframe\">\n",
       "  <thead>\n",
       "    <tr>\n",
       "      <th></th>\n",
       "      <th></th>\n",
       "      <th colspan=\"8\" halign=\"left\">ID</th>\n",
       "      <th colspan=\"2\" halign=\"left\">ENGINE SIZE</th>\n",
       "      <th>...</th>\n",
       "      <th colspan=\"2\" halign=\"left\">COMB (mpg)</th>\n",
       "      <th colspan=\"8\" halign=\"left\">EMISSIONS</th>\n",
       "    </tr>\n",
       "    <tr>\n",
       "      <th></th>\n",
       "      <th></th>\n",
       "      <th>count</th>\n",
       "      <th>mean</th>\n",
       "      <th>std</th>\n",
       "      <th>min</th>\n",
       "      <th>25%</th>\n",
       "      <th>50%</th>\n",
       "      <th>75%</th>\n",
       "      <th>max</th>\n",
       "      <th>count</th>\n",
       "      <th>mean</th>\n",
       "      <th>...</th>\n",
       "      <th>75%</th>\n",
       "      <th>max</th>\n",
       "      <th>count</th>\n",
       "      <th>mean</th>\n",
       "      <th>std</th>\n",
       "      <th>min</th>\n",
       "      <th>25%</th>\n",
       "      <th>50%</th>\n",
       "      <th>75%</th>\n",
       "      <th>max</th>\n",
       "    </tr>\n",
       "    <tr>\n",
       "      <th>YEAR</th>\n",
       "      <th>VEHICLE CLASS</th>\n",
       "      <th></th>\n",
       "      <th></th>\n",
       "      <th></th>\n",
       "      <th></th>\n",
       "      <th></th>\n",
       "      <th></th>\n",
       "      <th></th>\n",
       "      <th></th>\n",
       "      <th></th>\n",
       "      <th></th>\n",
       "      <th></th>\n",
       "      <th></th>\n",
       "      <th></th>\n",
       "      <th></th>\n",
       "      <th></th>\n",
       "      <th></th>\n",
       "      <th></th>\n",
       "      <th></th>\n",
       "      <th></th>\n",
       "      <th></th>\n",
       "      <th></th>\n",
       "    </tr>\n",
       "  </thead>\n",
       "  <tbody>\n",
       "    <tr>\n",
       "      <th rowspan=\"5\" valign=\"top\">2000</th>\n",
       "      <th>COMPACT</th>\n",
       "      <td>105.0</td>\n",
       "      <td>329.219048</td>\n",
       "      <td>221.470782</td>\n",
       "      <td>1.0</td>\n",
       "      <td>54.00</td>\n",
       "      <td>375.0</td>\n",
       "      <td>549.00</td>\n",
       "      <td>624.0</td>\n",
       "      <td>105.0</td>\n",
       "      <td>2.348571</td>\n",
       "      <td>...</td>\n",
       "      <td>34.00</td>\n",
       "      <td>55.0</td>\n",
       "      <td>105.0</td>\n",
       "      <td>213.371429</td>\n",
       "      <td>33.433993</td>\n",
       "      <td>138.0</td>\n",
       "      <td>193.0</td>\n",
       "      <td>216.0</td>\n",
       "      <td>232.0</td>\n",
       "      <td>331.0</td>\n",
       "    </tr>\n",
       "    <tr>\n",
       "      <th>FULL-SIZE</th>\n",
       "      <td>28.0</td>\n",
       "      <td>241.642857</td>\n",
       "      <td>174.074955</td>\n",
       "      <td>50.0</td>\n",
       "      <td>104.75</td>\n",
       "      <td>142.5</td>\n",
       "      <td>431.25</td>\n",
       "      <td>544.0</td>\n",
       "      <td>28.0</td>\n",
       "      <td>3.710714</td>\n",
       "      <td>...</td>\n",
       "      <td>28.25</td>\n",
       "      <td>30.0</td>\n",
       "      <td>28.0</td>\n",
       "      <td>248.535714</td>\n",
       "      <td>22.802667</td>\n",
       "      <td>218.0</td>\n",
       "      <td>229.5</td>\n",
       "      <td>246.0</td>\n",
       "      <td>260.5</td>\n",
       "      <td>331.0</td>\n",
       "    </tr>\n",
       "    <tr>\n",
       "      <th>MID-SIZE</th>\n",
       "      <td>77.0</td>\n",
       "      <td>347.064935</td>\n",
       "      <td>202.177250</td>\n",
       "      <td>3.0</td>\n",
       "      <td>136.00</td>\n",
       "      <td>390.0</td>\n",
       "      <td>492.00</td>\n",
       "      <td>632.0</td>\n",
       "      <td>77.0</td>\n",
       "      <td>3.029870</td>\n",
       "      <td>...</td>\n",
       "      <td>29.00</td>\n",
       "      <td>34.0</td>\n",
       "      <td>77.0</td>\n",
       "      <td>239.000000</td>\n",
       "      <td>22.919769</td>\n",
       "      <td>189.0</td>\n",
       "      <td>223.0</td>\n",
       "      <td>235.0</td>\n",
       "      <td>260.0</td>\n",
       "      <td>292.0</td>\n",
       "    </tr>\n",
       "    <tr>\n",
       "      <th>MINICOMPACT</th>\n",
       "      <td>11.0</td>\n",
       "      <td>328.727273</td>\n",
       "      <td>193.007301</td>\n",
       "      <td>28.0</td>\n",
       "      <td>208.00</td>\n",
       "      <td>419.0</td>\n",
       "      <td>483.50</td>\n",
       "      <td>486.0</td>\n",
       "      <td>11.0</td>\n",
       "      <td>3.263636</td>\n",
       "      <td>...</td>\n",
       "      <td>27.50</td>\n",
       "      <td>29.0</td>\n",
       "      <td>11.0</td>\n",
       "      <td>257.090909</td>\n",
       "      <td>21.092437</td>\n",
       "      <td>225.0</td>\n",
       "      <td>239.5</td>\n",
       "      <td>264.0</td>\n",
       "      <td>271.5</td>\n",
       "      <td>285.0</td>\n",
       "    </tr>\n",
       "    <tr>\n",
       "      <th>MINIVAN</th>\n",
       "      <td>26.0</td>\n",
       "      <td>275.807692</td>\n",
       "      <td>152.079195</td>\n",
       "      <td>134.0</td>\n",
       "      <td>167.25</td>\n",
       "      <td>186.5</td>\n",
       "      <td>387.75</td>\n",
       "      <td>586.0</td>\n",
       "      <td>26.0</td>\n",
       "      <td>3.357692</td>\n",
       "      <td>...</td>\n",
       "      <td>26.00</td>\n",
       "      <td>26.0</td>\n",
       "      <td>26.0</td>\n",
       "      <td>266.076923</td>\n",
       "      <td>20.478131</td>\n",
       "      <td>246.0</td>\n",
       "      <td>253.0</td>\n",
       "      <td>261.0</td>\n",
       "      <td>274.0</td>\n",
       "      <td>331.0</td>\n",
       "    </tr>\n",
       "  </tbody>\n",
       "</table>\n",
       "<p>5 rows × 48 columns</p>\n",
       "</div>"
      ],
      "text/plain": [
       "                       ID                                                \\\n",
       "                    count        mean         std    min     25%    50%   \n",
       "YEAR VEHICLE CLASS                                                        \n",
       "2000 COMPACT        105.0  329.219048  221.470782    1.0   54.00  375.0   \n",
       "     FULL-SIZE       28.0  241.642857  174.074955   50.0  104.75  142.5   \n",
       "     MID-SIZE        77.0  347.064935  202.177250    3.0  136.00  390.0   \n",
       "     MINICOMPACT     11.0  328.727273  193.007301   28.0  208.00  419.0   \n",
       "     MINIVAN         26.0  275.807692  152.079195  134.0  167.25  186.5   \n",
       "\n",
       "                                  ENGINE SIZE            ... COMB (mpg)        \\\n",
       "                       75%    max       count      mean  ...        75%   max   \n",
       "YEAR VEHICLE CLASS                                       ...                    \n",
       "2000 COMPACT        549.00  624.0       105.0  2.348571  ...      34.00  55.0   \n",
       "     FULL-SIZE      431.25  544.0        28.0  3.710714  ...      28.25  30.0   \n",
       "     MID-SIZE       492.00  632.0        77.0  3.029870  ...      29.00  34.0   \n",
       "     MINICOMPACT    483.50  486.0        11.0  3.263636  ...      27.50  29.0   \n",
       "     MINIVAN        387.75  586.0        26.0  3.357692  ...      26.00  26.0   \n",
       "\n",
       "                   EMISSIONS                                              \\\n",
       "                       count        mean        std    min    25%    50%   \n",
       "YEAR VEHICLE CLASS                                                         \n",
       "2000 COMPACT           105.0  213.371429  33.433993  138.0  193.0  216.0   \n",
       "     FULL-SIZE          28.0  248.535714  22.802667  218.0  229.5  246.0   \n",
       "     MID-SIZE           77.0  239.000000  22.919769  189.0  223.0  235.0   \n",
       "     MINICOMPACT        11.0  257.090909  21.092437  225.0  239.5  264.0   \n",
       "     MINIVAN            26.0  266.076923  20.478131  246.0  253.0  261.0   \n",
       "\n",
       "                                  \n",
       "                      75%    max  \n",
       "YEAR VEHICLE CLASS                \n",
       "2000 COMPACT        232.0  331.0  \n",
       "     FULL-SIZE      260.5  331.0  \n",
       "     MID-SIZE       260.0  292.0  \n",
       "     MINICOMPACT    271.5  285.0  \n",
       "     MINIVAN        274.0  331.0  \n",
       "\n",
       "[5 rows x 48 columns]"
      ]
     },
     "execution_count": 10,
     "metadata": {},
     "output_type": "execute_result"
    }
   ],
   "source": [
    "dat_grouped.head()"
   ]
  },
  {
   "cell_type": "code",
   "execution_count": 11,
   "id": "14f5c666",
   "metadata": {},
   "outputs": [
    {
     "data": {
      "text/plain": [
       "2000"
      ]
     },
     "execution_count": 11,
     "metadata": {},
     "output_type": "execute_result"
    }
   ],
   "source": [
    "dat_grouped.index[0][0]"
   ]
  },
  {
   "cell_type": "code",
   "execution_count": 12,
   "id": "678eb69b",
   "metadata": {},
   "outputs": [
    {
     "data": {
      "text/plain": [
       "335"
      ]
     },
     "execution_count": 12,
     "metadata": {},
     "output_type": "execute_result"
    }
   ],
   "source": [
    "len(list(dat_grouped['COMB (mpg)']['mean']))"
   ]
  },
  {
   "cell_type": "code",
   "execution_count": 33,
   "id": "508ecf04",
   "metadata": {},
   "outputs": [
    {
     "data": {
      "application/vnd.plotly.v1+json": {
       "config": {
        "plotlyServerURL": "https://plot.ly"
       },
       "data": [
        {
         "hovertemplate": "color=COMPACT<br>x=%{x}<br>y=%{y}<extra></extra>",
         "legendgroup": "COMPACT",
         "line": {
          "color": "#636efa",
          "dash": "solid"
         },
         "marker": {
          "symbol": "circle"
         },
         "mode": "markers+lines",
         "name": "COMPACT",
         "orientation": "v",
         "showlegend": true,
         "type": "scatter",
         "x": [
          2000,
          2001,
          2002,
          2003,
          2004,
          2005,
          2006,
          2007,
          2008,
          2009,
          2010,
          2011,
          2012,
          2013,
          2014,
          2015,
          2016,
          2017,
          2018,
          2019,
          2020,
          2021,
          2022
         ],
         "xaxis": "x",
         "y": [
          31.504761904761907,
          31.93793103448276,
          31.969924812030076,
          32.37062937062937,
          31.603896103896105,
          31.698630136986303,
          31.233576642335766,
          30.25,
          30.2027027027027,
          30.326666666666668,
          32.17142857142857,
          33.653225806451616,
          35.06015037593985,
          35.214285714285715,
          36.19047619047619,
          31.333333333333332,
          31.414364640883978,
          31.60377358490566,
          32.23770491803279,
          32.43396226415094,
          32.28703703703704,
          32.92941176470588,
          33.22857142857143
         ],
         "yaxis": "y"
        },
        {
         "hovertemplate": "color=FULL-SIZE<br>x=%{x}<br>y=%{y}<extra></extra>",
         "legendgroup": "FULL-SIZE",
         "line": {
          "color": "#EF553B",
          "dash": "solid"
         },
         "marker": {
          "symbol": "circle"
         },
         "mode": "markers+lines",
         "name": "FULL-SIZE",
         "orientation": "v",
         "showlegend": true,
         "type": "scatter",
         "x": [
          2000,
          2001,
          2002,
          2003,
          2004,
          2005,
          2006,
          2007,
          2008,
          2009,
          2010,
          2011,
          2012,
          2013,
          2014,
          2015,
          2016,
          2017,
          2018,
          2019,
          2020,
          2021,
          2022
         ],
         "xaxis": "x",
         "y": [
          26.428571428571427,
          26.033333333333335,
          25.689655172413794,
          26.28,
          24.735294117647058,
          24.155555555555555,
          24.625,
          24.462962962962962,
          24.50793650793651,
          24.676470588235293,
          24.441558441558442,
          25.08450704225352,
          26.098765432098766,
          26.894736842105264,
          27.607142857142858,
          24,
          24.27777777777778,
          26.402439024390244,
          27.192660550458715,
          26.603960396039604,
          28.102564102564102,
          29,
          28.890625
         ],
         "yaxis": "y"
        },
        {
         "hovertemplate": "color=MID-SIZE<br>x=%{x}<br>y=%{y}<extra></extra>",
         "legendgroup": "MID-SIZE",
         "line": {
          "color": "#00cc96",
          "dash": "solid"
         },
         "marker": {
          "symbol": "circle"
         },
         "mode": "markers+lines",
         "name": "MID-SIZE",
         "orientation": "v",
         "showlegend": true,
         "type": "scatter",
         "x": [
          2000,
          2001,
          2002,
          2003,
          2004,
          2005,
          2006,
          2007,
          2008,
          2009,
          2010,
          2011,
          2012,
          2013,
          2014,
          2015,
          2016,
          2017,
          2018,
          2019,
          2020,
          2021,
          2022
         ],
         "xaxis": "x",
         "y": [
          27.441558441558442,
          27.353658536585368,
          27.444444444444443,
          27.48314606741573,
          27.92233009708738,
          28.140350877192983,
          28.18918918918919,
          29.115107913669064,
          28.970149253731343,
          29.024,
          29.95,
          31.96969696969697,
          32.86259541984733,
          35.44444444444444,
          35.752941176470586,
          31.044444444444444,
          31.335106382978722,
          31.166666666666668,
          31.664556962025316,
          32.66206896551724,
          31.365079365079364,
          31.42105263157895,
          31.034188034188034
         ],
         "yaxis": "y"
        },
        {
         "hovertemplate": "color=MINICOMPACT<br>x=%{x}<br>y=%{y}<extra></extra>",
         "legendgroup": "MINICOMPACT",
         "line": {
          "color": "#ab63fa",
          "dash": "solid"
         },
         "marker": {
          "symbol": "circle"
         },
         "mode": "markers+lines",
         "name": "MINICOMPACT",
         "orientation": "v",
         "showlegend": true,
         "type": "scatter",
         "x": [
          2000,
          2001,
          2002,
          2003,
          2004,
          2005,
          2006,
          2007,
          2008,
          2009,
          2010,
          2011,
          2012,
          2013,
          2014,
          2015,
          2016,
          2017,
          2018,
          2019,
          2020,
          2021,
          2022
         ],
         "xaxis": "x",
         "y": [
          25.636363636363637,
          25.235294117647058,
          25.363636363636363,
          27.575757575757574,
          29.2,
          26.256756756756758,
          28.43243243243243,
          27.5531914893617,
          27.897959183673468,
          31.023255813953487,
          30.4390243902439,
          30.169811320754718,
          30.56578947368421,
          34.41509433962264,
          33.744680851063826,
          28.593220338983052,
          28.557692307692307,
          29.84090909090909,
          28.245283018867923,
          28,
          26.652173913043477,
          24.9,
          24.224489795918366
         ],
         "yaxis": "y"
        },
        {
         "hovertemplate": "color=MINIVAN<br>x=%{x}<br>y=%{y}<extra></extra>",
         "legendgroup": "MINIVAN",
         "line": {
          "color": "#FFA15A",
          "dash": "solid"
         },
         "marker": {
          "symbol": "circle"
         },
         "mode": "markers+lines",
         "name": "MINIVAN",
         "orientation": "v",
         "showlegend": true,
         "type": "scatter",
         "x": [
          2000,
          2001,
          2002,
          2003,
          2004,
          2005,
          2006,
          2007,
          2008,
          2009,
          2010,
          2011,
          2012,
          2013,
          2014,
          2015,
          2016,
          2017,
          2018,
          2019,
          2020,
          2021,
          2022
         ],
         "xaxis": "x",
         "y": [
          23.96153846153846,
          24.88235294117647,
          24.545454545454547,
          24.392857142857142,
          25.571428571428573,
          24.727272727272727,
          24.714285714285715,
          24.08823529411765,
          25,
          26,
          26.142857142857142,
          25.5,
          27.375,
          27.2,
          26.928571428571427,
          23.8,
          23.916666666666668,
          25,
          24.454545454545453,
          24.666666666666668,
          25.5,
          30.714285714285715,
          31
         ],
         "yaxis": "y"
        },
        {
         "hovertemplate": "color=PICKUP TRUCK - SMALL<br>x=%{x}<br>y=%{y}<extra></extra>",
         "legendgroup": "PICKUP TRUCK - SMALL",
         "line": {
          "color": "#19d3f3",
          "dash": "solid"
         },
         "marker": {
          "symbol": "circle"
         },
         "mode": "markers+lines",
         "name": "PICKUP TRUCK - SMALL",
         "orientation": "v",
         "showlegend": true,
         "type": "scatter",
         "x": [
          2000,
          2001,
          2002,
          2003,
          2004,
          2008,
          2009,
          2010,
          2011,
          2012,
          2013,
          2014,
          2015,
          2016,
          2017,
          2018,
          2019,
          2020,
          2021,
          2022
         ],
         "xaxis": "x",
         "y": [
          26.272727272727273,
          23.5,
          23.166666666666668,
          24.75,
          20,
          24.76923076923077,
          25.338983050847457,
          25.48148148148148,
          25.529411764705884,
          25.767441860465116,
          26.583333333333332,
          26.5,
          23.954545454545453,
          24.884615384615383,
          24.392857142857142,
          24.296296296296298,
          24.16,
          24.526315789473685,
          24.58823529411765,
          26
         ],
         "yaxis": "y"
        },
        {
         "hovertemplate": "color=PICKUP TRUCK - STANDARD<br>x=%{x}<br>y=%{y}<extra></extra>",
         "legendgroup": "PICKUP TRUCK - STANDARD",
         "line": {
          "color": "#FF6692",
          "dash": "solid"
         },
         "marker": {
          "symbol": "circle"
         },
         "mode": "markers+lines",
         "name": "PICKUP TRUCK - STANDARD",
         "orientation": "v",
         "showlegend": true,
         "type": "scatter",
         "x": [
          2000,
          2001,
          2002,
          2003,
          2004,
          2005,
          2006,
          2007,
          2008,
          2009,
          2010,
          2011,
          2012,
          2013,
          2014,
          2015,
          2016,
          2017,
          2018,
          2019,
          2020,
          2021,
          2022
         ],
         "xaxis": "x",
         "y": [
          20.945652173913043,
          20.792079207920793,
          20.177570093457945,
          21.00943396226415,
          20.66393442622951,
          21.393700787401574,
          21.907801418439718,
          21.623376623376622,
          20.09722222222222,
          20.54736842105263,
          20.054794520547944,
          20.270588235294117,
          20.468354430379748,
          20.726190476190474,
          22.112903225806452,
          20.48076923076923,
          20.5,
          20.56,
          21.329896907216494,
          21.32323232323232,
          22.13186813186813,
          21.8,
          21.460176991150444
         ],
         "yaxis": "y"
        },
        {
         "hovertemplate": "color=STATION WAGON - MID-SIZE<br>x=%{x}<br>y=%{y}<extra></extra>",
         "legendgroup": "STATION WAGON - MID-SIZE",
         "line": {
          "color": "#B6E880",
          "dash": "solid"
         },
         "marker": {
          "symbol": "circle"
         },
         "mode": "markers+lines",
         "name": "STATION WAGON - MID-SIZE",
         "orientation": "v",
         "showlegend": true,
         "type": "scatter",
         "x": [
          2000,
          2001,
          2002,
          2003,
          2004,
          2005,
          2006,
          2007,
          2008,
          2009,
          2010,
          2011,
          2012,
          2013,
          2014,
          2015,
          2016,
          2017,
          2018,
          2019,
          2020,
          2021,
          2022
         ],
         "xaxis": "x",
         "y": [
          28.44,
          28.870967741935484,
          29.15625,
          29,
          28.414634146341463,
          28.210526315789473,
          28.035714285714285,
          28.625,
          28.5,
          28.53846153846154,
          28.88888888888889,
          28.5,
          35,
          39,
          35.5,
          30.625,
          30.857142857142858,
          32.125,
          30.2,
          26.11111111111111,
          24,
          24,
          24.25
         ],
         "yaxis": "y"
        },
        {
         "hovertemplate": "color=STATION WAGON - SMALL<br>x=%{x}<br>y=%{y}<extra></extra>",
         "legendgroup": "STATION WAGON - SMALL",
         "line": {
          "color": "#FF97FF",
          "dash": "solid"
         },
         "marker": {
          "symbol": "circle"
         },
         "mode": "markers+lines",
         "name": "STATION WAGON - SMALL",
         "orientation": "v",
         "showlegend": true,
         "type": "scatter",
         "x": [
          2000,
          2001,
          2002,
          2003,
          2004,
          2005,
          2006,
          2007,
          2008,
          2009,
          2010,
          2011,
          2012,
          2013,
          2014,
          2015,
          2016,
          2017,
          2018,
          2019,
          2020,
          2021,
          2022
         ],
         "xaxis": "x",
         "y": [
          31.692307692307693,
          31.916666666666668,
          29.27777777777778,
          31.644444444444446,
          31.27906976744186,
          30.814814814814813,
          31.735849056603772,
          31.59090909090909,
          31.58139534883721,
          32.351851851851855,
          33.56666666666667,
          33.55357142857143,
          34.57446808510638,
          34.79545454545455,
          35.470588235294116,
          33.48571428571429,
          33.270270270270274,
          35.06666666666667,
          35.17948717948718,
          34.891891891891895,
          36.2,
          36.4,
          36.26315789473684
         ],
         "yaxis": "y"
        },
        {
         "hovertemplate": "color=SUBCOMPACT<br>x=%{x}<br>y=%{y}<extra></extra>",
         "legendgroup": "SUBCOMPACT",
         "line": {
          "color": "#FECB52",
          "dash": "solid"
         },
         "marker": {
          "symbol": "circle"
         },
         "mode": "markers+lines",
         "name": "SUBCOMPACT",
         "orientation": "v",
         "showlegend": true,
         "type": "scatter",
         "x": [
          2000,
          2001,
          2002,
          2003,
          2004,
          2005,
          2006,
          2007,
          2008,
          2009,
          2010,
          2011,
          2012,
          2013,
          2014,
          2015,
          2016,
          2017,
          2018,
          2019,
          2020,
          2021,
          2022
         ],
         "xaxis": "x",
         "y": [
          31.48076923076923,
          31.258064516129032,
          29.15068493150685,
          27.984615384615385,
          28.96511627906977,
          29.82758620689655,
          29.743589743589745,
          29.50602409638554,
          29.86,
          29.98989898989899,
          30.510204081632654,
          31.01923076923077,
          30.735294117647058,
          30.63157894736842,
          31.903225806451612,
          28.66304347826087,
          28.513157894736842,
          27.580645161290324,
          27.78125,
          27.948979591836736,
          26.821052631578947,
          27.373493975903614,
          27.620253164556964
         ],
         "yaxis": "y"
        },
        {
         "hovertemplate": "color=SUV<br>x=%{x}<br>y=%{y}<extra></extra>",
         "legendgroup": "SUV",
         "line": {
          "color": "#636efa",
          "dash": "solid"
         },
         "marker": {
          "symbol": "circle"
         },
         "mode": "markers+lines",
         "name": "SUV",
         "orientation": "v",
         "showlegend": true,
         "type": "scatter",
         "x": [
          2000,
          2001,
          2002,
          2003,
          2004,
          2005,
          2006,
          2007,
          2008,
          2009,
          2010,
          2011,
          2012
         ],
         "xaxis": "x",
         "y": [
          22.84536082474227,
          23.081632653061224,
          22.572580645161292,
          22.5125,
          21.957894736842107,
          23,
          23.755656108597286,
          24.748953974895397,
          24.95505617977528,
          25.100746268656717,
          26.417670682730925,
          26.600746268656717,
          26.57872340425532
         ],
         "yaxis": "y"
        },
        {
         "hovertemplate": "color=TWO-SEATER<br>x=%{x}<br>y=%{y}<extra></extra>",
         "legendgroup": "TWO-SEATER",
         "line": {
          "color": "#EF553B",
          "dash": "solid"
         },
         "marker": {
          "symbol": "circle"
         },
         "mode": "markers+lines",
         "name": "TWO-SEATER",
         "orientation": "v",
         "showlegend": true,
         "type": "scatter",
         "x": [
          2000,
          2001,
          2002,
          2003,
          2004,
          2005,
          2006,
          2007,
          2008,
          2009,
          2010,
          2011,
          2012,
          2013,
          2014,
          2015,
          2016,
          2017,
          2018,
          2019,
          2020,
          2021,
          2022
         ],
         "xaxis": "x",
         "y": [
          23.4,
          27.548387096774192,
          25.972972972972972,
          25.475,
          25.065217391304348,
          26.03846153846154,
          26.93877551020408,
          25.049180327868854,
          25.575342465753426,
          24.109375,
          25.16949152542373,
          26.65625,
          29.289473684210527,
          31.75862068965517,
          31.271428571428572,
          26.404761904761905,
          25.441176470588236,
          24.75438596491228,
          24.333333333333332,
          24.37142857142857,
          24.421875,
          23,
          23.15686274509804
         ],
         "yaxis": "y"
        },
        {
         "hovertemplate": "color=VAN - CARGO<br>x=%{x}<br>y=%{y}<extra></extra>",
         "legendgroup": "VAN - CARGO",
         "line": {
          "color": "#00cc96",
          "dash": "solid"
         },
         "marker": {
          "symbol": "circle"
         },
         "mode": "markers+lines",
         "name": "VAN - CARGO",
         "orientation": "v",
         "showlegend": true,
         "type": "scatter",
         "x": [
          2000,
          2001,
          2002,
          2003,
          2004,
          2005,
          2006,
          2007,
          2008,
          2009,
          2010,
          2011,
          2012,
          2013,
          2014
         ],
         "xaxis": "x",
         "y": [
          19.82608695652174,
          19.26086956521739,
          19.434782608695652,
          18.666666666666668,
          18.80952380952381,
          20.384615384615383,
          20.214285714285715,
          18.666666666666668,
          18.53846153846154,
          18.53846153846154,
          17.666666666666668,
          17.454545454545453,
          17.40909090909091,
          17.40909090909091,
          17.318181818181817
         ],
         "yaxis": "y"
        },
        {
         "hovertemplate": "color=VAN - PASSENGER<br>x=%{x}<br>y=%{y}<extra></extra>",
         "legendgroup": "VAN - PASSENGER",
         "line": {
          "color": "#ab63fa",
          "dash": "solid"
         },
         "marker": {
          "symbol": "circle"
         },
         "mode": "markers+lines",
         "name": "VAN - PASSENGER",
         "orientation": "v",
         "showlegend": true,
         "type": "scatter",
         "x": [
          2000,
          2001,
          2002,
          2003,
          2004,
          2005,
          2006,
          2007,
          2008,
          2009,
          2010,
          2011,
          2012,
          2013,
          2014,
          2015,
          2016,
          2017,
          2018,
          2019,
          2020,
          2021
         ],
         "xaxis": "x",
         "y": [
          18.647058823529413,
          19.055555555555557,
          18.77777777777778,
          18.615384615384617,
          19.181818181818183,
          19.666666666666668,
          19.75,
          17.5,
          17.666666666666668,
          17.666666666666668,
          16.75,
          15.62962962962963,
          15.612903225806452,
          15.633333333333333,
          16,
          14.736842105263158,
          15.571428571428571,
          16,
          19,
          19,
          16.75,
          16.75
         ],
         "yaxis": "y"
        },
        {
         "hovertemplate": "color=SUV - STANDARD<br>x=%{x}<br>y=%{y}<extra></extra>",
         "legendgroup": "SUV - STANDARD",
         "line": {
          "color": "#FFA15A",
          "dash": "solid"
         },
         "marker": {
          "symbol": "circle"
         },
         "mode": "markers+lines",
         "name": "SUV - STANDARD",
         "orientation": "v",
         "showlegend": true,
         "type": "scatter",
         "x": [
          2007,
          2012,
          2013,
          2014,
          2015,
          2016,
          2017,
          2018,
          2019,
          2020,
          2021,
          2022
         ],
         "xaxis": "x",
         "y": [
          20,
          25.5,
          22.396039603960396,
          22.813725490196077,
          21.08080808080808,
          21.850467289719628,
          21.598039215686274,
          21.601941747572816,
          21.756756756756758,
          22.084745762711865,
          22.58267716535433,
          22.463087248322147
         ],
         "yaxis": "y"
        },
        {
         "hovertemplate": "color=SPECIAL PURPOSE VEHICLE<br>x=%{x}<br>y=%{y}<extra></extra>",
         "legendgroup": "SPECIAL PURPOSE VEHICLE",
         "line": {
          "color": "#19d3f3",
          "dash": "solid"
         },
         "marker": {
          "symbol": "circle"
         },
         "mode": "markers+lines",
         "name": "SPECIAL PURPOSE VEHICLE",
         "orientation": "v",
         "showlegend": true,
         "type": "scatter",
         "x": [
          2010,
          2011,
          2012,
          2013,
          2014,
          2015,
          2016,
          2017,
          2018,
          2019,
          2020,
          2021,
          2022
         ],
         "xaxis": "x",
         "y": [
          32,
          31,
          32.5,
          31.6,
          31.857142857142858,
          28.22222222222222,
          25.647058823529413,
          25.8,
          25.4,
          27.071428571428573,
          27.615384615384617,
          27.076923076923077,
          26.75
         ],
         "yaxis": "y"
        },
        {
         "hovertemplate": "color=SUV - SMALL<br>x=%{x}<br>y=%{y}<extra></extra>",
         "legendgroup": "SUV - SMALL",
         "line": {
          "color": "#FF6692",
          "dash": "solid"
         },
         "marker": {
          "symbol": "circle"
         },
         "mode": "markers+lines",
         "name": "SUV - SMALL",
         "orientation": "v",
         "showlegend": true,
         "type": "scatter",
         "x": [
          2013,
          2014,
          2015,
          2016,
          2017,
          2018,
          2019,
          2020,
          2021,
          2022
         ],
         "xaxis": "x",
         "y": [
          30.892086330935253,
          31.316129032258065,
          27.70949720670391,
          28.227777777777778,
          27.775862068965516,
          28.372881355932204,
          28.913793103448278,
          28.824468085106382,
          29.435233160621763,
          29.781725888324875
         ],
         "yaxis": "y"
        }
       ],
       "layout": {
        "legend": {
         "title": {
          "text": "Vehicle Class"
         },
         "tracegroupgap": 0
        },
        "margin": {
         "t": 60
        },
        "template": {
         "data": {
          "bar": [
           {
            "error_x": {
             "color": "#2a3f5f"
            },
            "error_y": {
             "color": "#2a3f5f"
            },
            "marker": {
             "line": {
              "color": "#E5ECF6",
              "width": 0.5
             },
             "pattern": {
              "fillmode": "overlay",
              "size": 10,
              "solidity": 0.2
             }
            },
            "type": "bar"
           }
          ],
          "barpolar": [
           {
            "marker": {
             "line": {
              "color": "#E5ECF6",
              "width": 0.5
             },
             "pattern": {
              "fillmode": "overlay",
              "size": 10,
              "solidity": 0.2
             }
            },
            "type": "barpolar"
           }
          ],
          "carpet": [
           {
            "aaxis": {
             "endlinecolor": "#2a3f5f",
             "gridcolor": "white",
             "linecolor": "white",
             "minorgridcolor": "white",
             "startlinecolor": "#2a3f5f"
            },
            "baxis": {
             "endlinecolor": "#2a3f5f",
             "gridcolor": "white",
             "linecolor": "white",
             "minorgridcolor": "white",
             "startlinecolor": "#2a3f5f"
            },
            "type": "carpet"
           }
          ],
          "choropleth": [
           {
            "colorbar": {
             "outlinewidth": 0,
             "ticks": ""
            },
            "type": "choropleth"
           }
          ],
          "contour": [
           {
            "colorbar": {
             "outlinewidth": 0,
             "ticks": ""
            },
            "colorscale": [
             [
              0,
              "#0d0887"
             ],
             [
              0.1111111111111111,
              "#46039f"
             ],
             [
              0.2222222222222222,
              "#7201a8"
             ],
             [
              0.3333333333333333,
              "#9c179e"
             ],
             [
              0.4444444444444444,
              "#bd3786"
             ],
             [
              0.5555555555555556,
              "#d8576b"
             ],
             [
              0.6666666666666666,
              "#ed7953"
             ],
             [
              0.7777777777777778,
              "#fb9f3a"
             ],
             [
              0.8888888888888888,
              "#fdca26"
             ],
             [
              1,
              "#f0f921"
             ]
            ],
            "type": "contour"
           }
          ],
          "contourcarpet": [
           {
            "colorbar": {
             "outlinewidth": 0,
             "ticks": ""
            },
            "type": "contourcarpet"
           }
          ],
          "heatmap": [
           {
            "colorbar": {
             "outlinewidth": 0,
             "ticks": ""
            },
            "colorscale": [
             [
              0,
              "#0d0887"
             ],
             [
              0.1111111111111111,
              "#46039f"
             ],
             [
              0.2222222222222222,
              "#7201a8"
             ],
             [
              0.3333333333333333,
              "#9c179e"
             ],
             [
              0.4444444444444444,
              "#bd3786"
             ],
             [
              0.5555555555555556,
              "#d8576b"
             ],
             [
              0.6666666666666666,
              "#ed7953"
             ],
             [
              0.7777777777777778,
              "#fb9f3a"
             ],
             [
              0.8888888888888888,
              "#fdca26"
             ],
             [
              1,
              "#f0f921"
             ]
            ],
            "type": "heatmap"
           }
          ],
          "heatmapgl": [
           {
            "colorbar": {
             "outlinewidth": 0,
             "ticks": ""
            },
            "colorscale": [
             [
              0,
              "#0d0887"
             ],
             [
              0.1111111111111111,
              "#46039f"
             ],
             [
              0.2222222222222222,
              "#7201a8"
             ],
             [
              0.3333333333333333,
              "#9c179e"
             ],
             [
              0.4444444444444444,
              "#bd3786"
             ],
             [
              0.5555555555555556,
              "#d8576b"
             ],
             [
              0.6666666666666666,
              "#ed7953"
             ],
             [
              0.7777777777777778,
              "#fb9f3a"
             ],
             [
              0.8888888888888888,
              "#fdca26"
             ],
             [
              1,
              "#f0f921"
             ]
            ],
            "type": "heatmapgl"
           }
          ],
          "histogram": [
           {
            "marker": {
             "pattern": {
              "fillmode": "overlay",
              "size": 10,
              "solidity": 0.2
             }
            },
            "type": "histogram"
           }
          ],
          "histogram2d": [
           {
            "colorbar": {
             "outlinewidth": 0,
             "ticks": ""
            },
            "colorscale": [
             [
              0,
              "#0d0887"
             ],
             [
              0.1111111111111111,
              "#46039f"
             ],
             [
              0.2222222222222222,
              "#7201a8"
             ],
             [
              0.3333333333333333,
              "#9c179e"
             ],
             [
              0.4444444444444444,
              "#bd3786"
             ],
             [
              0.5555555555555556,
              "#d8576b"
             ],
             [
              0.6666666666666666,
              "#ed7953"
             ],
             [
              0.7777777777777778,
              "#fb9f3a"
             ],
             [
              0.8888888888888888,
              "#fdca26"
             ],
             [
              1,
              "#f0f921"
             ]
            ],
            "type": "histogram2d"
           }
          ],
          "histogram2dcontour": [
           {
            "colorbar": {
             "outlinewidth": 0,
             "ticks": ""
            },
            "colorscale": [
             [
              0,
              "#0d0887"
             ],
             [
              0.1111111111111111,
              "#46039f"
             ],
             [
              0.2222222222222222,
              "#7201a8"
             ],
             [
              0.3333333333333333,
              "#9c179e"
             ],
             [
              0.4444444444444444,
              "#bd3786"
             ],
             [
              0.5555555555555556,
              "#d8576b"
             ],
             [
              0.6666666666666666,
              "#ed7953"
             ],
             [
              0.7777777777777778,
              "#fb9f3a"
             ],
             [
              0.8888888888888888,
              "#fdca26"
             ],
             [
              1,
              "#f0f921"
             ]
            ],
            "type": "histogram2dcontour"
           }
          ],
          "mesh3d": [
           {
            "colorbar": {
             "outlinewidth": 0,
             "ticks": ""
            },
            "type": "mesh3d"
           }
          ],
          "parcoords": [
           {
            "line": {
             "colorbar": {
              "outlinewidth": 0,
              "ticks": ""
             }
            },
            "type": "parcoords"
           }
          ],
          "pie": [
           {
            "automargin": true,
            "type": "pie"
           }
          ],
          "scatter": [
           {
            "fillpattern": {
             "fillmode": "overlay",
             "size": 10,
             "solidity": 0.2
            },
            "type": "scatter"
           }
          ],
          "scatter3d": [
           {
            "line": {
             "colorbar": {
              "outlinewidth": 0,
              "ticks": ""
             }
            },
            "marker": {
             "colorbar": {
              "outlinewidth": 0,
              "ticks": ""
             }
            },
            "type": "scatter3d"
           }
          ],
          "scattercarpet": [
           {
            "marker": {
             "colorbar": {
              "outlinewidth": 0,
              "ticks": ""
             }
            },
            "type": "scattercarpet"
           }
          ],
          "scattergeo": [
           {
            "marker": {
             "colorbar": {
              "outlinewidth": 0,
              "ticks": ""
             }
            },
            "type": "scattergeo"
           }
          ],
          "scattergl": [
           {
            "marker": {
             "colorbar": {
              "outlinewidth": 0,
              "ticks": ""
             }
            },
            "type": "scattergl"
           }
          ],
          "scattermapbox": [
           {
            "marker": {
             "colorbar": {
              "outlinewidth": 0,
              "ticks": ""
             }
            },
            "type": "scattermapbox"
           }
          ],
          "scatterpolar": [
           {
            "marker": {
             "colorbar": {
              "outlinewidth": 0,
              "ticks": ""
             }
            },
            "type": "scatterpolar"
           }
          ],
          "scatterpolargl": [
           {
            "marker": {
             "colorbar": {
              "outlinewidth": 0,
              "ticks": ""
             }
            },
            "type": "scatterpolargl"
           }
          ],
          "scatterternary": [
           {
            "marker": {
             "colorbar": {
              "outlinewidth": 0,
              "ticks": ""
             }
            },
            "type": "scatterternary"
           }
          ],
          "surface": [
           {
            "colorbar": {
             "outlinewidth": 0,
             "ticks": ""
            },
            "colorscale": [
             [
              0,
              "#0d0887"
             ],
             [
              0.1111111111111111,
              "#46039f"
             ],
             [
              0.2222222222222222,
              "#7201a8"
             ],
             [
              0.3333333333333333,
              "#9c179e"
             ],
             [
              0.4444444444444444,
              "#bd3786"
             ],
             [
              0.5555555555555556,
              "#d8576b"
             ],
             [
              0.6666666666666666,
              "#ed7953"
             ],
             [
              0.7777777777777778,
              "#fb9f3a"
             ],
             [
              0.8888888888888888,
              "#fdca26"
             ],
             [
              1,
              "#f0f921"
             ]
            ],
            "type": "surface"
           }
          ],
          "table": [
           {
            "cells": {
             "fill": {
              "color": "#EBF0F8"
             },
             "line": {
              "color": "white"
             }
            },
            "header": {
             "fill": {
              "color": "#C8D4E3"
             },
             "line": {
              "color": "white"
             }
            },
            "type": "table"
           }
          ]
         },
         "layout": {
          "annotationdefaults": {
           "arrowcolor": "#2a3f5f",
           "arrowhead": 0,
           "arrowwidth": 1
          },
          "autotypenumbers": "strict",
          "coloraxis": {
           "colorbar": {
            "outlinewidth": 0,
            "ticks": ""
           }
          },
          "colorscale": {
           "diverging": [
            [
             0,
             "#8e0152"
            ],
            [
             0.1,
             "#c51b7d"
            ],
            [
             0.2,
             "#de77ae"
            ],
            [
             0.3,
             "#f1b6da"
            ],
            [
             0.4,
             "#fde0ef"
            ],
            [
             0.5,
             "#f7f7f7"
            ],
            [
             0.6,
             "#e6f5d0"
            ],
            [
             0.7,
             "#b8e186"
            ],
            [
             0.8,
             "#7fbc41"
            ],
            [
             0.9,
             "#4d9221"
            ],
            [
             1,
             "#276419"
            ]
           ],
           "sequential": [
            [
             0,
             "#0d0887"
            ],
            [
             0.1111111111111111,
             "#46039f"
            ],
            [
             0.2222222222222222,
             "#7201a8"
            ],
            [
             0.3333333333333333,
             "#9c179e"
            ],
            [
             0.4444444444444444,
             "#bd3786"
            ],
            [
             0.5555555555555556,
             "#d8576b"
            ],
            [
             0.6666666666666666,
             "#ed7953"
            ],
            [
             0.7777777777777778,
             "#fb9f3a"
            ],
            [
             0.8888888888888888,
             "#fdca26"
            ],
            [
             1,
             "#f0f921"
            ]
           ],
           "sequentialminus": [
            [
             0,
             "#0d0887"
            ],
            [
             0.1111111111111111,
             "#46039f"
            ],
            [
             0.2222222222222222,
             "#7201a8"
            ],
            [
             0.3333333333333333,
             "#9c179e"
            ],
            [
             0.4444444444444444,
             "#bd3786"
            ],
            [
             0.5555555555555556,
             "#d8576b"
            ],
            [
             0.6666666666666666,
             "#ed7953"
            ],
            [
             0.7777777777777778,
             "#fb9f3a"
            ],
            [
             0.8888888888888888,
             "#fdca26"
            ],
            [
             1,
             "#f0f921"
            ]
           ]
          },
          "colorway": [
           "#636efa",
           "#EF553B",
           "#00cc96",
           "#ab63fa",
           "#FFA15A",
           "#19d3f3",
           "#FF6692",
           "#B6E880",
           "#FF97FF",
           "#FECB52"
          ],
          "font": {
           "color": "#2a3f5f"
          },
          "geo": {
           "bgcolor": "white",
           "lakecolor": "white",
           "landcolor": "#E5ECF6",
           "showlakes": true,
           "showland": true,
           "subunitcolor": "white"
          },
          "hoverlabel": {
           "align": "left"
          },
          "hovermode": "closest",
          "mapbox": {
           "style": "light"
          },
          "paper_bgcolor": "white",
          "plot_bgcolor": "#E5ECF6",
          "polar": {
           "angularaxis": {
            "gridcolor": "white",
            "linecolor": "white",
            "ticks": ""
           },
           "bgcolor": "#E5ECF6",
           "radialaxis": {
            "gridcolor": "white",
            "linecolor": "white",
            "ticks": ""
           }
          },
          "scene": {
           "xaxis": {
            "backgroundcolor": "#E5ECF6",
            "gridcolor": "white",
            "gridwidth": 2,
            "linecolor": "white",
            "showbackground": true,
            "ticks": "",
            "zerolinecolor": "white"
           },
           "yaxis": {
            "backgroundcolor": "#E5ECF6",
            "gridcolor": "white",
            "gridwidth": 2,
            "linecolor": "white",
            "showbackground": true,
            "ticks": "",
            "zerolinecolor": "white"
           },
           "zaxis": {
            "backgroundcolor": "#E5ECF6",
            "gridcolor": "white",
            "gridwidth": 2,
            "linecolor": "white",
            "showbackground": true,
            "ticks": "",
            "zerolinecolor": "white"
           }
          },
          "shapedefaults": {
           "line": {
            "color": "#2a3f5f"
           }
          },
          "ternary": {
           "aaxis": {
            "gridcolor": "white",
            "linecolor": "white",
            "ticks": ""
           },
           "baxis": {
            "gridcolor": "white",
            "linecolor": "white",
            "ticks": ""
           },
           "bgcolor": "#E5ECF6",
           "caxis": {
            "gridcolor": "white",
            "linecolor": "white",
            "ticks": ""
           }
          },
          "title": {
           "x": 0.05
          },
          "xaxis": {
           "automargin": true,
           "gridcolor": "white",
           "linecolor": "white",
           "ticks": "",
           "title": {
            "standoff": 15
           },
           "zerolinecolor": "white",
           "zerolinewidth": 2
          },
          "yaxis": {
           "automargin": true,
           "gridcolor": "white",
           "linecolor": "white",
           "ticks": "",
           "title": {
            "standoff": 15
           },
           "zerolinecolor": "white",
           "zerolinewidth": 2
          }
         }
        },
        "title": {
         "text": "Yearly MPG Average by Vehicle Class"
        },
        "xaxis": {
         "anchor": "y",
         "domain": [
          0,
          1
         ],
         "title": {
          "text": "Year"
         }
        },
        "yaxis": {
         "anchor": "x",
         "domain": [
          0,
          1
         ],
         "title": {
          "text": "Combined Average MPG"
         }
        }
       }
      },
      "text/html": [
       "<div>                            <div id=\"0b61a59b-bd77-48e1-9d61-e5509166292d\" class=\"plotly-graph-div\" style=\"height:525px; width:100%;\"></div>            <script type=\"text/javascript\">                require([\"plotly\"], function(Plotly) {                    window.PLOTLYENV=window.PLOTLYENV || {};                                    if (document.getElementById(\"0b61a59b-bd77-48e1-9d61-e5509166292d\")) {                    Plotly.newPlot(                        \"0b61a59b-bd77-48e1-9d61-e5509166292d\",                        [{\"hovertemplate\":\"color=COMPACT<br>x=%{x}<br>y=%{y}<extra></extra>\",\"legendgroup\":\"COMPACT\",\"line\":{\"color\":\"#636efa\",\"dash\":\"solid\"},\"marker\":{\"symbol\":\"circle\"},\"mode\":\"markers+lines\",\"name\":\"COMPACT\",\"orientation\":\"v\",\"showlegend\":true,\"x\":[2000,2001,2002,2003,2004,2005,2006,2007,2008,2009,2010,2011,2012,2013,2014,2015,2016,2017,2018,2019,2020,2021,2022],\"xaxis\":\"x\",\"y\":[31.504761904761907,31.93793103448276,31.969924812030076,32.37062937062937,31.603896103896105,31.698630136986303,31.233576642335766,30.25,30.2027027027027,30.326666666666668,32.17142857142857,33.653225806451616,35.06015037593985,35.214285714285715,36.19047619047619,31.333333333333332,31.414364640883978,31.60377358490566,32.23770491803279,32.43396226415094,32.28703703703704,32.92941176470588,33.22857142857143],\"yaxis\":\"y\",\"type\":\"scatter\"},{\"hovertemplate\":\"color=FULL-SIZE<br>x=%{x}<br>y=%{y}<extra></extra>\",\"legendgroup\":\"FULL-SIZE\",\"line\":{\"color\":\"#EF553B\",\"dash\":\"solid\"},\"marker\":{\"symbol\":\"circle\"},\"mode\":\"markers+lines\",\"name\":\"FULL-SIZE\",\"orientation\":\"v\",\"showlegend\":true,\"x\":[2000,2001,2002,2003,2004,2005,2006,2007,2008,2009,2010,2011,2012,2013,2014,2015,2016,2017,2018,2019,2020,2021,2022],\"xaxis\":\"x\",\"y\":[26.428571428571427,26.033333333333335,25.689655172413794,26.28,24.735294117647058,24.155555555555555,24.625,24.462962962962962,24.50793650793651,24.676470588235293,24.441558441558442,25.08450704225352,26.098765432098766,26.894736842105264,27.607142857142858,24.0,24.27777777777778,26.402439024390244,27.192660550458715,26.603960396039604,28.102564102564102,29.0,28.890625],\"yaxis\":\"y\",\"type\":\"scatter\"},{\"hovertemplate\":\"color=MID-SIZE<br>x=%{x}<br>y=%{y}<extra></extra>\",\"legendgroup\":\"MID-SIZE\",\"line\":{\"color\":\"#00cc96\",\"dash\":\"solid\"},\"marker\":{\"symbol\":\"circle\"},\"mode\":\"markers+lines\",\"name\":\"MID-SIZE\",\"orientation\":\"v\",\"showlegend\":true,\"x\":[2000,2001,2002,2003,2004,2005,2006,2007,2008,2009,2010,2011,2012,2013,2014,2015,2016,2017,2018,2019,2020,2021,2022],\"xaxis\":\"x\",\"y\":[27.441558441558442,27.353658536585368,27.444444444444443,27.48314606741573,27.92233009708738,28.140350877192983,28.18918918918919,29.115107913669064,28.970149253731343,29.024,29.95,31.96969696969697,32.86259541984733,35.44444444444444,35.752941176470586,31.044444444444444,31.335106382978722,31.166666666666668,31.664556962025316,32.66206896551724,31.365079365079364,31.42105263157895,31.034188034188034],\"yaxis\":\"y\",\"type\":\"scatter\"},{\"hovertemplate\":\"color=MINICOMPACT<br>x=%{x}<br>y=%{y}<extra></extra>\",\"legendgroup\":\"MINICOMPACT\",\"line\":{\"color\":\"#ab63fa\",\"dash\":\"solid\"},\"marker\":{\"symbol\":\"circle\"},\"mode\":\"markers+lines\",\"name\":\"MINICOMPACT\",\"orientation\":\"v\",\"showlegend\":true,\"x\":[2000,2001,2002,2003,2004,2005,2006,2007,2008,2009,2010,2011,2012,2013,2014,2015,2016,2017,2018,2019,2020,2021,2022],\"xaxis\":\"x\",\"y\":[25.636363636363637,25.235294117647058,25.363636363636363,27.575757575757574,29.2,26.256756756756758,28.43243243243243,27.5531914893617,27.897959183673468,31.023255813953487,30.4390243902439,30.169811320754718,30.56578947368421,34.41509433962264,33.744680851063826,28.593220338983052,28.557692307692307,29.84090909090909,28.245283018867923,28.0,26.652173913043477,24.9,24.224489795918366],\"yaxis\":\"y\",\"type\":\"scatter\"},{\"hovertemplate\":\"color=MINIVAN<br>x=%{x}<br>y=%{y}<extra></extra>\",\"legendgroup\":\"MINIVAN\",\"line\":{\"color\":\"#FFA15A\",\"dash\":\"solid\"},\"marker\":{\"symbol\":\"circle\"},\"mode\":\"markers+lines\",\"name\":\"MINIVAN\",\"orientation\":\"v\",\"showlegend\":true,\"x\":[2000,2001,2002,2003,2004,2005,2006,2007,2008,2009,2010,2011,2012,2013,2014,2015,2016,2017,2018,2019,2020,2021,2022],\"xaxis\":\"x\",\"y\":[23.96153846153846,24.88235294117647,24.545454545454547,24.392857142857142,25.571428571428573,24.727272727272727,24.714285714285715,24.08823529411765,25.0,26.0,26.142857142857142,25.5,27.375,27.2,26.928571428571427,23.8,23.916666666666668,25.0,24.454545454545453,24.666666666666668,25.5,30.714285714285715,31.0],\"yaxis\":\"y\",\"type\":\"scatter\"},{\"hovertemplate\":\"color=PICKUP TRUCK - SMALL<br>x=%{x}<br>y=%{y}<extra></extra>\",\"legendgroup\":\"PICKUP TRUCK - SMALL\",\"line\":{\"color\":\"#19d3f3\",\"dash\":\"solid\"},\"marker\":{\"symbol\":\"circle\"},\"mode\":\"markers+lines\",\"name\":\"PICKUP TRUCK - SMALL\",\"orientation\":\"v\",\"showlegend\":true,\"x\":[2000,2001,2002,2003,2004,2008,2009,2010,2011,2012,2013,2014,2015,2016,2017,2018,2019,2020,2021,2022],\"xaxis\":\"x\",\"y\":[26.272727272727273,23.5,23.166666666666668,24.75,20.0,24.76923076923077,25.338983050847457,25.48148148148148,25.529411764705884,25.767441860465116,26.583333333333332,26.5,23.954545454545453,24.884615384615383,24.392857142857142,24.296296296296298,24.16,24.526315789473685,24.58823529411765,26.0],\"yaxis\":\"y\",\"type\":\"scatter\"},{\"hovertemplate\":\"color=PICKUP TRUCK - STANDARD<br>x=%{x}<br>y=%{y}<extra></extra>\",\"legendgroup\":\"PICKUP TRUCK - STANDARD\",\"line\":{\"color\":\"#FF6692\",\"dash\":\"solid\"},\"marker\":{\"symbol\":\"circle\"},\"mode\":\"markers+lines\",\"name\":\"PICKUP TRUCK - STANDARD\",\"orientation\":\"v\",\"showlegend\":true,\"x\":[2000,2001,2002,2003,2004,2005,2006,2007,2008,2009,2010,2011,2012,2013,2014,2015,2016,2017,2018,2019,2020,2021,2022],\"xaxis\":\"x\",\"y\":[20.945652173913043,20.792079207920793,20.177570093457945,21.00943396226415,20.66393442622951,21.393700787401574,21.907801418439718,21.623376623376622,20.09722222222222,20.54736842105263,20.054794520547944,20.270588235294117,20.468354430379748,20.726190476190474,22.112903225806452,20.48076923076923,20.5,20.56,21.329896907216494,21.32323232323232,22.13186813186813,21.8,21.460176991150444],\"yaxis\":\"y\",\"type\":\"scatter\"},{\"hovertemplate\":\"color=STATION WAGON - MID-SIZE<br>x=%{x}<br>y=%{y}<extra></extra>\",\"legendgroup\":\"STATION WAGON - MID-SIZE\",\"line\":{\"color\":\"#B6E880\",\"dash\":\"solid\"},\"marker\":{\"symbol\":\"circle\"},\"mode\":\"markers+lines\",\"name\":\"STATION WAGON - MID-SIZE\",\"orientation\":\"v\",\"showlegend\":true,\"x\":[2000,2001,2002,2003,2004,2005,2006,2007,2008,2009,2010,2011,2012,2013,2014,2015,2016,2017,2018,2019,2020,2021,2022],\"xaxis\":\"x\",\"y\":[28.44,28.870967741935484,29.15625,29.0,28.414634146341463,28.210526315789473,28.035714285714285,28.625,28.5,28.53846153846154,28.88888888888889,28.5,35.0,39.0,35.5,30.625,30.857142857142858,32.125,30.2,26.11111111111111,24.0,24.0,24.25],\"yaxis\":\"y\",\"type\":\"scatter\"},{\"hovertemplate\":\"color=STATION WAGON - SMALL<br>x=%{x}<br>y=%{y}<extra></extra>\",\"legendgroup\":\"STATION WAGON - SMALL\",\"line\":{\"color\":\"#FF97FF\",\"dash\":\"solid\"},\"marker\":{\"symbol\":\"circle\"},\"mode\":\"markers+lines\",\"name\":\"STATION WAGON - SMALL\",\"orientation\":\"v\",\"showlegend\":true,\"x\":[2000,2001,2002,2003,2004,2005,2006,2007,2008,2009,2010,2011,2012,2013,2014,2015,2016,2017,2018,2019,2020,2021,2022],\"xaxis\":\"x\",\"y\":[31.692307692307693,31.916666666666668,29.27777777777778,31.644444444444446,31.27906976744186,30.814814814814813,31.735849056603772,31.59090909090909,31.58139534883721,32.351851851851855,33.56666666666667,33.55357142857143,34.57446808510638,34.79545454545455,35.470588235294116,33.48571428571429,33.270270270270274,35.06666666666667,35.17948717948718,34.891891891891895,36.2,36.4,36.26315789473684],\"yaxis\":\"y\",\"type\":\"scatter\"},{\"hovertemplate\":\"color=SUBCOMPACT<br>x=%{x}<br>y=%{y}<extra></extra>\",\"legendgroup\":\"SUBCOMPACT\",\"line\":{\"color\":\"#FECB52\",\"dash\":\"solid\"},\"marker\":{\"symbol\":\"circle\"},\"mode\":\"markers+lines\",\"name\":\"SUBCOMPACT\",\"orientation\":\"v\",\"showlegend\":true,\"x\":[2000,2001,2002,2003,2004,2005,2006,2007,2008,2009,2010,2011,2012,2013,2014,2015,2016,2017,2018,2019,2020,2021,2022],\"xaxis\":\"x\",\"y\":[31.48076923076923,31.258064516129032,29.15068493150685,27.984615384615385,28.96511627906977,29.82758620689655,29.743589743589745,29.50602409638554,29.86,29.98989898989899,30.510204081632654,31.01923076923077,30.735294117647058,30.63157894736842,31.903225806451612,28.66304347826087,28.513157894736842,27.580645161290324,27.78125,27.948979591836736,26.821052631578947,27.373493975903614,27.620253164556964],\"yaxis\":\"y\",\"type\":\"scatter\"},{\"hovertemplate\":\"color=SUV<br>x=%{x}<br>y=%{y}<extra></extra>\",\"legendgroup\":\"SUV\",\"line\":{\"color\":\"#636efa\",\"dash\":\"solid\"},\"marker\":{\"symbol\":\"circle\"},\"mode\":\"markers+lines\",\"name\":\"SUV\",\"orientation\":\"v\",\"showlegend\":true,\"x\":[2000,2001,2002,2003,2004,2005,2006,2007,2008,2009,2010,2011,2012],\"xaxis\":\"x\",\"y\":[22.84536082474227,23.081632653061224,22.572580645161292,22.5125,21.957894736842107,23.0,23.755656108597286,24.748953974895397,24.95505617977528,25.100746268656717,26.417670682730925,26.600746268656717,26.57872340425532],\"yaxis\":\"y\",\"type\":\"scatter\"},{\"hovertemplate\":\"color=TWO-SEATER<br>x=%{x}<br>y=%{y}<extra></extra>\",\"legendgroup\":\"TWO-SEATER\",\"line\":{\"color\":\"#EF553B\",\"dash\":\"solid\"},\"marker\":{\"symbol\":\"circle\"},\"mode\":\"markers+lines\",\"name\":\"TWO-SEATER\",\"orientation\":\"v\",\"showlegend\":true,\"x\":[2000,2001,2002,2003,2004,2005,2006,2007,2008,2009,2010,2011,2012,2013,2014,2015,2016,2017,2018,2019,2020,2021,2022],\"xaxis\":\"x\",\"y\":[23.4,27.548387096774192,25.972972972972972,25.475,25.065217391304348,26.03846153846154,26.93877551020408,25.049180327868854,25.575342465753426,24.109375,25.16949152542373,26.65625,29.289473684210527,31.75862068965517,31.271428571428572,26.404761904761905,25.441176470588236,24.75438596491228,24.333333333333332,24.37142857142857,24.421875,23.0,23.15686274509804],\"yaxis\":\"y\",\"type\":\"scatter\"},{\"hovertemplate\":\"color=VAN - CARGO<br>x=%{x}<br>y=%{y}<extra></extra>\",\"legendgroup\":\"VAN - CARGO\",\"line\":{\"color\":\"#00cc96\",\"dash\":\"solid\"},\"marker\":{\"symbol\":\"circle\"},\"mode\":\"markers+lines\",\"name\":\"VAN - CARGO\",\"orientation\":\"v\",\"showlegend\":true,\"x\":[2000,2001,2002,2003,2004,2005,2006,2007,2008,2009,2010,2011,2012,2013,2014],\"xaxis\":\"x\",\"y\":[19.82608695652174,19.26086956521739,19.434782608695652,18.666666666666668,18.80952380952381,20.384615384615383,20.214285714285715,18.666666666666668,18.53846153846154,18.53846153846154,17.666666666666668,17.454545454545453,17.40909090909091,17.40909090909091,17.318181818181817],\"yaxis\":\"y\",\"type\":\"scatter\"},{\"hovertemplate\":\"color=VAN - PASSENGER<br>x=%{x}<br>y=%{y}<extra></extra>\",\"legendgroup\":\"VAN - PASSENGER\",\"line\":{\"color\":\"#ab63fa\",\"dash\":\"solid\"},\"marker\":{\"symbol\":\"circle\"},\"mode\":\"markers+lines\",\"name\":\"VAN - PASSENGER\",\"orientation\":\"v\",\"showlegend\":true,\"x\":[2000,2001,2002,2003,2004,2005,2006,2007,2008,2009,2010,2011,2012,2013,2014,2015,2016,2017,2018,2019,2020,2021],\"xaxis\":\"x\",\"y\":[18.647058823529413,19.055555555555557,18.77777777777778,18.615384615384617,19.181818181818183,19.666666666666668,19.75,17.5,17.666666666666668,17.666666666666668,16.75,15.62962962962963,15.612903225806452,15.633333333333333,16.0,14.736842105263158,15.571428571428571,16.0,19.0,19.0,16.75,16.75],\"yaxis\":\"y\",\"type\":\"scatter\"},{\"hovertemplate\":\"color=SUV - STANDARD<br>x=%{x}<br>y=%{y}<extra></extra>\",\"legendgroup\":\"SUV - STANDARD\",\"line\":{\"color\":\"#FFA15A\",\"dash\":\"solid\"},\"marker\":{\"symbol\":\"circle\"},\"mode\":\"markers+lines\",\"name\":\"SUV - STANDARD\",\"orientation\":\"v\",\"showlegend\":true,\"x\":[2007,2012,2013,2014,2015,2016,2017,2018,2019,2020,2021,2022],\"xaxis\":\"x\",\"y\":[20.0,25.5,22.396039603960396,22.813725490196077,21.08080808080808,21.850467289719628,21.598039215686274,21.601941747572816,21.756756756756758,22.084745762711865,22.58267716535433,22.463087248322147],\"yaxis\":\"y\",\"type\":\"scatter\"},{\"hovertemplate\":\"color=SPECIAL PURPOSE VEHICLE<br>x=%{x}<br>y=%{y}<extra></extra>\",\"legendgroup\":\"SPECIAL PURPOSE VEHICLE\",\"line\":{\"color\":\"#19d3f3\",\"dash\":\"solid\"},\"marker\":{\"symbol\":\"circle\"},\"mode\":\"markers+lines\",\"name\":\"SPECIAL PURPOSE VEHICLE\",\"orientation\":\"v\",\"showlegend\":true,\"x\":[2010,2011,2012,2013,2014,2015,2016,2017,2018,2019,2020,2021,2022],\"xaxis\":\"x\",\"y\":[32.0,31.0,32.5,31.6,31.857142857142858,28.22222222222222,25.647058823529413,25.8,25.4,27.071428571428573,27.615384615384617,27.076923076923077,26.75],\"yaxis\":\"y\",\"type\":\"scatter\"},{\"hovertemplate\":\"color=SUV - SMALL<br>x=%{x}<br>y=%{y}<extra></extra>\",\"legendgroup\":\"SUV - SMALL\",\"line\":{\"color\":\"#FF6692\",\"dash\":\"solid\"},\"marker\":{\"symbol\":\"circle\"},\"mode\":\"markers+lines\",\"name\":\"SUV - SMALL\",\"orientation\":\"v\",\"showlegend\":true,\"x\":[2013,2014,2015,2016,2017,2018,2019,2020,2021,2022],\"xaxis\":\"x\",\"y\":[30.892086330935253,31.316129032258065,27.70949720670391,28.227777777777778,27.775862068965516,28.372881355932204,28.913793103448278,28.824468085106382,29.435233160621763,29.781725888324875],\"yaxis\":\"y\",\"type\":\"scatter\"}],                        {\"template\":{\"data\":{\"histogram2dcontour\":[{\"type\":\"histogram2dcontour\",\"colorbar\":{\"outlinewidth\":0,\"ticks\":\"\"},\"colorscale\":[[0.0,\"#0d0887\"],[0.1111111111111111,\"#46039f\"],[0.2222222222222222,\"#7201a8\"],[0.3333333333333333,\"#9c179e\"],[0.4444444444444444,\"#bd3786\"],[0.5555555555555556,\"#d8576b\"],[0.6666666666666666,\"#ed7953\"],[0.7777777777777778,\"#fb9f3a\"],[0.8888888888888888,\"#fdca26\"],[1.0,\"#f0f921\"]]}],\"choropleth\":[{\"type\":\"choropleth\",\"colorbar\":{\"outlinewidth\":0,\"ticks\":\"\"}}],\"histogram2d\":[{\"type\":\"histogram2d\",\"colorbar\":{\"outlinewidth\":0,\"ticks\":\"\"},\"colorscale\":[[0.0,\"#0d0887\"],[0.1111111111111111,\"#46039f\"],[0.2222222222222222,\"#7201a8\"],[0.3333333333333333,\"#9c179e\"],[0.4444444444444444,\"#bd3786\"],[0.5555555555555556,\"#d8576b\"],[0.6666666666666666,\"#ed7953\"],[0.7777777777777778,\"#fb9f3a\"],[0.8888888888888888,\"#fdca26\"],[1.0,\"#f0f921\"]]}],\"heatmap\":[{\"type\":\"heatmap\",\"colorbar\":{\"outlinewidth\":0,\"ticks\":\"\"},\"colorscale\":[[0.0,\"#0d0887\"],[0.1111111111111111,\"#46039f\"],[0.2222222222222222,\"#7201a8\"],[0.3333333333333333,\"#9c179e\"],[0.4444444444444444,\"#bd3786\"],[0.5555555555555556,\"#d8576b\"],[0.6666666666666666,\"#ed7953\"],[0.7777777777777778,\"#fb9f3a\"],[0.8888888888888888,\"#fdca26\"],[1.0,\"#f0f921\"]]}],\"heatmapgl\":[{\"type\":\"heatmapgl\",\"colorbar\":{\"outlinewidth\":0,\"ticks\":\"\"},\"colorscale\":[[0.0,\"#0d0887\"],[0.1111111111111111,\"#46039f\"],[0.2222222222222222,\"#7201a8\"],[0.3333333333333333,\"#9c179e\"],[0.4444444444444444,\"#bd3786\"],[0.5555555555555556,\"#d8576b\"],[0.6666666666666666,\"#ed7953\"],[0.7777777777777778,\"#fb9f3a\"],[0.8888888888888888,\"#fdca26\"],[1.0,\"#f0f921\"]]}],\"contourcarpet\":[{\"type\":\"contourcarpet\",\"colorbar\":{\"outlinewidth\":0,\"ticks\":\"\"}}],\"contour\":[{\"type\":\"contour\",\"colorbar\":{\"outlinewidth\":0,\"ticks\":\"\"},\"colorscale\":[[0.0,\"#0d0887\"],[0.1111111111111111,\"#46039f\"],[0.2222222222222222,\"#7201a8\"],[0.3333333333333333,\"#9c179e\"],[0.4444444444444444,\"#bd3786\"],[0.5555555555555556,\"#d8576b\"],[0.6666666666666666,\"#ed7953\"],[0.7777777777777778,\"#fb9f3a\"],[0.8888888888888888,\"#fdca26\"],[1.0,\"#f0f921\"]]}],\"surface\":[{\"type\":\"surface\",\"colorbar\":{\"outlinewidth\":0,\"ticks\":\"\"},\"colorscale\":[[0.0,\"#0d0887\"],[0.1111111111111111,\"#46039f\"],[0.2222222222222222,\"#7201a8\"],[0.3333333333333333,\"#9c179e\"],[0.4444444444444444,\"#bd3786\"],[0.5555555555555556,\"#d8576b\"],[0.6666666666666666,\"#ed7953\"],[0.7777777777777778,\"#fb9f3a\"],[0.8888888888888888,\"#fdca26\"],[1.0,\"#f0f921\"]]}],\"mesh3d\":[{\"type\":\"mesh3d\",\"colorbar\":{\"outlinewidth\":0,\"ticks\":\"\"}}],\"scatter\":[{\"fillpattern\":{\"fillmode\":\"overlay\",\"size\":10,\"solidity\":0.2},\"type\":\"scatter\"}],\"parcoords\":[{\"type\":\"parcoords\",\"line\":{\"colorbar\":{\"outlinewidth\":0,\"ticks\":\"\"}}}],\"scatterpolargl\":[{\"type\":\"scatterpolargl\",\"marker\":{\"colorbar\":{\"outlinewidth\":0,\"ticks\":\"\"}}}],\"bar\":[{\"error_x\":{\"color\":\"#2a3f5f\"},\"error_y\":{\"color\":\"#2a3f5f\"},\"marker\":{\"line\":{\"color\":\"#E5ECF6\",\"width\":0.5},\"pattern\":{\"fillmode\":\"overlay\",\"size\":10,\"solidity\":0.2}},\"type\":\"bar\"}],\"scattergeo\":[{\"type\":\"scattergeo\",\"marker\":{\"colorbar\":{\"outlinewidth\":0,\"ticks\":\"\"}}}],\"scatterpolar\":[{\"type\":\"scatterpolar\",\"marker\":{\"colorbar\":{\"outlinewidth\":0,\"ticks\":\"\"}}}],\"histogram\":[{\"marker\":{\"pattern\":{\"fillmode\":\"overlay\",\"size\":10,\"solidity\":0.2}},\"type\":\"histogram\"}],\"scattergl\":[{\"type\":\"scattergl\",\"marker\":{\"colorbar\":{\"outlinewidth\":0,\"ticks\":\"\"}}}],\"scatter3d\":[{\"type\":\"scatter3d\",\"line\":{\"colorbar\":{\"outlinewidth\":0,\"ticks\":\"\"}},\"marker\":{\"colorbar\":{\"outlinewidth\":0,\"ticks\":\"\"}}}],\"scattermapbox\":[{\"type\":\"scattermapbox\",\"marker\":{\"colorbar\":{\"outlinewidth\":0,\"ticks\":\"\"}}}],\"scatterternary\":[{\"type\":\"scatterternary\",\"marker\":{\"colorbar\":{\"outlinewidth\":0,\"ticks\":\"\"}}}],\"scattercarpet\":[{\"type\":\"scattercarpet\",\"marker\":{\"colorbar\":{\"outlinewidth\":0,\"ticks\":\"\"}}}],\"carpet\":[{\"aaxis\":{\"endlinecolor\":\"#2a3f5f\",\"gridcolor\":\"white\",\"linecolor\":\"white\",\"minorgridcolor\":\"white\",\"startlinecolor\":\"#2a3f5f\"},\"baxis\":{\"endlinecolor\":\"#2a3f5f\",\"gridcolor\":\"white\",\"linecolor\":\"white\",\"minorgridcolor\":\"white\",\"startlinecolor\":\"#2a3f5f\"},\"type\":\"carpet\"}],\"table\":[{\"cells\":{\"fill\":{\"color\":\"#EBF0F8\"},\"line\":{\"color\":\"white\"}},\"header\":{\"fill\":{\"color\":\"#C8D4E3\"},\"line\":{\"color\":\"white\"}},\"type\":\"table\"}],\"barpolar\":[{\"marker\":{\"line\":{\"color\":\"#E5ECF6\",\"width\":0.5},\"pattern\":{\"fillmode\":\"overlay\",\"size\":10,\"solidity\":0.2}},\"type\":\"barpolar\"}],\"pie\":[{\"automargin\":true,\"type\":\"pie\"}]},\"layout\":{\"autotypenumbers\":\"strict\",\"colorway\":[\"#636efa\",\"#EF553B\",\"#00cc96\",\"#ab63fa\",\"#FFA15A\",\"#19d3f3\",\"#FF6692\",\"#B6E880\",\"#FF97FF\",\"#FECB52\"],\"font\":{\"color\":\"#2a3f5f\"},\"hovermode\":\"closest\",\"hoverlabel\":{\"align\":\"left\"},\"paper_bgcolor\":\"white\",\"plot_bgcolor\":\"#E5ECF6\",\"polar\":{\"bgcolor\":\"#E5ECF6\",\"angularaxis\":{\"gridcolor\":\"white\",\"linecolor\":\"white\",\"ticks\":\"\"},\"radialaxis\":{\"gridcolor\":\"white\",\"linecolor\":\"white\",\"ticks\":\"\"}},\"ternary\":{\"bgcolor\":\"#E5ECF6\",\"aaxis\":{\"gridcolor\":\"white\",\"linecolor\":\"white\",\"ticks\":\"\"},\"baxis\":{\"gridcolor\":\"white\",\"linecolor\":\"white\",\"ticks\":\"\"},\"caxis\":{\"gridcolor\":\"white\",\"linecolor\":\"white\",\"ticks\":\"\"}},\"coloraxis\":{\"colorbar\":{\"outlinewidth\":0,\"ticks\":\"\"}},\"colorscale\":{\"sequential\":[[0.0,\"#0d0887\"],[0.1111111111111111,\"#46039f\"],[0.2222222222222222,\"#7201a8\"],[0.3333333333333333,\"#9c179e\"],[0.4444444444444444,\"#bd3786\"],[0.5555555555555556,\"#d8576b\"],[0.6666666666666666,\"#ed7953\"],[0.7777777777777778,\"#fb9f3a\"],[0.8888888888888888,\"#fdca26\"],[1.0,\"#f0f921\"]],\"sequentialminus\":[[0.0,\"#0d0887\"],[0.1111111111111111,\"#46039f\"],[0.2222222222222222,\"#7201a8\"],[0.3333333333333333,\"#9c179e\"],[0.4444444444444444,\"#bd3786\"],[0.5555555555555556,\"#d8576b\"],[0.6666666666666666,\"#ed7953\"],[0.7777777777777778,\"#fb9f3a\"],[0.8888888888888888,\"#fdca26\"],[1.0,\"#f0f921\"]],\"diverging\":[[0,\"#8e0152\"],[0.1,\"#c51b7d\"],[0.2,\"#de77ae\"],[0.3,\"#f1b6da\"],[0.4,\"#fde0ef\"],[0.5,\"#f7f7f7\"],[0.6,\"#e6f5d0\"],[0.7,\"#b8e186\"],[0.8,\"#7fbc41\"],[0.9,\"#4d9221\"],[1,\"#276419\"]]},\"xaxis\":{\"gridcolor\":\"white\",\"linecolor\":\"white\",\"ticks\":\"\",\"title\":{\"standoff\":15},\"zerolinecolor\":\"white\",\"automargin\":true,\"zerolinewidth\":2},\"yaxis\":{\"gridcolor\":\"white\",\"linecolor\":\"white\",\"ticks\":\"\",\"title\":{\"standoff\":15},\"zerolinecolor\":\"white\",\"automargin\":true,\"zerolinewidth\":2},\"scene\":{\"xaxis\":{\"backgroundcolor\":\"#E5ECF6\",\"gridcolor\":\"white\",\"linecolor\":\"white\",\"showbackground\":true,\"ticks\":\"\",\"zerolinecolor\":\"white\",\"gridwidth\":2},\"yaxis\":{\"backgroundcolor\":\"#E5ECF6\",\"gridcolor\":\"white\",\"linecolor\":\"white\",\"showbackground\":true,\"ticks\":\"\",\"zerolinecolor\":\"white\",\"gridwidth\":2},\"zaxis\":{\"backgroundcolor\":\"#E5ECF6\",\"gridcolor\":\"white\",\"linecolor\":\"white\",\"showbackground\":true,\"ticks\":\"\",\"zerolinecolor\":\"white\",\"gridwidth\":2}},\"shapedefaults\":{\"line\":{\"color\":\"#2a3f5f\"}},\"annotationdefaults\":{\"arrowcolor\":\"#2a3f5f\",\"arrowhead\":0,\"arrowwidth\":1},\"geo\":{\"bgcolor\":\"white\",\"landcolor\":\"#E5ECF6\",\"subunitcolor\":\"white\",\"showland\":true,\"showlakes\":true,\"lakecolor\":\"white\"},\"title\":{\"x\":0.05},\"mapbox\":{\"style\":\"light\"}}},\"xaxis\":{\"anchor\":\"y\",\"domain\":[0.0,1.0],\"title\":{\"text\":\"Year\"}},\"yaxis\":{\"anchor\":\"x\",\"domain\":[0.0,1.0],\"title\":{\"text\":\"Combined Average MPG\"}},\"legend\":{\"title\":{\"text\":\"Vehicle Class\"},\"tracegroupgap\":0},\"margin\":{\"t\":60},\"title\":{\"text\":\"Yearly MPG Average by Vehicle Class\"}},                        {\"responsive\": true}                    ).then(function(){\n",
       "                            \n",
       "var gd = document.getElementById('0b61a59b-bd77-48e1-9d61-e5509166292d');\n",
       "var x = new MutationObserver(function (mutations, observer) {{\n",
       "        var display = window.getComputedStyle(gd).display;\n",
       "        if (!display || display === 'none') {{\n",
       "            console.log([gd, 'removed!']);\n",
       "            Plotly.purge(gd);\n",
       "            observer.disconnect();\n",
       "        }}\n",
       "}});\n",
       "\n",
       "// Listen for the removal of the full notebook cells\n",
       "var notebookContainer = gd.closest('#notebook-container');\n",
       "if (notebookContainer) {{\n",
       "    x.observe(notebookContainer, {childList: true});\n",
       "}}\n",
       "\n",
       "// Listen for the clearing of the current output cell\n",
       "var outputEl = gd.closest('.output');\n",
       "if (outputEl) {{\n",
       "    x.observe(outputEl, {childList: true});\n",
       "}}\n",
       "\n",
       "                        })                };                });            </script>        </div>"
      ]
     },
     "metadata": {},
     "output_type": "display_data"
    }
   ],
   "source": [
    "years = [x[0] for x in dat_grouped.index]\n",
    "vehicle_class = [x[1] for x in dat_grouped.index]\n",
    "mpg = dat_grouped['COMB (mpg)']['mean']\n",
    "\n",
    "fig1 = px.line(x = years,\n",
    "              y = mpg,\n",
    "              color = vehicle_class,\n",
    "              markers = True)\n",
    "\n",
    "fig1.update_layout(title = 'Yearly MPG Average by Vehicle Class',\n",
    "                 xaxis_title = 'Year',\n",
    "                 yaxis_title = 'Combined Average MPG',\n",
    "                 legend_title = 'Vehicle Class')\n",
    "fig1.show()"
   ]
  },
  {
   "cell_type": "code",
   "execution_count": 34,
   "id": "51bb3abb",
   "metadata": {},
   "outputs": [
    {
     "data": {
      "application/vnd.plotly.v1+json": {
       "config": {
        "plotlyServerURL": "https://plot.ly"
       },
       "data": [
        {
         "hovertemplate": "color=COMPACT<br>x=%{x}<br>y=%{y}<br>size=%{marker.size}<extra></extra>",
         "legendgroup": "COMPACT",
         "marker": {
          "color": "#636efa",
          "size": [
           105,
           145,
           133,
           143,
           154,
           146,
           137,
           116,
           148,
           150,
           140,
           124,
           133,
           168,
           168,
           186,
           181,
           159,
           122,
           106,
           108,
           85,
           70
          ],
          "sizemode": "area",
          "sizeref": 0.67,
          "symbol": "circle"
         },
         "mode": "markers",
         "name": "COMPACT",
         "orientation": "v",
         "showlegend": true,
         "type": "scatter",
         "x": [
          2000,
          2001,
          2002,
          2003,
          2004,
          2005,
          2006,
          2007,
          2008,
          2009,
          2010,
          2011,
          2012,
          2013,
          2014,
          2015,
          2016,
          2017,
          2018,
          2019,
          2020,
          2021,
          2022
         ],
         "xaxis": "x",
         "y": [
          31.504761904761907,
          31.93793103448276,
          31.969924812030076,
          32.37062937062937,
          31.603896103896105,
          31.698630136986303,
          31.233576642335766,
          30.25,
          30.2027027027027,
          30.326666666666668,
          32.17142857142857,
          33.653225806451616,
          35.06015037593985,
          35.214285714285715,
          36.19047619047619,
          31.333333333333332,
          31.414364640883978,
          31.60377358490566,
          32.23770491803279,
          32.43396226415094,
          32.28703703703704,
          32.92941176470588,
          33.22857142857143
         ],
         "yaxis": "y"
        },
        {
         "hovertemplate": "color=FULL-SIZE<br>x=%{x}<br>y=%{y}<br>size=%{marker.size}<extra></extra>",
         "legendgroup": "FULL-SIZE",
         "marker": {
          "color": "#EF553B",
          "size": [
           28,
           30,
           29,
           25,
           34,
           45,
           56,
           54,
           63,
           68,
           77,
           71,
           81,
           76,
           84,
           93,
           90,
           82,
           109,
           101,
           78,
           65,
           64
          ],
          "sizemode": "area",
          "sizeref": 0.67,
          "symbol": "circle"
         },
         "mode": "markers",
         "name": "FULL-SIZE",
         "orientation": "v",
         "showlegend": true,
         "type": "scatter",
         "x": [
          2000,
          2001,
          2002,
          2003,
          2004,
          2005,
          2006,
          2007,
          2008,
          2009,
          2010,
          2011,
          2012,
          2013,
          2014,
          2015,
          2016,
          2017,
          2018,
          2019,
          2020,
          2021,
          2022
         ],
         "xaxis": "x",
         "y": [
          26.428571428571427,
          26.033333333333335,
          25.689655172413794,
          26.28,
          24.735294117647058,
          24.155555555555555,
          24.625,
          24.462962962962962,
          24.50793650793651,
          24.676470588235293,
          24.441558441558442,
          25.08450704225352,
          26.098765432098766,
          26.894736842105264,
          27.607142857142858,
          24,
          24.27777777777778,
          26.402439024390244,
          27.192660550458715,
          26.603960396039604,
          28.102564102564102,
          29,
          28.890625
         ],
         "yaxis": "y"
        },
        {
         "hovertemplate": "color=MID-SIZE<br>x=%{x}<br>y=%{y}<br>size=%{marker.size}<extra></extra>",
         "legendgroup": "MID-SIZE",
         "marker": {
          "color": "#00cc96",
          "size": [
           77,
           82,
           90,
           89,
           103,
           114,
           111,
           139,
           134,
           125,
           120,
           132,
           131,
           153,
           170,
           180,
           188,
           162,
           158,
           145,
           126,
           114,
           117
          ],
          "sizemode": "area",
          "sizeref": 0.67,
          "symbol": "circle"
         },
         "mode": "markers",
         "name": "MID-SIZE",
         "orientation": "v",
         "showlegend": true,
         "type": "scatter",
         "x": [
          2000,
          2001,
          2002,
          2003,
          2004,
          2005,
          2006,
          2007,
          2008,
          2009,
          2010,
          2011,
          2012,
          2013,
          2014,
          2015,
          2016,
          2017,
          2018,
          2019,
          2020,
          2021,
          2022
         ],
         "xaxis": "x",
         "y": [
          27.441558441558442,
          27.353658536585368,
          27.444444444444443,
          27.48314606741573,
          27.92233009708738,
          28.140350877192983,
          28.18918918918919,
          29.115107913669064,
          28.970149253731343,
          29.024,
          29.95,
          31.96969696969697,
          32.86259541984733,
          35.44444444444444,
          35.752941176470586,
          31.044444444444444,
          31.335106382978722,
          31.166666666666668,
          31.664556962025316,
          32.66206896551724,
          31.365079365079364,
          31.42105263157895,
          31.034188034188034
         ],
         "yaxis": "y"
        },
        {
         "hovertemplate": "color=MINICOMPACT<br>x=%{x}<br>y=%{y}<br>size=%{marker.size}<extra></extra>",
         "legendgroup": "MINICOMPACT",
         "marker": {
          "color": "#ab63fa",
          "size": [
           11,
           17,
           22,
           33,
           25,
           74,
           37,
           47,
           49,
           43,
           41,
           53,
           76,
           53,
           47,
           59,
           52,
           44,
           53,
           56,
           23,
           30,
           49
          ],
          "sizemode": "area",
          "sizeref": 0.67,
          "symbol": "circle"
         },
         "mode": "markers",
         "name": "MINICOMPACT",
         "orientation": "v",
         "showlegend": true,
         "type": "scatter",
         "x": [
          2000,
          2001,
          2002,
          2003,
          2004,
          2005,
          2006,
          2007,
          2008,
          2009,
          2010,
          2011,
          2012,
          2013,
          2014,
          2015,
          2016,
          2017,
          2018,
          2019,
          2020,
          2021,
          2022
         ],
         "xaxis": "x",
         "y": [
          25.636363636363637,
          25.235294117647058,
          25.363636363636363,
          27.575757575757574,
          29.2,
          26.256756756756758,
          28.43243243243243,
          27.5531914893617,
          27.897959183673468,
          31.023255813953487,
          30.4390243902439,
          30.169811320754718,
          30.56578947368421,
          34.41509433962264,
          33.744680851063826,
          28.593220338983052,
          28.557692307692307,
          29.84090909090909,
          28.245283018867923,
          28,
          26.652173913043477,
          24.9,
          24.224489795918366
         ],
         "yaxis": "y"
        },
        {
         "hovertemplate": "color=MINIVAN<br>x=%{x}<br>y=%{y}<br>size=%{marker.size}<extra></extra>",
         "legendgroup": "MINIVAN",
         "marker": {
          "color": "#FFA15A",
          "size": [
           26,
           17,
           22,
           28,
           21,
           33,
           35,
           34,
           22,
           16,
           14,
           14,
           16,
           15,
           14,
           15,
           12,
           12,
           11,
           9,
           8,
           7,
           7
          ],
          "sizemode": "area",
          "sizeref": 0.67,
          "symbol": "circle"
         },
         "mode": "markers",
         "name": "MINIVAN",
         "orientation": "v",
         "showlegend": true,
         "type": "scatter",
         "x": [
          2000,
          2001,
          2002,
          2003,
          2004,
          2005,
          2006,
          2007,
          2008,
          2009,
          2010,
          2011,
          2012,
          2013,
          2014,
          2015,
          2016,
          2017,
          2018,
          2019,
          2020,
          2021,
          2022
         ],
         "xaxis": "x",
         "y": [
          23.96153846153846,
          24.88235294117647,
          24.545454545454547,
          24.392857142857142,
          25.571428571428573,
          24.727272727272727,
          24.714285714285715,
          24.08823529411765,
          25,
          26,
          26.142857142857142,
          25.5,
          27.375,
          27.2,
          26.928571428571427,
          23.8,
          23.916666666666668,
          25,
          24.454545454545453,
          24.666666666666668,
          25.5,
          30.714285714285715,
          31
         ],
         "yaxis": "y"
        },
        {
         "hovertemplate": "color=PICKUP TRUCK - SMALL<br>x=%{x}<br>y=%{y}<br>size=%{marker.size}<extra></extra>",
         "legendgroup": "PICKUP TRUCK - SMALL",
         "marker": {
          "color": "#19d3f3",
          "size": [
           11,
           12,
           12,
           8,
           1,
           52,
           59,
           54,
           51,
           43,
           12,
           12,
           22,
           26,
           28,
           27,
           25,
           19,
           17,
           20
          ],
          "sizemode": "area",
          "sizeref": 0.67,
          "symbol": "circle"
         },
         "mode": "markers",
         "name": "PICKUP TRUCK - SMALL",
         "orientation": "v",
         "showlegend": true,
         "type": "scatter",
         "x": [
          2000,
          2001,
          2002,
          2003,
          2004,
          2008,
          2009,
          2010,
          2011,
          2012,
          2013,
          2014,
          2015,
          2016,
          2017,
          2018,
          2019,
          2020,
          2021,
          2022
         ],
         "xaxis": "x",
         "y": [
          26.272727272727273,
          23.5,
          23.166666666666668,
          24.75,
          20,
          24.76923076923077,
          25.338983050847457,
          25.48148148148148,
          25.529411764705884,
          25.767441860465116,
          26.583333333333332,
          26.5,
          23.954545454545453,
          24.884615384615383,
          24.392857142857142,
          24.296296296296298,
          24.16,
          24.526315789473685,
          24.58823529411765,
          26
         ],
         "yaxis": "y"
        },
        {
         "hovertemplate": "color=PICKUP TRUCK - STANDARD<br>x=%{x}<br>y=%{y}<br>size=%{marker.size}<extra></extra>",
         "legendgroup": "PICKUP TRUCK - STANDARD",
         "marker": {
          "color": "#FF6692",
          "size": [
           92,
           101,
           107,
           106,
           122,
           127,
           141,
           154,
           72,
           95,
           73,
           85,
           79,
           84,
           62,
           52,
           62,
           75,
           97,
           99,
           91,
           115,
           113
          ],
          "sizemode": "area",
          "sizeref": 0.67,
          "symbol": "circle"
         },
         "mode": "markers",
         "name": "PICKUP TRUCK - STANDARD",
         "orientation": "v",
         "showlegend": true,
         "type": "scatter",
         "x": [
          2000,
          2001,
          2002,
          2003,
          2004,
          2005,
          2006,
          2007,
          2008,
          2009,
          2010,
          2011,
          2012,
          2013,
          2014,
          2015,
          2016,
          2017,
          2018,
          2019,
          2020,
          2021,
          2022
         ],
         "xaxis": "x",
         "y": [
          20.945652173913043,
          20.792079207920793,
          20.177570093457945,
          21.00943396226415,
          20.66393442622951,
          21.393700787401574,
          21.907801418439718,
          21.623376623376622,
          20.09722222222222,
          20.54736842105263,
          20.054794520547944,
          20.270588235294117,
          20.468354430379748,
          20.726190476190474,
          22.112903225806452,
          20.48076923076923,
          20.5,
          20.56,
          21.329896907216494,
          21.32323232323232,
          22.13186813186813,
          21.8,
          21.460176991150444
         ],
         "yaxis": "y"
        },
        {
         "hovertemplate": "color=STATION WAGON - MID-SIZE<br>x=%{x}<br>y=%{y}<br>size=%{marker.size}<extra></extra>",
         "legendgroup": "STATION WAGON - MID-SIZE",
         "marker": {
          "color": "#B6E880",
          "size": [
           25,
           31,
           32,
           35,
           41,
           38,
           28,
           32,
           18,
           13,
           9,
           4,
           5,
           3,
           6,
           8,
           7,
           8,
           10,
           9,
           8,
           9,
           8
          ],
          "sizemode": "area",
          "sizeref": 0.67,
          "symbol": "circle"
         },
         "mode": "markers",
         "name": "STATION WAGON - MID-SIZE",
         "orientation": "v",
         "showlegend": true,
         "type": "scatter",
         "x": [
          2000,
          2001,
          2002,
          2003,
          2004,
          2005,
          2006,
          2007,
          2008,
          2009,
          2010,
          2011,
          2012,
          2013,
          2014,
          2015,
          2016,
          2017,
          2018,
          2019,
          2020,
          2021,
          2022
         ],
         "xaxis": "x",
         "y": [
          28.44,
          28.870967741935484,
          29.15625,
          29,
          28.414634146341463,
          28.210526315789473,
          28.035714285714285,
          28.625,
          28.5,
          28.53846153846154,
          28.88888888888889,
          28.5,
          35,
          39,
          35.5,
          30.625,
          30.857142857142858,
          32.125,
          30.2,
          26.11111111111111,
          24,
          24,
          24.25
         ],
         "yaxis": "y"
        },
        {
         "hovertemplate": "color=STATION WAGON - SMALL<br>x=%{x}<br>y=%{y}<br>size=%{marker.size}<extra></extra>",
         "legendgroup": "STATION WAGON - SMALL",
         "marker": {
          "color": "#FF97FF",
          "size": [
           13,
           12,
           18,
           45,
           43,
           54,
           53,
           44,
           43,
           54,
           60,
           56,
           47,
           44,
           34,
           35,
           37,
           45,
           39,
           37,
           25,
           20,
           19
          ],
          "sizemode": "area",
          "sizeref": 0.67,
          "symbol": "circle"
         },
         "mode": "markers",
         "name": "STATION WAGON - SMALL",
         "orientation": "v",
         "showlegend": true,
         "type": "scatter",
         "x": [
          2000,
          2001,
          2002,
          2003,
          2004,
          2005,
          2006,
          2007,
          2008,
          2009,
          2010,
          2011,
          2012,
          2013,
          2014,
          2015,
          2016,
          2017,
          2018,
          2019,
          2020,
          2021,
          2022
         ],
         "xaxis": "x",
         "y": [
          31.692307692307693,
          31.916666666666668,
          29.27777777777778,
          31.644444444444446,
          31.27906976744186,
          30.814814814814813,
          31.735849056603772,
          31.59090909090909,
          31.58139534883721,
          32.351851851851855,
          33.56666666666667,
          33.55357142857143,
          34.57446808510638,
          34.79545454545455,
          35.470588235294116,
          33.48571428571429,
          33.270270270270274,
          35.06666666666667,
          35.17948717948718,
          34.891891891891895,
          36.2,
          36.4,
          36.26315789473684
         ],
         "yaxis": "y"
        },
        {
         "hovertemplate": "color=SUBCOMPACT<br>x=%{x}<br>y=%{y}<br>size=%{marker.size}<extra></extra>",
         "legendgroup": "SUBCOMPACT",
         "marker": {
          "color": "#FECB52",
          "size": [
           104,
           62,
           73,
           65,
           86,
           87,
           78,
           83,
           100,
           99,
           98,
           104,
           102,
           95,
           62,
           92,
           76,
           93,
           96,
           98,
           95,
           83,
           79
          ],
          "sizemode": "area",
          "sizeref": 0.67,
          "symbol": "circle"
         },
         "mode": "markers",
         "name": "SUBCOMPACT",
         "orientation": "v",
         "showlegend": true,
         "type": "scatter",
         "x": [
          2000,
          2001,
          2002,
          2003,
          2004,
          2005,
          2006,
          2007,
          2008,
          2009,
          2010,
          2011,
          2012,
          2013,
          2014,
          2015,
          2016,
          2017,
          2018,
          2019,
          2020,
          2021,
          2022
         ],
         "xaxis": "x",
         "y": [
          31.48076923076923,
          31.258064516129032,
          29.15068493150685,
          27.984615384615385,
          28.96511627906977,
          29.82758620689655,
          29.743589743589745,
          29.50602409638554,
          29.86,
          29.98989898989899,
          30.510204081632654,
          31.01923076923077,
          30.735294117647058,
          30.63157894736842,
          31.903225806451612,
          28.66304347826087,
          28.513157894736842,
          27.580645161290324,
          27.78125,
          27.948979591836736,
          26.821052631578947,
          27.373493975903614,
          27.620253164556964
         ],
         "yaxis": "y"
        },
        {
         "hovertemplate": "color=SUV<br>x=%{x}<br>y=%{y}<br>size=%{marker.size}<extra></extra>",
         "legendgroup": "SUV",
         "marker": {
          "color": "#636efa",
          "size": [
           97,
           98,
           124,
           160,
           190,
           224,
           221,
           239,
           267,
           268,
           249,
           268,
           235
          ],
          "sizemode": "area",
          "sizeref": 0.67,
          "symbol": "circle"
         },
         "mode": "markers",
         "name": "SUV",
         "orientation": "v",
         "showlegend": true,
         "type": "scatter",
         "x": [
          2000,
          2001,
          2002,
          2003,
          2004,
          2005,
          2006,
          2007,
          2008,
          2009,
          2010,
          2011,
          2012
         ],
         "xaxis": "x",
         "y": [
          22.84536082474227,
          23.081632653061224,
          22.572580645161292,
          22.5125,
          21.957894736842107,
          23,
          23.755656108597286,
          24.748953974895397,
          24.95505617977528,
          25.100746268656717,
          26.417670682730925,
          26.600746268656717,
          26.57872340425532
         ],
         "yaxis": "y"
        },
        {
         "hovertemplate": "color=TWO-SEATER<br>x=%{x}<br>y=%{y}<br>size=%{marker.size}<extra></extra>",
         "legendgroup": "TWO-SEATER",
         "marker": {
          "color": "#EF553B",
          "size": [
           10,
           31,
           37,
           40,
           46,
           52,
           49,
           61,
           73,
           64,
           59,
           64,
           76,
           58,
           70,
           84,
           68,
           57,
           69,
           70,
           64,
           59,
           51
          ],
          "sizemode": "area",
          "sizeref": 0.67,
          "symbol": "circle"
         },
         "mode": "markers",
         "name": "TWO-SEATER",
         "orientation": "v",
         "showlegend": true,
         "type": "scatter",
         "x": [
          2000,
          2001,
          2002,
          2003,
          2004,
          2005,
          2006,
          2007,
          2008,
          2009,
          2010,
          2011,
          2012,
          2013,
          2014,
          2015,
          2016,
          2017,
          2018,
          2019,
          2020,
          2021,
          2022
         ],
         "xaxis": "x",
         "y": [
          23.4,
          27.548387096774192,
          25.972972972972972,
          25.475,
          25.065217391304348,
          26.03846153846154,
          26.93877551020408,
          25.049180327868854,
          25.575342465753426,
          24.109375,
          25.16949152542373,
          26.65625,
          29.289473684210527,
          31.75862068965517,
          31.271428571428572,
          26.404761904761905,
          25.441176470588236,
          24.75438596491228,
          24.333333333333332,
          24.37142857142857,
          24.421875,
          23,
          23.15686274509804
         ],
         "yaxis": "y"
        },
        {
         "hovertemplate": "color=VAN - CARGO<br>x=%{x}<br>y=%{y}<br>size=%{marker.size}<extra></extra>",
         "legendgroup": "VAN - CARGO",
         "marker": {
          "color": "#00cc96",
          "size": [
           23,
           23,
           23,
           30,
           21,
           13,
           14,
           27,
           26,
           26,
           18,
           22,
           22,
           22,
           22
          ],
          "sizemode": "area",
          "sizeref": 0.67,
          "symbol": "circle"
         },
         "mode": "markers",
         "name": "VAN - CARGO",
         "orientation": "v",
         "showlegend": true,
         "type": "scatter",
         "x": [
          2000,
          2001,
          2002,
          2003,
          2004,
          2005,
          2006,
          2007,
          2008,
          2009,
          2010,
          2011,
          2012,
          2013,
          2014
         ],
         "xaxis": "x",
         "y": [
          19.82608695652174,
          19.26086956521739,
          19.434782608695652,
          18.666666666666668,
          18.80952380952381,
          20.384615384615383,
          20.214285714285715,
          18.666666666666668,
          18.53846153846154,
          18.53846153846154,
          17.666666666666668,
          17.454545454545453,
          17.40909090909091,
          17.40909090909091,
          17.318181818181817
         ],
         "yaxis": "y"
        },
        {
         "hovertemplate": "color=VAN - PASSENGER<br>x=%{x}<br>y=%{y}<br>size=%{marker.size}<extra></extra>",
         "legendgroup": "VAN - PASSENGER",
         "marker": {
          "color": "#ab63fa",
          "size": [
           17,
           18,
           18,
           13,
           11,
           12,
           8,
           12,
           12,
           12,
           8,
           27,
           31,
           30,
           25,
           19,
           7,
           7,
           2,
           2,
           4,
           4
          ],
          "sizemode": "area",
          "sizeref": 0.67,
          "symbol": "circle"
         },
         "mode": "markers",
         "name": "VAN - PASSENGER",
         "orientation": "v",
         "showlegend": true,
         "type": "scatter",
         "x": [
          2000,
          2001,
          2002,
          2003,
          2004,
          2005,
          2006,
          2007,
          2008,
          2009,
          2010,
          2011,
          2012,
          2013,
          2014,
          2015,
          2016,
          2017,
          2018,
          2019,
          2020,
          2021
         ],
         "xaxis": "x",
         "y": [
          18.647058823529413,
          19.055555555555557,
          18.77777777777778,
          18.615384615384617,
          19.181818181818183,
          19.666666666666668,
          19.75,
          17.5,
          17.666666666666668,
          17.666666666666668,
          16.75,
          15.62962962962963,
          15.612903225806452,
          15.633333333333333,
          16,
          14.736842105263158,
          15.571428571428571,
          16,
          19,
          19,
          16.75,
          16.75
         ],
         "yaxis": "y"
        },
        {
         "hovertemplate": "color=SUV - STANDARD<br>x=%{x}<br>y=%{y}<br>size=%{marker.size}<extra></extra>",
         "legendgroup": "SUV - STANDARD",
         "marker": {
          "color": "#FFA15A",
          "size": [
           1,
           2,
           101,
           102,
           99,
           107,
           102,
           103,
           111,
           118,
           127,
           149
          ],
          "sizemode": "area",
          "sizeref": 0.67,
          "symbol": "circle"
         },
         "mode": "markers",
         "name": "SUV - STANDARD",
         "orientation": "v",
         "showlegend": true,
         "type": "scatter",
         "x": [
          2007,
          2012,
          2013,
          2014,
          2015,
          2016,
          2017,
          2018,
          2019,
          2020,
          2021,
          2022
         ],
         "xaxis": "x",
         "y": [
          20,
          25.5,
          22.396039603960396,
          22.813725490196077,
          21.08080808080808,
          21.850467289719628,
          21.598039215686274,
          21.601941747572816,
          21.756756756756758,
          22.084745762711865,
          22.58267716535433,
          22.463087248322147
         ],
         "yaxis": "y"
        },
        {
         "hovertemplate": "color=SPECIAL PURPOSE VEHICLE<br>x=%{x}<br>y=%{y}<br>size=%{marker.size}<extra></extra>",
         "legendgroup": "SPECIAL PURPOSE VEHICLE",
         "marker": {
          "color": "#19d3f3",
          "size": [
           1,
           1,
           2,
           5,
           7,
           9,
           17,
           10,
           10,
           14,
           13,
           13,
           12
          ],
          "sizemode": "area",
          "sizeref": 0.67,
          "symbol": "circle"
         },
         "mode": "markers",
         "name": "SPECIAL PURPOSE VEHICLE",
         "orientation": "v",
         "showlegend": true,
         "type": "scatter",
         "x": [
          2010,
          2011,
          2012,
          2013,
          2014,
          2015,
          2016,
          2017,
          2018,
          2019,
          2020,
          2021,
          2022
         ],
         "xaxis": "x",
         "y": [
          32,
          31,
          32.5,
          31.6,
          31.857142857142858,
          28.22222222222222,
          25.647058823529413,
          25.8,
          25.4,
          27.071428571428573,
          27.615384615384617,
          27.076923076923077,
          26.75
         ],
         "yaxis": "y"
        },
        {
         "hovertemplate": "color=SUV - SMALL<br>x=%{x}<br>y=%{y}<br>size=%{marker.size}<extra></extra>",
         "legendgroup": "SUV - SMALL",
         "marker": {
          "color": "#FF6692",
          "size": [
           139,
           155,
           179,
           180,
           174,
           177,
           174,
           188,
           193,
           197
          ],
          "sizemode": "area",
          "sizeref": 0.67,
          "symbol": "circle"
         },
         "mode": "markers",
         "name": "SUV - SMALL",
         "orientation": "v",
         "showlegend": true,
         "type": "scatter",
         "x": [
          2013,
          2014,
          2015,
          2016,
          2017,
          2018,
          2019,
          2020,
          2021,
          2022
         ],
         "xaxis": "x",
         "y": [
          30.892086330935253,
          31.316129032258065,
          27.70949720670391,
          28.227777777777778,
          27.775862068965516,
          28.372881355932204,
          28.913793103448278,
          28.824468085106382,
          29.435233160621763,
          29.781725888324875
         ],
         "yaxis": "y"
        }
       ],
       "layout": {
        "legend": {
         "itemsizing": "constant",
         "title": {
          "text": "Vehicle Class"
         },
         "tracegroupgap": 0
        },
        "margin": {
         "t": 60
        },
        "template": {
         "data": {
          "bar": [
           {
            "error_x": {
             "color": "#2a3f5f"
            },
            "error_y": {
             "color": "#2a3f5f"
            },
            "marker": {
             "line": {
              "color": "#E5ECF6",
              "width": 0.5
             },
             "pattern": {
              "fillmode": "overlay",
              "size": 10,
              "solidity": 0.2
             }
            },
            "type": "bar"
           }
          ],
          "barpolar": [
           {
            "marker": {
             "line": {
              "color": "#E5ECF6",
              "width": 0.5
             },
             "pattern": {
              "fillmode": "overlay",
              "size": 10,
              "solidity": 0.2
             }
            },
            "type": "barpolar"
           }
          ],
          "carpet": [
           {
            "aaxis": {
             "endlinecolor": "#2a3f5f",
             "gridcolor": "white",
             "linecolor": "white",
             "minorgridcolor": "white",
             "startlinecolor": "#2a3f5f"
            },
            "baxis": {
             "endlinecolor": "#2a3f5f",
             "gridcolor": "white",
             "linecolor": "white",
             "minorgridcolor": "white",
             "startlinecolor": "#2a3f5f"
            },
            "type": "carpet"
           }
          ],
          "choropleth": [
           {
            "colorbar": {
             "outlinewidth": 0,
             "ticks": ""
            },
            "type": "choropleth"
           }
          ],
          "contour": [
           {
            "colorbar": {
             "outlinewidth": 0,
             "ticks": ""
            },
            "colorscale": [
             [
              0,
              "#0d0887"
             ],
             [
              0.1111111111111111,
              "#46039f"
             ],
             [
              0.2222222222222222,
              "#7201a8"
             ],
             [
              0.3333333333333333,
              "#9c179e"
             ],
             [
              0.4444444444444444,
              "#bd3786"
             ],
             [
              0.5555555555555556,
              "#d8576b"
             ],
             [
              0.6666666666666666,
              "#ed7953"
             ],
             [
              0.7777777777777778,
              "#fb9f3a"
             ],
             [
              0.8888888888888888,
              "#fdca26"
             ],
             [
              1,
              "#f0f921"
             ]
            ],
            "type": "contour"
           }
          ],
          "contourcarpet": [
           {
            "colorbar": {
             "outlinewidth": 0,
             "ticks": ""
            },
            "type": "contourcarpet"
           }
          ],
          "heatmap": [
           {
            "colorbar": {
             "outlinewidth": 0,
             "ticks": ""
            },
            "colorscale": [
             [
              0,
              "#0d0887"
             ],
             [
              0.1111111111111111,
              "#46039f"
             ],
             [
              0.2222222222222222,
              "#7201a8"
             ],
             [
              0.3333333333333333,
              "#9c179e"
             ],
             [
              0.4444444444444444,
              "#bd3786"
             ],
             [
              0.5555555555555556,
              "#d8576b"
             ],
             [
              0.6666666666666666,
              "#ed7953"
             ],
             [
              0.7777777777777778,
              "#fb9f3a"
             ],
             [
              0.8888888888888888,
              "#fdca26"
             ],
             [
              1,
              "#f0f921"
             ]
            ],
            "type": "heatmap"
           }
          ],
          "heatmapgl": [
           {
            "colorbar": {
             "outlinewidth": 0,
             "ticks": ""
            },
            "colorscale": [
             [
              0,
              "#0d0887"
             ],
             [
              0.1111111111111111,
              "#46039f"
             ],
             [
              0.2222222222222222,
              "#7201a8"
             ],
             [
              0.3333333333333333,
              "#9c179e"
             ],
             [
              0.4444444444444444,
              "#bd3786"
             ],
             [
              0.5555555555555556,
              "#d8576b"
             ],
             [
              0.6666666666666666,
              "#ed7953"
             ],
             [
              0.7777777777777778,
              "#fb9f3a"
             ],
             [
              0.8888888888888888,
              "#fdca26"
             ],
             [
              1,
              "#f0f921"
             ]
            ],
            "type": "heatmapgl"
           }
          ],
          "histogram": [
           {
            "marker": {
             "pattern": {
              "fillmode": "overlay",
              "size": 10,
              "solidity": 0.2
             }
            },
            "type": "histogram"
           }
          ],
          "histogram2d": [
           {
            "colorbar": {
             "outlinewidth": 0,
             "ticks": ""
            },
            "colorscale": [
             [
              0,
              "#0d0887"
             ],
             [
              0.1111111111111111,
              "#46039f"
             ],
             [
              0.2222222222222222,
              "#7201a8"
             ],
             [
              0.3333333333333333,
              "#9c179e"
             ],
             [
              0.4444444444444444,
              "#bd3786"
             ],
             [
              0.5555555555555556,
              "#d8576b"
             ],
             [
              0.6666666666666666,
              "#ed7953"
             ],
             [
              0.7777777777777778,
              "#fb9f3a"
             ],
             [
              0.8888888888888888,
              "#fdca26"
             ],
             [
              1,
              "#f0f921"
             ]
            ],
            "type": "histogram2d"
           }
          ],
          "histogram2dcontour": [
           {
            "colorbar": {
             "outlinewidth": 0,
             "ticks": ""
            },
            "colorscale": [
             [
              0,
              "#0d0887"
             ],
             [
              0.1111111111111111,
              "#46039f"
             ],
             [
              0.2222222222222222,
              "#7201a8"
             ],
             [
              0.3333333333333333,
              "#9c179e"
             ],
             [
              0.4444444444444444,
              "#bd3786"
             ],
             [
              0.5555555555555556,
              "#d8576b"
             ],
             [
              0.6666666666666666,
              "#ed7953"
             ],
             [
              0.7777777777777778,
              "#fb9f3a"
             ],
             [
              0.8888888888888888,
              "#fdca26"
             ],
             [
              1,
              "#f0f921"
             ]
            ],
            "type": "histogram2dcontour"
           }
          ],
          "mesh3d": [
           {
            "colorbar": {
             "outlinewidth": 0,
             "ticks": ""
            },
            "type": "mesh3d"
           }
          ],
          "parcoords": [
           {
            "line": {
             "colorbar": {
              "outlinewidth": 0,
              "ticks": ""
             }
            },
            "type": "parcoords"
           }
          ],
          "pie": [
           {
            "automargin": true,
            "type": "pie"
           }
          ],
          "scatter": [
           {
            "fillpattern": {
             "fillmode": "overlay",
             "size": 10,
             "solidity": 0.2
            },
            "type": "scatter"
           }
          ],
          "scatter3d": [
           {
            "line": {
             "colorbar": {
              "outlinewidth": 0,
              "ticks": ""
             }
            },
            "marker": {
             "colorbar": {
              "outlinewidth": 0,
              "ticks": ""
             }
            },
            "type": "scatter3d"
           }
          ],
          "scattercarpet": [
           {
            "marker": {
             "colorbar": {
              "outlinewidth": 0,
              "ticks": ""
             }
            },
            "type": "scattercarpet"
           }
          ],
          "scattergeo": [
           {
            "marker": {
             "colorbar": {
              "outlinewidth": 0,
              "ticks": ""
             }
            },
            "type": "scattergeo"
           }
          ],
          "scattergl": [
           {
            "marker": {
             "colorbar": {
              "outlinewidth": 0,
              "ticks": ""
             }
            },
            "type": "scattergl"
           }
          ],
          "scattermapbox": [
           {
            "marker": {
             "colorbar": {
              "outlinewidth": 0,
              "ticks": ""
             }
            },
            "type": "scattermapbox"
           }
          ],
          "scatterpolar": [
           {
            "marker": {
             "colorbar": {
              "outlinewidth": 0,
              "ticks": ""
             }
            },
            "type": "scatterpolar"
           }
          ],
          "scatterpolargl": [
           {
            "marker": {
             "colorbar": {
              "outlinewidth": 0,
              "ticks": ""
             }
            },
            "type": "scatterpolargl"
           }
          ],
          "scatterternary": [
           {
            "marker": {
             "colorbar": {
              "outlinewidth": 0,
              "ticks": ""
             }
            },
            "type": "scatterternary"
           }
          ],
          "surface": [
           {
            "colorbar": {
             "outlinewidth": 0,
             "ticks": ""
            },
            "colorscale": [
             [
              0,
              "#0d0887"
             ],
             [
              0.1111111111111111,
              "#46039f"
             ],
             [
              0.2222222222222222,
              "#7201a8"
             ],
             [
              0.3333333333333333,
              "#9c179e"
             ],
             [
              0.4444444444444444,
              "#bd3786"
             ],
             [
              0.5555555555555556,
              "#d8576b"
             ],
             [
              0.6666666666666666,
              "#ed7953"
             ],
             [
              0.7777777777777778,
              "#fb9f3a"
             ],
             [
              0.8888888888888888,
              "#fdca26"
             ],
             [
              1,
              "#f0f921"
             ]
            ],
            "type": "surface"
           }
          ],
          "table": [
           {
            "cells": {
             "fill": {
              "color": "#EBF0F8"
             },
             "line": {
              "color": "white"
             }
            },
            "header": {
             "fill": {
              "color": "#C8D4E3"
             },
             "line": {
              "color": "white"
             }
            },
            "type": "table"
           }
          ]
         },
         "layout": {
          "annotationdefaults": {
           "arrowcolor": "#2a3f5f",
           "arrowhead": 0,
           "arrowwidth": 1
          },
          "autotypenumbers": "strict",
          "coloraxis": {
           "colorbar": {
            "outlinewidth": 0,
            "ticks": ""
           }
          },
          "colorscale": {
           "diverging": [
            [
             0,
             "#8e0152"
            ],
            [
             0.1,
             "#c51b7d"
            ],
            [
             0.2,
             "#de77ae"
            ],
            [
             0.3,
             "#f1b6da"
            ],
            [
             0.4,
             "#fde0ef"
            ],
            [
             0.5,
             "#f7f7f7"
            ],
            [
             0.6,
             "#e6f5d0"
            ],
            [
             0.7,
             "#b8e186"
            ],
            [
             0.8,
             "#7fbc41"
            ],
            [
             0.9,
             "#4d9221"
            ],
            [
             1,
             "#276419"
            ]
           ],
           "sequential": [
            [
             0,
             "#0d0887"
            ],
            [
             0.1111111111111111,
             "#46039f"
            ],
            [
             0.2222222222222222,
             "#7201a8"
            ],
            [
             0.3333333333333333,
             "#9c179e"
            ],
            [
             0.4444444444444444,
             "#bd3786"
            ],
            [
             0.5555555555555556,
             "#d8576b"
            ],
            [
             0.6666666666666666,
             "#ed7953"
            ],
            [
             0.7777777777777778,
             "#fb9f3a"
            ],
            [
             0.8888888888888888,
             "#fdca26"
            ],
            [
             1,
             "#f0f921"
            ]
           ],
           "sequentialminus": [
            [
             0,
             "#0d0887"
            ],
            [
             0.1111111111111111,
             "#46039f"
            ],
            [
             0.2222222222222222,
             "#7201a8"
            ],
            [
             0.3333333333333333,
             "#9c179e"
            ],
            [
             0.4444444444444444,
             "#bd3786"
            ],
            [
             0.5555555555555556,
             "#d8576b"
            ],
            [
             0.6666666666666666,
             "#ed7953"
            ],
            [
             0.7777777777777778,
             "#fb9f3a"
            ],
            [
             0.8888888888888888,
             "#fdca26"
            ],
            [
             1,
             "#f0f921"
            ]
           ]
          },
          "colorway": [
           "#636efa",
           "#EF553B",
           "#00cc96",
           "#ab63fa",
           "#FFA15A",
           "#19d3f3",
           "#FF6692",
           "#B6E880",
           "#FF97FF",
           "#FECB52"
          ],
          "font": {
           "color": "#2a3f5f"
          },
          "geo": {
           "bgcolor": "white",
           "lakecolor": "white",
           "landcolor": "#E5ECF6",
           "showlakes": true,
           "showland": true,
           "subunitcolor": "white"
          },
          "hoverlabel": {
           "align": "left"
          },
          "hovermode": "closest",
          "mapbox": {
           "style": "light"
          },
          "paper_bgcolor": "white",
          "plot_bgcolor": "#E5ECF6",
          "polar": {
           "angularaxis": {
            "gridcolor": "white",
            "linecolor": "white",
            "ticks": ""
           },
           "bgcolor": "#E5ECF6",
           "radialaxis": {
            "gridcolor": "white",
            "linecolor": "white",
            "ticks": ""
           }
          },
          "scene": {
           "xaxis": {
            "backgroundcolor": "#E5ECF6",
            "gridcolor": "white",
            "gridwidth": 2,
            "linecolor": "white",
            "showbackground": true,
            "ticks": "",
            "zerolinecolor": "white"
           },
           "yaxis": {
            "backgroundcolor": "#E5ECF6",
            "gridcolor": "white",
            "gridwidth": 2,
            "linecolor": "white",
            "showbackground": true,
            "ticks": "",
            "zerolinecolor": "white"
           },
           "zaxis": {
            "backgroundcolor": "#E5ECF6",
            "gridcolor": "white",
            "gridwidth": 2,
            "linecolor": "white",
            "showbackground": true,
            "ticks": "",
            "zerolinecolor": "white"
           }
          },
          "shapedefaults": {
           "line": {
            "color": "#2a3f5f"
           }
          },
          "ternary": {
           "aaxis": {
            "gridcolor": "white",
            "linecolor": "white",
            "ticks": ""
           },
           "baxis": {
            "gridcolor": "white",
            "linecolor": "white",
            "ticks": ""
           },
           "bgcolor": "#E5ECF6",
           "caxis": {
            "gridcolor": "white",
            "linecolor": "white",
            "ticks": ""
           }
          },
          "title": {
           "x": 0.05
          },
          "xaxis": {
           "automargin": true,
           "gridcolor": "white",
           "linecolor": "white",
           "ticks": "",
           "title": {
            "standoff": 15
           },
           "zerolinecolor": "white",
           "zerolinewidth": 2
          },
          "yaxis": {
           "automargin": true,
           "gridcolor": "white",
           "linecolor": "white",
           "ticks": "",
           "title": {
            "standoff": 15
           },
           "zerolinecolor": "white",
           "zerolinewidth": 2
          }
         }
        },
        "title": {
         "text": "Yearly MPG Average by Vehicle Class"
        },
        "xaxis": {
         "anchor": "y",
         "domain": [
          0,
          1
         ],
         "title": {
          "text": "Year"
         }
        },
        "yaxis": {
         "anchor": "x",
         "domain": [
          0,
          1
         ],
         "title": {
          "text": "Combined Average MPG"
         }
        }
       }
      },
      "text/html": [
       "<div>                            <div id=\"72144ed2-693d-460c-9534-11b8ca1f0043\" class=\"plotly-graph-div\" style=\"height:525px; width:100%;\"></div>            <script type=\"text/javascript\">                require([\"plotly\"], function(Plotly) {                    window.PLOTLYENV=window.PLOTLYENV || {};                                    if (document.getElementById(\"72144ed2-693d-460c-9534-11b8ca1f0043\")) {                    Plotly.newPlot(                        \"72144ed2-693d-460c-9534-11b8ca1f0043\",                        [{\"hovertemplate\":\"color=COMPACT<br>x=%{x}<br>y=%{y}<br>size=%{marker.size}<extra></extra>\",\"legendgroup\":\"COMPACT\",\"marker\":{\"color\":\"#636efa\",\"size\":[105.0,145.0,133.0,143.0,154.0,146.0,137.0,116.0,148.0,150.0,140.0,124.0,133.0,168.0,168.0,186.0,181.0,159.0,122.0,106.0,108.0,85.0,70.0],\"sizemode\":\"area\",\"sizeref\":0.67,\"symbol\":\"circle\"},\"mode\":\"markers\",\"name\":\"COMPACT\",\"orientation\":\"v\",\"showlegend\":true,\"x\":[2000,2001,2002,2003,2004,2005,2006,2007,2008,2009,2010,2011,2012,2013,2014,2015,2016,2017,2018,2019,2020,2021,2022],\"xaxis\":\"x\",\"y\":[31.504761904761907,31.93793103448276,31.969924812030076,32.37062937062937,31.603896103896105,31.698630136986303,31.233576642335766,30.25,30.2027027027027,30.326666666666668,32.17142857142857,33.653225806451616,35.06015037593985,35.214285714285715,36.19047619047619,31.333333333333332,31.414364640883978,31.60377358490566,32.23770491803279,32.43396226415094,32.28703703703704,32.92941176470588,33.22857142857143],\"yaxis\":\"y\",\"type\":\"scatter\"},{\"hovertemplate\":\"color=FULL-SIZE<br>x=%{x}<br>y=%{y}<br>size=%{marker.size}<extra></extra>\",\"legendgroup\":\"FULL-SIZE\",\"marker\":{\"color\":\"#EF553B\",\"size\":[28.0,30.0,29.0,25.0,34.0,45.0,56.0,54.0,63.0,68.0,77.0,71.0,81.0,76.0,84.0,93.0,90.0,82.0,109.0,101.0,78.0,65.0,64.0],\"sizemode\":\"area\",\"sizeref\":0.67,\"symbol\":\"circle\"},\"mode\":\"markers\",\"name\":\"FULL-SIZE\",\"orientation\":\"v\",\"showlegend\":true,\"x\":[2000,2001,2002,2003,2004,2005,2006,2007,2008,2009,2010,2011,2012,2013,2014,2015,2016,2017,2018,2019,2020,2021,2022],\"xaxis\":\"x\",\"y\":[26.428571428571427,26.033333333333335,25.689655172413794,26.28,24.735294117647058,24.155555555555555,24.625,24.462962962962962,24.50793650793651,24.676470588235293,24.441558441558442,25.08450704225352,26.098765432098766,26.894736842105264,27.607142857142858,24.0,24.27777777777778,26.402439024390244,27.192660550458715,26.603960396039604,28.102564102564102,29.0,28.890625],\"yaxis\":\"y\",\"type\":\"scatter\"},{\"hovertemplate\":\"color=MID-SIZE<br>x=%{x}<br>y=%{y}<br>size=%{marker.size}<extra></extra>\",\"legendgroup\":\"MID-SIZE\",\"marker\":{\"color\":\"#00cc96\",\"size\":[77.0,82.0,90.0,89.0,103.0,114.0,111.0,139.0,134.0,125.0,120.0,132.0,131.0,153.0,170.0,180.0,188.0,162.0,158.0,145.0,126.0,114.0,117.0],\"sizemode\":\"area\",\"sizeref\":0.67,\"symbol\":\"circle\"},\"mode\":\"markers\",\"name\":\"MID-SIZE\",\"orientation\":\"v\",\"showlegend\":true,\"x\":[2000,2001,2002,2003,2004,2005,2006,2007,2008,2009,2010,2011,2012,2013,2014,2015,2016,2017,2018,2019,2020,2021,2022],\"xaxis\":\"x\",\"y\":[27.441558441558442,27.353658536585368,27.444444444444443,27.48314606741573,27.92233009708738,28.140350877192983,28.18918918918919,29.115107913669064,28.970149253731343,29.024,29.95,31.96969696969697,32.86259541984733,35.44444444444444,35.752941176470586,31.044444444444444,31.335106382978722,31.166666666666668,31.664556962025316,32.66206896551724,31.365079365079364,31.42105263157895,31.034188034188034],\"yaxis\":\"y\",\"type\":\"scatter\"},{\"hovertemplate\":\"color=MINICOMPACT<br>x=%{x}<br>y=%{y}<br>size=%{marker.size}<extra></extra>\",\"legendgroup\":\"MINICOMPACT\",\"marker\":{\"color\":\"#ab63fa\",\"size\":[11.0,17.0,22.0,33.0,25.0,74.0,37.0,47.0,49.0,43.0,41.0,53.0,76.0,53.0,47.0,59.0,52.0,44.0,53.0,56.0,23.0,30.0,49.0],\"sizemode\":\"area\",\"sizeref\":0.67,\"symbol\":\"circle\"},\"mode\":\"markers\",\"name\":\"MINICOMPACT\",\"orientation\":\"v\",\"showlegend\":true,\"x\":[2000,2001,2002,2003,2004,2005,2006,2007,2008,2009,2010,2011,2012,2013,2014,2015,2016,2017,2018,2019,2020,2021,2022],\"xaxis\":\"x\",\"y\":[25.636363636363637,25.235294117647058,25.363636363636363,27.575757575757574,29.2,26.256756756756758,28.43243243243243,27.5531914893617,27.897959183673468,31.023255813953487,30.4390243902439,30.169811320754718,30.56578947368421,34.41509433962264,33.744680851063826,28.593220338983052,28.557692307692307,29.84090909090909,28.245283018867923,28.0,26.652173913043477,24.9,24.224489795918366],\"yaxis\":\"y\",\"type\":\"scatter\"},{\"hovertemplate\":\"color=MINIVAN<br>x=%{x}<br>y=%{y}<br>size=%{marker.size}<extra></extra>\",\"legendgroup\":\"MINIVAN\",\"marker\":{\"color\":\"#FFA15A\",\"size\":[26.0,17.0,22.0,28.0,21.0,33.0,35.0,34.0,22.0,16.0,14.0,14.0,16.0,15.0,14.0,15.0,12.0,12.0,11.0,9.0,8.0,7.0,7.0],\"sizemode\":\"area\",\"sizeref\":0.67,\"symbol\":\"circle\"},\"mode\":\"markers\",\"name\":\"MINIVAN\",\"orientation\":\"v\",\"showlegend\":true,\"x\":[2000,2001,2002,2003,2004,2005,2006,2007,2008,2009,2010,2011,2012,2013,2014,2015,2016,2017,2018,2019,2020,2021,2022],\"xaxis\":\"x\",\"y\":[23.96153846153846,24.88235294117647,24.545454545454547,24.392857142857142,25.571428571428573,24.727272727272727,24.714285714285715,24.08823529411765,25.0,26.0,26.142857142857142,25.5,27.375,27.2,26.928571428571427,23.8,23.916666666666668,25.0,24.454545454545453,24.666666666666668,25.5,30.714285714285715,31.0],\"yaxis\":\"y\",\"type\":\"scatter\"},{\"hovertemplate\":\"color=PICKUP TRUCK - SMALL<br>x=%{x}<br>y=%{y}<br>size=%{marker.size}<extra></extra>\",\"legendgroup\":\"PICKUP TRUCK - SMALL\",\"marker\":{\"color\":\"#19d3f3\",\"size\":[11.0,12.0,12.0,8.0,1.0,52.0,59.0,54.0,51.0,43.0,12.0,12.0,22.0,26.0,28.0,27.0,25.0,19.0,17.0,20.0],\"sizemode\":\"area\",\"sizeref\":0.67,\"symbol\":\"circle\"},\"mode\":\"markers\",\"name\":\"PICKUP TRUCK - SMALL\",\"orientation\":\"v\",\"showlegend\":true,\"x\":[2000,2001,2002,2003,2004,2008,2009,2010,2011,2012,2013,2014,2015,2016,2017,2018,2019,2020,2021,2022],\"xaxis\":\"x\",\"y\":[26.272727272727273,23.5,23.166666666666668,24.75,20.0,24.76923076923077,25.338983050847457,25.48148148148148,25.529411764705884,25.767441860465116,26.583333333333332,26.5,23.954545454545453,24.884615384615383,24.392857142857142,24.296296296296298,24.16,24.526315789473685,24.58823529411765,26.0],\"yaxis\":\"y\",\"type\":\"scatter\"},{\"hovertemplate\":\"color=PICKUP TRUCK - STANDARD<br>x=%{x}<br>y=%{y}<br>size=%{marker.size}<extra></extra>\",\"legendgroup\":\"PICKUP TRUCK - STANDARD\",\"marker\":{\"color\":\"#FF6692\",\"size\":[92.0,101.0,107.0,106.0,122.0,127.0,141.0,154.0,72.0,95.0,73.0,85.0,79.0,84.0,62.0,52.0,62.0,75.0,97.0,99.0,91.0,115.0,113.0],\"sizemode\":\"area\",\"sizeref\":0.67,\"symbol\":\"circle\"},\"mode\":\"markers\",\"name\":\"PICKUP TRUCK - STANDARD\",\"orientation\":\"v\",\"showlegend\":true,\"x\":[2000,2001,2002,2003,2004,2005,2006,2007,2008,2009,2010,2011,2012,2013,2014,2015,2016,2017,2018,2019,2020,2021,2022],\"xaxis\":\"x\",\"y\":[20.945652173913043,20.792079207920793,20.177570093457945,21.00943396226415,20.66393442622951,21.393700787401574,21.907801418439718,21.623376623376622,20.09722222222222,20.54736842105263,20.054794520547944,20.270588235294117,20.468354430379748,20.726190476190474,22.112903225806452,20.48076923076923,20.5,20.56,21.329896907216494,21.32323232323232,22.13186813186813,21.8,21.460176991150444],\"yaxis\":\"y\",\"type\":\"scatter\"},{\"hovertemplate\":\"color=STATION WAGON - MID-SIZE<br>x=%{x}<br>y=%{y}<br>size=%{marker.size}<extra></extra>\",\"legendgroup\":\"STATION WAGON - MID-SIZE\",\"marker\":{\"color\":\"#B6E880\",\"size\":[25.0,31.0,32.0,35.0,41.0,38.0,28.0,32.0,18.0,13.0,9.0,4.0,5.0,3.0,6.0,8.0,7.0,8.0,10.0,9.0,8.0,9.0,8.0],\"sizemode\":\"area\",\"sizeref\":0.67,\"symbol\":\"circle\"},\"mode\":\"markers\",\"name\":\"STATION WAGON - MID-SIZE\",\"orientation\":\"v\",\"showlegend\":true,\"x\":[2000,2001,2002,2003,2004,2005,2006,2007,2008,2009,2010,2011,2012,2013,2014,2015,2016,2017,2018,2019,2020,2021,2022],\"xaxis\":\"x\",\"y\":[28.44,28.870967741935484,29.15625,29.0,28.414634146341463,28.210526315789473,28.035714285714285,28.625,28.5,28.53846153846154,28.88888888888889,28.5,35.0,39.0,35.5,30.625,30.857142857142858,32.125,30.2,26.11111111111111,24.0,24.0,24.25],\"yaxis\":\"y\",\"type\":\"scatter\"},{\"hovertemplate\":\"color=STATION WAGON - SMALL<br>x=%{x}<br>y=%{y}<br>size=%{marker.size}<extra></extra>\",\"legendgroup\":\"STATION WAGON - SMALL\",\"marker\":{\"color\":\"#FF97FF\",\"size\":[13.0,12.0,18.0,45.0,43.0,54.0,53.0,44.0,43.0,54.0,60.0,56.0,47.0,44.0,34.0,35.0,37.0,45.0,39.0,37.0,25.0,20.0,19.0],\"sizemode\":\"area\",\"sizeref\":0.67,\"symbol\":\"circle\"},\"mode\":\"markers\",\"name\":\"STATION WAGON - SMALL\",\"orientation\":\"v\",\"showlegend\":true,\"x\":[2000,2001,2002,2003,2004,2005,2006,2007,2008,2009,2010,2011,2012,2013,2014,2015,2016,2017,2018,2019,2020,2021,2022],\"xaxis\":\"x\",\"y\":[31.692307692307693,31.916666666666668,29.27777777777778,31.644444444444446,31.27906976744186,30.814814814814813,31.735849056603772,31.59090909090909,31.58139534883721,32.351851851851855,33.56666666666667,33.55357142857143,34.57446808510638,34.79545454545455,35.470588235294116,33.48571428571429,33.270270270270274,35.06666666666667,35.17948717948718,34.891891891891895,36.2,36.4,36.26315789473684],\"yaxis\":\"y\",\"type\":\"scatter\"},{\"hovertemplate\":\"color=SUBCOMPACT<br>x=%{x}<br>y=%{y}<br>size=%{marker.size}<extra></extra>\",\"legendgroup\":\"SUBCOMPACT\",\"marker\":{\"color\":\"#FECB52\",\"size\":[104.0,62.0,73.0,65.0,86.0,87.0,78.0,83.0,100.0,99.0,98.0,104.0,102.0,95.0,62.0,92.0,76.0,93.0,96.0,98.0,95.0,83.0,79.0],\"sizemode\":\"area\",\"sizeref\":0.67,\"symbol\":\"circle\"},\"mode\":\"markers\",\"name\":\"SUBCOMPACT\",\"orientation\":\"v\",\"showlegend\":true,\"x\":[2000,2001,2002,2003,2004,2005,2006,2007,2008,2009,2010,2011,2012,2013,2014,2015,2016,2017,2018,2019,2020,2021,2022],\"xaxis\":\"x\",\"y\":[31.48076923076923,31.258064516129032,29.15068493150685,27.984615384615385,28.96511627906977,29.82758620689655,29.743589743589745,29.50602409638554,29.86,29.98989898989899,30.510204081632654,31.01923076923077,30.735294117647058,30.63157894736842,31.903225806451612,28.66304347826087,28.513157894736842,27.580645161290324,27.78125,27.948979591836736,26.821052631578947,27.373493975903614,27.620253164556964],\"yaxis\":\"y\",\"type\":\"scatter\"},{\"hovertemplate\":\"color=SUV<br>x=%{x}<br>y=%{y}<br>size=%{marker.size}<extra></extra>\",\"legendgroup\":\"SUV\",\"marker\":{\"color\":\"#636efa\",\"size\":[97.0,98.0,124.0,160.0,190.0,224.0,221.0,239.0,267.0,268.0,249.0,268.0,235.0],\"sizemode\":\"area\",\"sizeref\":0.67,\"symbol\":\"circle\"},\"mode\":\"markers\",\"name\":\"SUV\",\"orientation\":\"v\",\"showlegend\":true,\"x\":[2000,2001,2002,2003,2004,2005,2006,2007,2008,2009,2010,2011,2012],\"xaxis\":\"x\",\"y\":[22.84536082474227,23.081632653061224,22.572580645161292,22.5125,21.957894736842107,23.0,23.755656108597286,24.748953974895397,24.95505617977528,25.100746268656717,26.417670682730925,26.600746268656717,26.57872340425532],\"yaxis\":\"y\",\"type\":\"scatter\"},{\"hovertemplate\":\"color=TWO-SEATER<br>x=%{x}<br>y=%{y}<br>size=%{marker.size}<extra></extra>\",\"legendgroup\":\"TWO-SEATER\",\"marker\":{\"color\":\"#EF553B\",\"size\":[10.0,31.0,37.0,40.0,46.0,52.0,49.0,61.0,73.0,64.0,59.0,64.0,76.0,58.0,70.0,84.0,68.0,57.0,69.0,70.0,64.0,59.0,51.0],\"sizemode\":\"area\",\"sizeref\":0.67,\"symbol\":\"circle\"},\"mode\":\"markers\",\"name\":\"TWO-SEATER\",\"orientation\":\"v\",\"showlegend\":true,\"x\":[2000,2001,2002,2003,2004,2005,2006,2007,2008,2009,2010,2011,2012,2013,2014,2015,2016,2017,2018,2019,2020,2021,2022],\"xaxis\":\"x\",\"y\":[23.4,27.548387096774192,25.972972972972972,25.475,25.065217391304348,26.03846153846154,26.93877551020408,25.049180327868854,25.575342465753426,24.109375,25.16949152542373,26.65625,29.289473684210527,31.75862068965517,31.271428571428572,26.404761904761905,25.441176470588236,24.75438596491228,24.333333333333332,24.37142857142857,24.421875,23.0,23.15686274509804],\"yaxis\":\"y\",\"type\":\"scatter\"},{\"hovertemplate\":\"color=VAN - CARGO<br>x=%{x}<br>y=%{y}<br>size=%{marker.size}<extra></extra>\",\"legendgroup\":\"VAN - CARGO\",\"marker\":{\"color\":\"#00cc96\",\"size\":[23.0,23.0,23.0,30.0,21.0,13.0,14.0,27.0,26.0,26.0,18.0,22.0,22.0,22.0,22.0],\"sizemode\":\"area\",\"sizeref\":0.67,\"symbol\":\"circle\"},\"mode\":\"markers\",\"name\":\"VAN - CARGO\",\"orientation\":\"v\",\"showlegend\":true,\"x\":[2000,2001,2002,2003,2004,2005,2006,2007,2008,2009,2010,2011,2012,2013,2014],\"xaxis\":\"x\",\"y\":[19.82608695652174,19.26086956521739,19.434782608695652,18.666666666666668,18.80952380952381,20.384615384615383,20.214285714285715,18.666666666666668,18.53846153846154,18.53846153846154,17.666666666666668,17.454545454545453,17.40909090909091,17.40909090909091,17.318181818181817],\"yaxis\":\"y\",\"type\":\"scatter\"},{\"hovertemplate\":\"color=VAN - PASSENGER<br>x=%{x}<br>y=%{y}<br>size=%{marker.size}<extra></extra>\",\"legendgroup\":\"VAN - PASSENGER\",\"marker\":{\"color\":\"#ab63fa\",\"size\":[17.0,18.0,18.0,13.0,11.0,12.0,8.0,12.0,12.0,12.0,8.0,27.0,31.0,30.0,25.0,19.0,7.0,7.0,2.0,2.0,4.0,4.0],\"sizemode\":\"area\",\"sizeref\":0.67,\"symbol\":\"circle\"},\"mode\":\"markers\",\"name\":\"VAN - PASSENGER\",\"orientation\":\"v\",\"showlegend\":true,\"x\":[2000,2001,2002,2003,2004,2005,2006,2007,2008,2009,2010,2011,2012,2013,2014,2015,2016,2017,2018,2019,2020,2021],\"xaxis\":\"x\",\"y\":[18.647058823529413,19.055555555555557,18.77777777777778,18.615384615384617,19.181818181818183,19.666666666666668,19.75,17.5,17.666666666666668,17.666666666666668,16.75,15.62962962962963,15.612903225806452,15.633333333333333,16.0,14.736842105263158,15.571428571428571,16.0,19.0,19.0,16.75,16.75],\"yaxis\":\"y\",\"type\":\"scatter\"},{\"hovertemplate\":\"color=SUV - STANDARD<br>x=%{x}<br>y=%{y}<br>size=%{marker.size}<extra></extra>\",\"legendgroup\":\"SUV - STANDARD\",\"marker\":{\"color\":\"#FFA15A\",\"size\":[1.0,2.0,101.0,102.0,99.0,107.0,102.0,103.0,111.0,118.0,127.0,149.0],\"sizemode\":\"area\",\"sizeref\":0.67,\"symbol\":\"circle\"},\"mode\":\"markers\",\"name\":\"SUV - STANDARD\",\"orientation\":\"v\",\"showlegend\":true,\"x\":[2007,2012,2013,2014,2015,2016,2017,2018,2019,2020,2021,2022],\"xaxis\":\"x\",\"y\":[20.0,25.5,22.396039603960396,22.813725490196077,21.08080808080808,21.850467289719628,21.598039215686274,21.601941747572816,21.756756756756758,22.084745762711865,22.58267716535433,22.463087248322147],\"yaxis\":\"y\",\"type\":\"scatter\"},{\"hovertemplate\":\"color=SPECIAL PURPOSE VEHICLE<br>x=%{x}<br>y=%{y}<br>size=%{marker.size}<extra></extra>\",\"legendgroup\":\"SPECIAL PURPOSE VEHICLE\",\"marker\":{\"color\":\"#19d3f3\",\"size\":[1.0,1.0,2.0,5.0,7.0,9.0,17.0,10.0,10.0,14.0,13.0,13.0,12.0],\"sizemode\":\"area\",\"sizeref\":0.67,\"symbol\":\"circle\"},\"mode\":\"markers\",\"name\":\"SPECIAL PURPOSE VEHICLE\",\"orientation\":\"v\",\"showlegend\":true,\"x\":[2010,2011,2012,2013,2014,2015,2016,2017,2018,2019,2020,2021,2022],\"xaxis\":\"x\",\"y\":[32.0,31.0,32.5,31.6,31.857142857142858,28.22222222222222,25.647058823529413,25.8,25.4,27.071428571428573,27.615384615384617,27.076923076923077,26.75],\"yaxis\":\"y\",\"type\":\"scatter\"},{\"hovertemplate\":\"color=SUV - SMALL<br>x=%{x}<br>y=%{y}<br>size=%{marker.size}<extra></extra>\",\"legendgroup\":\"SUV - SMALL\",\"marker\":{\"color\":\"#FF6692\",\"size\":[139.0,155.0,179.0,180.0,174.0,177.0,174.0,188.0,193.0,197.0],\"sizemode\":\"area\",\"sizeref\":0.67,\"symbol\":\"circle\"},\"mode\":\"markers\",\"name\":\"SUV - SMALL\",\"orientation\":\"v\",\"showlegend\":true,\"x\":[2013,2014,2015,2016,2017,2018,2019,2020,2021,2022],\"xaxis\":\"x\",\"y\":[30.892086330935253,31.316129032258065,27.70949720670391,28.227777777777778,27.775862068965516,28.372881355932204,28.913793103448278,28.824468085106382,29.435233160621763,29.781725888324875],\"yaxis\":\"y\",\"type\":\"scatter\"}],                        {\"template\":{\"data\":{\"histogram2dcontour\":[{\"type\":\"histogram2dcontour\",\"colorbar\":{\"outlinewidth\":0,\"ticks\":\"\"},\"colorscale\":[[0.0,\"#0d0887\"],[0.1111111111111111,\"#46039f\"],[0.2222222222222222,\"#7201a8\"],[0.3333333333333333,\"#9c179e\"],[0.4444444444444444,\"#bd3786\"],[0.5555555555555556,\"#d8576b\"],[0.6666666666666666,\"#ed7953\"],[0.7777777777777778,\"#fb9f3a\"],[0.8888888888888888,\"#fdca26\"],[1.0,\"#f0f921\"]]}],\"choropleth\":[{\"type\":\"choropleth\",\"colorbar\":{\"outlinewidth\":0,\"ticks\":\"\"}}],\"histogram2d\":[{\"type\":\"histogram2d\",\"colorbar\":{\"outlinewidth\":0,\"ticks\":\"\"},\"colorscale\":[[0.0,\"#0d0887\"],[0.1111111111111111,\"#46039f\"],[0.2222222222222222,\"#7201a8\"],[0.3333333333333333,\"#9c179e\"],[0.4444444444444444,\"#bd3786\"],[0.5555555555555556,\"#d8576b\"],[0.6666666666666666,\"#ed7953\"],[0.7777777777777778,\"#fb9f3a\"],[0.8888888888888888,\"#fdca26\"],[1.0,\"#f0f921\"]]}],\"heatmap\":[{\"type\":\"heatmap\",\"colorbar\":{\"outlinewidth\":0,\"ticks\":\"\"},\"colorscale\":[[0.0,\"#0d0887\"],[0.1111111111111111,\"#46039f\"],[0.2222222222222222,\"#7201a8\"],[0.3333333333333333,\"#9c179e\"],[0.4444444444444444,\"#bd3786\"],[0.5555555555555556,\"#d8576b\"],[0.6666666666666666,\"#ed7953\"],[0.7777777777777778,\"#fb9f3a\"],[0.8888888888888888,\"#fdca26\"],[1.0,\"#f0f921\"]]}],\"heatmapgl\":[{\"type\":\"heatmapgl\",\"colorbar\":{\"outlinewidth\":0,\"ticks\":\"\"},\"colorscale\":[[0.0,\"#0d0887\"],[0.1111111111111111,\"#46039f\"],[0.2222222222222222,\"#7201a8\"],[0.3333333333333333,\"#9c179e\"],[0.4444444444444444,\"#bd3786\"],[0.5555555555555556,\"#d8576b\"],[0.6666666666666666,\"#ed7953\"],[0.7777777777777778,\"#fb9f3a\"],[0.8888888888888888,\"#fdca26\"],[1.0,\"#f0f921\"]]}],\"contourcarpet\":[{\"type\":\"contourcarpet\",\"colorbar\":{\"outlinewidth\":0,\"ticks\":\"\"}}],\"contour\":[{\"type\":\"contour\",\"colorbar\":{\"outlinewidth\":0,\"ticks\":\"\"},\"colorscale\":[[0.0,\"#0d0887\"],[0.1111111111111111,\"#46039f\"],[0.2222222222222222,\"#7201a8\"],[0.3333333333333333,\"#9c179e\"],[0.4444444444444444,\"#bd3786\"],[0.5555555555555556,\"#d8576b\"],[0.6666666666666666,\"#ed7953\"],[0.7777777777777778,\"#fb9f3a\"],[0.8888888888888888,\"#fdca26\"],[1.0,\"#f0f921\"]]}],\"surface\":[{\"type\":\"surface\",\"colorbar\":{\"outlinewidth\":0,\"ticks\":\"\"},\"colorscale\":[[0.0,\"#0d0887\"],[0.1111111111111111,\"#46039f\"],[0.2222222222222222,\"#7201a8\"],[0.3333333333333333,\"#9c179e\"],[0.4444444444444444,\"#bd3786\"],[0.5555555555555556,\"#d8576b\"],[0.6666666666666666,\"#ed7953\"],[0.7777777777777778,\"#fb9f3a\"],[0.8888888888888888,\"#fdca26\"],[1.0,\"#f0f921\"]]}],\"mesh3d\":[{\"type\":\"mesh3d\",\"colorbar\":{\"outlinewidth\":0,\"ticks\":\"\"}}],\"scatter\":[{\"fillpattern\":{\"fillmode\":\"overlay\",\"size\":10,\"solidity\":0.2},\"type\":\"scatter\"}],\"parcoords\":[{\"type\":\"parcoords\",\"line\":{\"colorbar\":{\"outlinewidth\":0,\"ticks\":\"\"}}}],\"scatterpolargl\":[{\"type\":\"scatterpolargl\",\"marker\":{\"colorbar\":{\"outlinewidth\":0,\"ticks\":\"\"}}}],\"bar\":[{\"error_x\":{\"color\":\"#2a3f5f\"},\"error_y\":{\"color\":\"#2a3f5f\"},\"marker\":{\"line\":{\"color\":\"#E5ECF6\",\"width\":0.5},\"pattern\":{\"fillmode\":\"overlay\",\"size\":10,\"solidity\":0.2}},\"type\":\"bar\"}],\"scattergeo\":[{\"type\":\"scattergeo\",\"marker\":{\"colorbar\":{\"outlinewidth\":0,\"ticks\":\"\"}}}],\"scatterpolar\":[{\"type\":\"scatterpolar\",\"marker\":{\"colorbar\":{\"outlinewidth\":0,\"ticks\":\"\"}}}],\"histogram\":[{\"marker\":{\"pattern\":{\"fillmode\":\"overlay\",\"size\":10,\"solidity\":0.2}},\"type\":\"histogram\"}],\"scattergl\":[{\"type\":\"scattergl\",\"marker\":{\"colorbar\":{\"outlinewidth\":0,\"ticks\":\"\"}}}],\"scatter3d\":[{\"type\":\"scatter3d\",\"line\":{\"colorbar\":{\"outlinewidth\":0,\"ticks\":\"\"}},\"marker\":{\"colorbar\":{\"outlinewidth\":0,\"ticks\":\"\"}}}],\"scattermapbox\":[{\"type\":\"scattermapbox\",\"marker\":{\"colorbar\":{\"outlinewidth\":0,\"ticks\":\"\"}}}],\"scatterternary\":[{\"type\":\"scatterternary\",\"marker\":{\"colorbar\":{\"outlinewidth\":0,\"ticks\":\"\"}}}],\"scattercarpet\":[{\"type\":\"scattercarpet\",\"marker\":{\"colorbar\":{\"outlinewidth\":0,\"ticks\":\"\"}}}],\"carpet\":[{\"aaxis\":{\"endlinecolor\":\"#2a3f5f\",\"gridcolor\":\"white\",\"linecolor\":\"white\",\"minorgridcolor\":\"white\",\"startlinecolor\":\"#2a3f5f\"},\"baxis\":{\"endlinecolor\":\"#2a3f5f\",\"gridcolor\":\"white\",\"linecolor\":\"white\",\"minorgridcolor\":\"white\",\"startlinecolor\":\"#2a3f5f\"},\"type\":\"carpet\"}],\"table\":[{\"cells\":{\"fill\":{\"color\":\"#EBF0F8\"},\"line\":{\"color\":\"white\"}},\"header\":{\"fill\":{\"color\":\"#C8D4E3\"},\"line\":{\"color\":\"white\"}},\"type\":\"table\"}],\"barpolar\":[{\"marker\":{\"line\":{\"color\":\"#E5ECF6\",\"width\":0.5},\"pattern\":{\"fillmode\":\"overlay\",\"size\":10,\"solidity\":0.2}},\"type\":\"barpolar\"}],\"pie\":[{\"automargin\":true,\"type\":\"pie\"}]},\"layout\":{\"autotypenumbers\":\"strict\",\"colorway\":[\"#636efa\",\"#EF553B\",\"#00cc96\",\"#ab63fa\",\"#FFA15A\",\"#19d3f3\",\"#FF6692\",\"#B6E880\",\"#FF97FF\",\"#FECB52\"],\"font\":{\"color\":\"#2a3f5f\"},\"hovermode\":\"closest\",\"hoverlabel\":{\"align\":\"left\"},\"paper_bgcolor\":\"white\",\"plot_bgcolor\":\"#E5ECF6\",\"polar\":{\"bgcolor\":\"#E5ECF6\",\"angularaxis\":{\"gridcolor\":\"white\",\"linecolor\":\"white\",\"ticks\":\"\"},\"radialaxis\":{\"gridcolor\":\"white\",\"linecolor\":\"white\",\"ticks\":\"\"}},\"ternary\":{\"bgcolor\":\"#E5ECF6\",\"aaxis\":{\"gridcolor\":\"white\",\"linecolor\":\"white\",\"ticks\":\"\"},\"baxis\":{\"gridcolor\":\"white\",\"linecolor\":\"white\",\"ticks\":\"\"},\"caxis\":{\"gridcolor\":\"white\",\"linecolor\":\"white\",\"ticks\":\"\"}},\"coloraxis\":{\"colorbar\":{\"outlinewidth\":0,\"ticks\":\"\"}},\"colorscale\":{\"sequential\":[[0.0,\"#0d0887\"],[0.1111111111111111,\"#46039f\"],[0.2222222222222222,\"#7201a8\"],[0.3333333333333333,\"#9c179e\"],[0.4444444444444444,\"#bd3786\"],[0.5555555555555556,\"#d8576b\"],[0.6666666666666666,\"#ed7953\"],[0.7777777777777778,\"#fb9f3a\"],[0.8888888888888888,\"#fdca26\"],[1.0,\"#f0f921\"]],\"sequentialminus\":[[0.0,\"#0d0887\"],[0.1111111111111111,\"#46039f\"],[0.2222222222222222,\"#7201a8\"],[0.3333333333333333,\"#9c179e\"],[0.4444444444444444,\"#bd3786\"],[0.5555555555555556,\"#d8576b\"],[0.6666666666666666,\"#ed7953\"],[0.7777777777777778,\"#fb9f3a\"],[0.8888888888888888,\"#fdca26\"],[1.0,\"#f0f921\"]],\"diverging\":[[0,\"#8e0152\"],[0.1,\"#c51b7d\"],[0.2,\"#de77ae\"],[0.3,\"#f1b6da\"],[0.4,\"#fde0ef\"],[0.5,\"#f7f7f7\"],[0.6,\"#e6f5d0\"],[0.7,\"#b8e186\"],[0.8,\"#7fbc41\"],[0.9,\"#4d9221\"],[1,\"#276419\"]]},\"xaxis\":{\"gridcolor\":\"white\",\"linecolor\":\"white\",\"ticks\":\"\",\"title\":{\"standoff\":15},\"zerolinecolor\":\"white\",\"automargin\":true,\"zerolinewidth\":2},\"yaxis\":{\"gridcolor\":\"white\",\"linecolor\":\"white\",\"ticks\":\"\",\"title\":{\"standoff\":15},\"zerolinecolor\":\"white\",\"automargin\":true,\"zerolinewidth\":2},\"scene\":{\"xaxis\":{\"backgroundcolor\":\"#E5ECF6\",\"gridcolor\":\"white\",\"linecolor\":\"white\",\"showbackground\":true,\"ticks\":\"\",\"zerolinecolor\":\"white\",\"gridwidth\":2},\"yaxis\":{\"backgroundcolor\":\"#E5ECF6\",\"gridcolor\":\"white\",\"linecolor\":\"white\",\"showbackground\":true,\"ticks\":\"\",\"zerolinecolor\":\"white\",\"gridwidth\":2},\"zaxis\":{\"backgroundcolor\":\"#E5ECF6\",\"gridcolor\":\"white\",\"linecolor\":\"white\",\"showbackground\":true,\"ticks\":\"\",\"zerolinecolor\":\"white\",\"gridwidth\":2}},\"shapedefaults\":{\"line\":{\"color\":\"#2a3f5f\"}},\"annotationdefaults\":{\"arrowcolor\":\"#2a3f5f\",\"arrowhead\":0,\"arrowwidth\":1},\"geo\":{\"bgcolor\":\"white\",\"landcolor\":\"#E5ECF6\",\"subunitcolor\":\"white\",\"showland\":true,\"showlakes\":true,\"lakecolor\":\"white\"},\"title\":{\"x\":0.05},\"mapbox\":{\"style\":\"light\"}}},\"xaxis\":{\"anchor\":\"y\",\"domain\":[0.0,1.0],\"title\":{\"text\":\"Year\"}},\"yaxis\":{\"anchor\":\"x\",\"domain\":[0.0,1.0],\"title\":{\"text\":\"Combined Average MPG\"}},\"legend\":{\"title\":{\"text\":\"Vehicle Class\"},\"tracegroupgap\":0,\"itemsizing\":\"constant\"},\"margin\":{\"t\":60},\"title\":{\"text\":\"Yearly MPG Average by Vehicle Class\"}},                        {\"responsive\": true}                    ).then(function(){\n",
       "                            \n",
       "var gd = document.getElementById('72144ed2-693d-460c-9534-11b8ca1f0043');\n",
       "var x = new MutationObserver(function (mutations, observer) {{\n",
       "        var display = window.getComputedStyle(gd).display;\n",
       "        if (!display || display === 'none') {{\n",
       "            console.log([gd, 'removed!']);\n",
       "            Plotly.purge(gd);\n",
       "            observer.disconnect();\n",
       "        }}\n",
       "}});\n",
       "\n",
       "// Listen for the removal of the full notebook cells\n",
       "var notebookContainer = gd.closest('#notebook-container');\n",
       "if (notebookContainer) {{\n",
       "    x.observe(notebookContainer, {childList: true});\n",
       "}}\n",
       "\n",
       "// Listen for the clearing of the current output cell\n",
       "var outputEl = gd.closest('.output');\n",
       "if (outputEl) {{\n",
       "    x.observe(outputEl, {childList: true});\n",
       "}}\n",
       "\n",
       "                        })                };                });            </script>        </div>"
      ]
     },
     "metadata": {},
     "output_type": "display_data"
    }
   ],
   "source": [
    "years = [x[0] for x in dat_grouped.index]\n",
    "vehicle_class = [x[1] for x in dat_grouped.index]\n",
    "mpg = dat_grouped['COMB (mpg)']['mean']\n",
    "\n",
    "fig2 = px.scatter(x = years,\n",
    "                 y = mpg,\n",
    "                 color = vehicle_class,\n",
    "                 size = dat_grouped['COMB (mpg)']['count'])\n",
    "\n",
    "fig2.update_layout(title = 'Yearly MPG Average by Vehicle Class',\n",
    "                 xaxis_title = 'Year',\n",
    "                 yaxis_title = 'Combined Average MPG',\n",
    "                 legend_title = 'Vehicle Class')\n",
    "fig2.show()"
   ]
  },
  {
   "cell_type": "code",
   "execution_count": 19,
   "id": "bc60cf2d",
   "metadata": {},
   "outputs": [
    {
     "data": {
      "application/vnd.plotly.v1+json": {
       "config": {
        "plotlyServerURL": "https://plot.ly"
       },
       "data": [
        {
         "hovertemplate": "color=COMPACT<br>x=%{x}<br>y=%{y}<extra></extra>",
         "legendgroup": "COMPACT",
         "line": {
          "color": "#636efa",
          "dash": "solid"
         },
         "marker": {
          "symbol": "circle"
         },
         "mode": "lines",
         "name": "COMPACT",
         "orientation": "v",
         "showlegend": true,
         "type": "scatter",
         "x": [
          2000,
          2001,
          2002,
          2003,
          2004,
          2005,
          2006,
          2007,
          2008,
          2009,
          2010,
          2011,
          2012,
          2013,
          2014,
          2015,
          2016,
          2017,
          2018,
          2019,
          2020,
          2021,
          2022
         ],
         "xaxis": "x",
         "y": [
          105,
          145,
          133,
          143,
          154,
          146,
          137,
          116,
          148,
          150,
          140,
          124,
          133,
          168,
          168,
          186,
          181,
          159,
          122,
          106,
          108,
          85,
          70
         ],
         "yaxis": "y"
        },
        {
         "hovertemplate": "color=FULL-SIZE<br>x=%{x}<br>y=%{y}<extra></extra>",
         "legendgroup": "FULL-SIZE",
         "line": {
          "color": "#EF553B",
          "dash": "solid"
         },
         "marker": {
          "symbol": "circle"
         },
         "mode": "lines",
         "name": "FULL-SIZE",
         "orientation": "v",
         "showlegend": true,
         "type": "scatter",
         "x": [
          2000,
          2001,
          2002,
          2003,
          2004,
          2005,
          2006,
          2007,
          2008,
          2009,
          2010,
          2011,
          2012,
          2013,
          2014,
          2015,
          2016,
          2017,
          2018,
          2019,
          2020,
          2021,
          2022
         ],
         "xaxis": "x",
         "y": [
          28,
          30,
          29,
          25,
          34,
          45,
          56,
          54,
          63,
          68,
          77,
          71,
          81,
          76,
          84,
          93,
          90,
          82,
          109,
          101,
          78,
          65,
          64
         ],
         "yaxis": "y"
        },
        {
         "hovertemplate": "color=MID-SIZE<br>x=%{x}<br>y=%{y}<extra></extra>",
         "legendgroup": "MID-SIZE",
         "line": {
          "color": "#00cc96",
          "dash": "solid"
         },
         "marker": {
          "symbol": "circle"
         },
         "mode": "lines",
         "name": "MID-SIZE",
         "orientation": "v",
         "showlegend": true,
         "type": "scatter",
         "x": [
          2000,
          2001,
          2002,
          2003,
          2004,
          2005,
          2006,
          2007,
          2008,
          2009,
          2010,
          2011,
          2012,
          2013,
          2014,
          2015,
          2016,
          2017,
          2018,
          2019,
          2020,
          2021,
          2022
         ],
         "xaxis": "x",
         "y": [
          77,
          82,
          90,
          89,
          103,
          114,
          111,
          139,
          134,
          125,
          120,
          132,
          131,
          153,
          170,
          180,
          188,
          162,
          158,
          145,
          126,
          114,
          117
         ],
         "yaxis": "y"
        },
        {
         "hovertemplate": "color=MINICOMPACT<br>x=%{x}<br>y=%{y}<extra></extra>",
         "legendgroup": "MINICOMPACT",
         "line": {
          "color": "#ab63fa",
          "dash": "solid"
         },
         "marker": {
          "symbol": "circle"
         },
         "mode": "lines",
         "name": "MINICOMPACT",
         "orientation": "v",
         "showlegend": true,
         "type": "scatter",
         "x": [
          2000,
          2001,
          2002,
          2003,
          2004,
          2005,
          2006,
          2007,
          2008,
          2009,
          2010,
          2011,
          2012,
          2013,
          2014,
          2015,
          2016,
          2017,
          2018,
          2019,
          2020,
          2021,
          2022
         ],
         "xaxis": "x",
         "y": [
          11,
          17,
          22,
          33,
          25,
          74,
          37,
          47,
          49,
          43,
          41,
          53,
          76,
          53,
          47,
          59,
          52,
          44,
          53,
          56,
          23,
          30,
          49
         ],
         "yaxis": "y"
        },
        {
         "hovertemplate": "color=MINIVAN<br>x=%{x}<br>y=%{y}<extra></extra>",
         "legendgroup": "MINIVAN",
         "line": {
          "color": "#FFA15A",
          "dash": "solid"
         },
         "marker": {
          "symbol": "circle"
         },
         "mode": "lines",
         "name": "MINIVAN",
         "orientation": "v",
         "showlegend": true,
         "type": "scatter",
         "x": [
          2000,
          2001,
          2002,
          2003,
          2004,
          2005,
          2006,
          2007,
          2008,
          2009,
          2010,
          2011,
          2012,
          2013,
          2014,
          2015,
          2016,
          2017,
          2018,
          2019,
          2020,
          2021,
          2022
         ],
         "xaxis": "x",
         "y": [
          26,
          17,
          22,
          28,
          21,
          33,
          35,
          34,
          22,
          16,
          14,
          14,
          16,
          15,
          14,
          15,
          12,
          12,
          11,
          9,
          8,
          7,
          7
         ],
         "yaxis": "y"
        },
        {
         "hovertemplate": "color=PICKUP TRUCK - SMALL<br>x=%{x}<br>y=%{y}<extra></extra>",
         "legendgroup": "PICKUP TRUCK - SMALL",
         "line": {
          "color": "#19d3f3",
          "dash": "solid"
         },
         "marker": {
          "symbol": "circle"
         },
         "mode": "lines",
         "name": "PICKUP TRUCK - SMALL",
         "orientation": "v",
         "showlegend": true,
         "type": "scatter",
         "x": [
          2000,
          2001,
          2002,
          2003,
          2004,
          2008,
          2009,
          2010,
          2011,
          2012,
          2013,
          2014,
          2015,
          2016,
          2017,
          2018,
          2019,
          2020,
          2021,
          2022
         ],
         "xaxis": "x",
         "y": [
          11,
          12,
          12,
          8,
          1,
          52,
          59,
          54,
          51,
          43,
          12,
          12,
          22,
          26,
          28,
          27,
          25,
          19,
          17,
          20
         ],
         "yaxis": "y"
        },
        {
         "hovertemplate": "color=PICKUP TRUCK - STANDARD<br>x=%{x}<br>y=%{y}<extra></extra>",
         "legendgroup": "PICKUP TRUCK - STANDARD",
         "line": {
          "color": "#FF6692",
          "dash": "solid"
         },
         "marker": {
          "symbol": "circle"
         },
         "mode": "lines",
         "name": "PICKUP TRUCK - STANDARD",
         "orientation": "v",
         "showlegend": true,
         "type": "scatter",
         "x": [
          2000,
          2001,
          2002,
          2003,
          2004,
          2005,
          2006,
          2007,
          2008,
          2009,
          2010,
          2011,
          2012,
          2013,
          2014,
          2015,
          2016,
          2017,
          2018,
          2019,
          2020,
          2021,
          2022
         ],
         "xaxis": "x",
         "y": [
          92,
          101,
          107,
          106,
          122,
          127,
          141,
          154,
          72,
          95,
          73,
          85,
          79,
          84,
          62,
          52,
          62,
          75,
          97,
          99,
          91,
          115,
          113
         ],
         "yaxis": "y"
        },
        {
         "hovertemplate": "color=STATION WAGON - MID-SIZE<br>x=%{x}<br>y=%{y}<extra></extra>",
         "legendgroup": "STATION WAGON - MID-SIZE",
         "line": {
          "color": "#B6E880",
          "dash": "solid"
         },
         "marker": {
          "symbol": "circle"
         },
         "mode": "lines",
         "name": "STATION WAGON - MID-SIZE",
         "orientation": "v",
         "showlegend": true,
         "type": "scatter",
         "x": [
          2000,
          2001,
          2002,
          2003,
          2004,
          2005,
          2006,
          2007,
          2008,
          2009,
          2010,
          2011,
          2012,
          2013,
          2014,
          2015,
          2016,
          2017,
          2018,
          2019,
          2020,
          2021,
          2022
         ],
         "xaxis": "x",
         "y": [
          25,
          31,
          32,
          35,
          41,
          38,
          28,
          32,
          18,
          13,
          9,
          4,
          5,
          3,
          6,
          8,
          7,
          8,
          10,
          9,
          8,
          9,
          8
         ],
         "yaxis": "y"
        },
        {
         "hovertemplate": "color=STATION WAGON - SMALL<br>x=%{x}<br>y=%{y}<extra></extra>",
         "legendgroup": "STATION WAGON - SMALL",
         "line": {
          "color": "#FF97FF",
          "dash": "solid"
         },
         "marker": {
          "symbol": "circle"
         },
         "mode": "lines",
         "name": "STATION WAGON - SMALL",
         "orientation": "v",
         "showlegend": true,
         "type": "scatter",
         "x": [
          2000,
          2001,
          2002,
          2003,
          2004,
          2005,
          2006,
          2007,
          2008,
          2009,
          2010,
          2011,
          2012,
          2013,
          2014,
          2015,
          2016,
          2017,
          2018,
          2019,
          2020,
          2021,
          2022
         ],
         "xaxis": "x",
         "y": [
          13,
          12,
          18,
          45,
          43,
          54,
          53,
          44,
          43,
          54,
          60,
          56,
          47,
          44,
          34,
          35,
          37,
          45,
          39,
          37,
          25,
          20,
          19
         ],
         "yaxis": "y"
        },
        {
         "hovertemplate": "color=SUBCOMPACT<br>x=%{x}<br>y=%{y}<extra></extra>",
         "legendgroup": "SUBCOMPACT",
         "line": {
          "color": "#FECB52",
          "dash": "solid"
         },
         "marker": {
          "symbol": "circle"
         },
         "mode": "lines",
         "name": "SUBCOMPACT",
         "orientation": "v",
         "showlegend": true,
         "type": "scatter",
         "x": [
          2000,
          2001,
          2002,
          2003,
          2004,
          2005,
          2006,
          2007,
          2008,
          2009,
          2010,
          2011,
          2012,
          2013,
          2014,
          2015,
          2016,
          2017,
          2018,
          2019,
          2020,
          2021,
          2022
         ],
         "xaxis": "x",
         "y": [
          104,
          62,
          73,
          65,
          86,
          87,
          78,
          83,
          100,
          99,
          98,
          104,
          102,
          95,
          62,
          92,
          76,
          93,
          96,
          98,
          95,
          83,
          79
         ],
         "yaxis": "y"
        },
        {
         "hovertemplate": "color=SUV<br>x=%{x}<br>y=%{y}<extra></extra>",
         "legendgroup": "SUV",
         "line": {
          "color": "#636efa",
          "dash": "solid"
         },
         "marker": {
          "symbol": "circle"
         },
         "mode": "lines",
         "name": "SUV",
         "orientation": "v",
         "showlegend": true,
         "type": "scatter",
         "x": [
          2000,
          2001,
          2002,
          2003,
          2004,
          2005,
          2006,
          2007,
          2008,
          2009,
          2010,
          2011,
          2012
         ],
         "xaxis": "x",
         "y": [
          97,
          98,
          124,
          160,
          190,
          224,
          221,
          239,
          267,
          268,
          249,
          268,
          235
         ],
         "yaxis": "y"
        },
        {
         "hovertemplate": "color=TWO-SEATER<br>x=%{x}<br>y=%{y}<extra></extra>",
         "legendgroup": "TWO-SEATER",
         "line": {
          "color": "#EF553B",
          "dash": "solid"
         },
         "marker": {
          "symbol": "circle"
         },
         "mode": "lines",
         "name": "TWO-SEATER",
         "orientation": "v",
         "showlegend": true,
         "type": "scatter",
         "x": [
          2000,
          2001,
          2002,
          2003,
          2004,
          2005,
          2006,
          2007,
          2008,
          2009,
          2010,
          2011,
          2012,
          2013,
          2014,
          2015,
          2016,
          2017,
          2018,
          2019,
          2020,
          2021,
          2022
         ],
         "xaxis": "x",
         "y": [
          10,
          31,
          37,
          40,
          46,
          52,
          49,
          61,
          73,
          64,
          59,
          64,
          76,
          58,
          70,
          84,
          68,
          57,
          69,
          70,
          64,
          59,
          51
         ],
         "yaxis": "y"
        },
        {
         "hovertemplate": "color=VAN - CARGO<br>x=%{x}<br>y=%{y}<extra></extra>",
         "legendgroup": "VAN - CARGO",
         "line": {
          "color": "#00cc96",
          "dash": "solid"
         },
         "marker": {
          "symbol": "circle"
         },
         "mode": "lines",
         "name": "VAN - CARGO",
         "orientation": "v",
         "showlegend": true,
         "type": "scatter",
         "x": [
          2000,
          2001,
          2002,
          2003,
          2004,
          2005,
          2006,
          2007,
          2008,
          2009,
          2010,
          2011,
          2012,
          2013,
          2014
         ],
         "xaxis": "x",
         "y": [
          23,
          23,
          23,
          30,
          21,
          13,
          14,
          27,
          26,
          26,
          18,
          22,
          22,
          22,
          22
         ],
         "yaxis": "y"
        },
        {
         "hovertemplate": "color=VAN - PASSENGER<br>x=%{x}<br>y=%{y}<extra></extra>",
         "legendgroup": "VAN - PASSENGER",
         "line": {
          "color": "#ab63fa",
          "dash": "solid"
         },
         "marker": {
          "symbol": "circle"
         },
         "mode": "lines",
         "name": "VAN - PASSENGER",
         "orientation": "v",
         "showlegend": true,
         "type": "scatter",
         "x": [
          2000,
          2001,
          2002,
          2003,
          2004,
          2005,
          2006,
          2007,
          2008,
          2009,
          2010,
          2011,
          2012,
          2013,
          2014,
          2015,
          2016,
          2017,
          2018,
          2019,
          2020,
          2021
         ],
         "xaxis": "x",
         "y": [
          17,
          18,
          18,
          13,
          11,
          12,
          8,
          12,
          12,
          12,
          8,
          27,
          31,
          30,
          25,
          19,
          7,
          7,
          2,
          2,
          4,
          4
         ],
         "yaxis": "y"
        },
        {
         "hovertemplate": "color=SUV - STANDARD<br>x=%{x}<br>y=%{y}<extra></extra>",
         "legendgroup": "SUV - STANDARD",
         "line": {
          "color": "#FFA15A",
          "dash": "solid"
         },
         "marker": {
          "symbol": "circle"
         },
         "mode": "lines",
         "name": "SUV - STANDARD",
         "orientation": "v",
         "showlegend": true,
         "type": "scatter",
         "x": [
          2007,
          2012,
          2013,
          2014,
          2015,
          2016,
          2017,
          2018,
          2019,
          2020,
          2021,
          2022
         ],
         "xaxis": "x",
         "y": [
          1,
          2,
          101,
          102,
          99,
          107,
          102,
          103,
          111,
          118,
          127,
          149
         ],
         "yaxis": "y"
        },
        {
         "hovertemplate": "color=SPECIAL PURPOSE VEHICLE<br>x=%{x}<br>y=%{y}<extra></extra>",
         "legendgroup": "SPECIAL PURPOSE VEHICLE",
         "line": {
          "color": "#19d3f3",
          "dash": "solid"
         },
         "marker": {
          "symbol": "circle"
         },
         "mode": "lines",
         "name": "SPECIAL PURPOSE VEHICLE",
         "orientation": "v",
         "showlegend": true,
         "type": "scatter",
         "x": [
          2010,
          2011,
          2012,
          2013,
          2014,
          2015,
          2016,
          2017,
          2018,
          2019,
          2020,
          2021,
          2022
         ],
         "xaxis": "x",
         "y": [
          1,
          1,
          2,
          5,
          7,
          9,
          17,
          10,
          10,
          14,
          13,
          13,
          12
         ],
         "yaxis": "y"
        },
        {
         "hovertemplate": "color=SUV - SMALL<br>x=%{x}<br>y=%{y}<extra></extra>",
         "legendgroup": "SUV - SMALL",
         "line": {
          "color": "#FF6692",
          "dash": "solid"
         },
         "marker": {
          "symbol": "circle"
         },
         "mode": "lines",
         "name": "SUV - SMALL",
         "orientation": "v",
         "showlegend": true,
         "type": "scatter",
         "x": [
          2013,
          2014,
          2015,
          2016,
          2017,
          2018,
          2019,
          2020,
          2021,
          2022
         ],
         "xaxis": "x",
         "y": [
          139,
          155,
          179,
          180,
          174,
          177,
          174,
          188,
          193,
          197
         ],
         "yaxis": "y"
        }
       ],
       "layout": {
        "legend": {
         "title": {
          "text": "color"
         },
         "tracegroupgap": 0
        },
        "margin": {
         "t": 60
        },
        "template": {
         "data": {
          "bar": [
           {
            "error_x": {
             "color": "#2a3f5f"
            },
            "error_y": {
             "color": "#2a3f5f"
            },
            "marker": {
             "line": {
              "color": "#E5ECF6",
              "width": 0.5
             },
             "pattern": {
              "fillmode": "overlay",
              "size": 10,
              "solidity": 0.2
             }
            },
            "type": "bar"
           }
          ],
          "barpolar": [
           {
            "marker": {
             "line": {
              "color": "#E5ECF6",
              "width": 0.5
             },
             "pattern": {
              "fillmode": "overlay",
              "size": 10,
              "solidity": 0.2
             }
            },
            "type": "barpolar"
           }
          ],
          "carpet": [
           {
            "aaxis": {
             "endlinecolor": "#2a3f5f",
             "gridcolor": "white",
             "linecolor": "white",
             "minorgridcolor": "white",
             "startlinecolor": "#2a3f5f"
            },
            "baxis": {
             "endlinecolor": "#2a3f5f",
             "gridcolor": "white",
             "linecolor": "white",
             "minorgridcolor": "white",
             "startlinecolor": "#2a3f5f"
            },
            "type": "carpet"
           }
          ],
          "choropleth": [
           {
            "colorbar": {
             "outlinewidth": 0,
             "ticks": ""
            },
            "type": "choropleth"
           }
          ],
          "contour": [
           {
            "colorbar": {
             "outlinewidth": 0,
             "ticks": ""
            },
            "colorscale": [
             [
              0,
              "#0d0887"
             ],
             [
              0.1111111111111111,
              "#46039f"
             ],
             [
              0.2222222222222222,
              "#7201a8"
             ],
             [
              0.3333333333333333,
              "#9c179e"
             ],
             [
              0.4444444444444444,
              "#bd3786"
             ],
             [
              0.5555555555555556,
              "#d8576b"
             ],
             [
              0.6666666666666666,
              "#ed7953"
             ],
             [
              0.7777777777777778,
              "#fb9f3a"
             ],
             [
              0.8888888888888888,
              "#fdca26"
             ],
             [
              1,
              "#f0f921"
             ]
            ],
            "type": "contour"
           }
          ],
          "contourcarpet": [
           {
            "colorbar": {
             "outlinewidth": 0,
             "ticks": ""
            },
            "type": "contourcarpet"
           }
          ],
          "heatmap": [
           {
            "colorbar": {
             "outlinewidth": 0,
             "ticks": ""
            },
            "colorscale": [
             [
              0,
              "#0d0887"
             ],
             [
              0.1111111111111111,
              "#46039f"
             ],
             [
              0.2222222222222222,
              "#7201a8"
             ],
             [
              0.3333333333333333,
              "#9c179e"
             ],
             [
              0.4444444444444444,
              "#bd3786"
             ],
             [
              0.5555555555555556,
              "#d8576b"
             ],
             [
              0.6666666666666666,
              "#ed7953"
             ],
             [
              0.7777777777777778,
              "#fb9f3a"
             ],
             [
              0.8888888888888888,
              "#fdca26"
             ],
             [
              1,
              "#f0f921"
             ]
            ],
            "type": "heatmap"
           }
          ],
          "heatmapgl": [
           {
            "colorbar": {
             "outlinewidth": 0,
             "ticks": ""
            },
            "colorscale": [
             [
              0,
              "#0d0887"
             ],
             [
              0.1111111111111111,
              "#46039f"
             ],
             [
              0.2222222222222222,
              "#7201a8"
             ],
             [
              0.3333333333333333,
              "#9c179e"
             ],
             [
              0.4444444444444444,
              "#bd3786"
             ],
             [
              0.5555555555555556,
              "#d8576b"
             ],
             [
              0.6666666666666666,
              "#ed7953"
             ],
             [
              0.7777777777777778,
              "#fb9f3a"
             ],
             [
              0.8888888888888888,
              "#fdca26"
             ],
             [
              1,
              "#f0f921"
             ]
            ],
            "type": "heatmapgl"
           }
          ],
          "histogram": [
           {
            "marker": {
             "pattern": {
              "fillmode": "overlay",
              "size": 10,
              "solidity": 0.2
             }
            },
            "type": "histogram"
           }
          ],
          "histogram2d": [
           {
            "colorbar": {
             "outlinewidth": 0,
             "ticks": ""
            },
            "colorscale": [
             [
              0,
              "#0d0887"
             ],
             [
              0.1111111111111111,
              "#46039f"
             ],
             [
              0.2222222222222222,
              "#7201a8"
             ],
             [
              0.3333333333333333,
              "#9c179e"
             ],
             [
              0.4444444444444444,
              "#bd3786"
             ],
             [
              0.5555555555555556,
              "#d8576b"
             ],
             [
              0.6666666666666666,
              "#ed7953"
             ],
             [
              0.7777777777777778,
              "#fb9f3a"
             ],
             [
              0.8888888888888888,
              "#fdca26"
             ],
             [
              1,
              "#f0f921"
             ]
            ],
            "type": "histogram2d"
           }
          ],
          "histogram2dcontour": [
           {
            "colorbar": {
             "outlinewidth": 0,
             "ticks": ""
            },
            "colorscale": [
             [
              0,
              "#0d0887"
             ],
             [
              0.1111111111111111,
              "#46039f"
             ],
             [
              0.2222222222222222,
              "#7201a8"
             ],
             [
              0.3333333333333333,
              "#9c179e"
             ],
             [
              0.4444444444444444,
              "#bd3786"
             ],
             [
              0.5555555555555556,
              "#d8576b"
             ],
             [
              0.6666666666666666,
              "#ed7953"
             ],
             [
              0.7777777777777778,
              "#fb9f3a"
             ],
             [
              0.8888888888888888,
              "#fdca26"
             ],
             [
              1,
              "#f0f921"
             ]
            ],
            "type": "histogram2dcontour"
           }
          ],
          "mesh3d": [
           {
            "colorbar": {
             "outlinewidth": 0,
             "ticks": ""
            },
            "type": "mesh3d"
           }
          ],
          "parcoords": [
           {
            "line": {
             "colorbar": {
              "outlinewidth": 0,
              "ticks": ""
             }
            },
            "type": "parcoords"
           }
          ],
          "pie": [
           {
            "automargin": true,
            "type": "pie"
           }
          ],
          "scatter": [
           {
            "fillpattern": {
             "fillmode": "overlay",
             "size": 10,
             "solidity": 0.2
            },
            "type": "scatter"
           }
          ],
          "scatter3d": [
           {
            "line": {
             "colorbar": {
              "outlinewidth": 0,
              "ticks": ""
             }
            },
            "marker": {
             "colorbar": {
              "outlinewidth": 0,
              "ticks": ""
             }
            },
            "type": "scatter3d"
           }
          ],
          "scattercarpet": [
           {
            "marker": {
             "colorbar": {
              "outlinewidth": 0,
              "ticks": ""
             }
            },
            "type": "scattercarpet"
           }
          ],
          "scattergeo": [
           {
            "marker": {
             "colorbar": {
              "outlinewidth": 0,
              "ticks": ""
             }
            },
            "type": "scattergeo"
           }
          ],
          "scattergl": [
           {
            "marker": {
             "colorbar": {
              "outlinewidth": 0,
              "ticks": ""
             }
            },
            "type": "scattergl"
           }
          ],
          "scattermapbox": [
           {
            "marker": {
             "colorbar": {
              "outlinewidth": 0,
              "ticks": ""
             }
            },
            "type": "scattermapbox"
           }
          ],
          "scatterpolar": [
           {
            "marker": {
             "colorbar": {
              "outlinewidth": 0,
              "ticks": ""
             }
            },
            "type": "scatterpolar"
           }
          ],
          "scatterpolargl": [
           {
            "marker": {
             "colorbar": {
              "outlinewidth": 0,
              "ticks": ""
             }
            },
            "type": "scatterpolargl"
           }
          ],
          "scatterternary": [
           {
            "marker": {
             "colorbar": {
              "outlinewidth": 0,
              "ticks": ""
             }
            },
            "type": "scatterternary"
           }
          ],
          "surface": [
           {
            "colorbar": {
             "outlinewidth": 0,
             "ticks": ""
            },
            "colorscale": [
             [
              0,
              "#0d0887"
             ],
             [
              0.1111111111111111,
              "#46039f"
             ],
             [
              0.2222222222222222,
              "#7201a8"
             ],
             [
              0.3333333333333333,
              "#9c179e"
             ],
             [
              0.4444444444444444,
              "#bd3786"
             ],
             [
              0.5555555555555556,
              "#d8576b"
             ],
             [
              0.6666666666666666,
              "#ed7953"
             ],
             [
              0.7777777777777778,
              "#fb9f3a"
             ],
             [
              0.8888888888888888,
              "#fdca26"
             ],
             [
              1,
              "#f0f921"
             ]
            ],
            "type": "surface"
           }
          ],
          "table": [
           {
            "cells": {
             "fill": {
              "color": "#EBF0F8"
             },
             "line": {
              "color": "white"
             }
            },
            "header": {
             "fill": {
              "color": "#C8D4E3"
             },
             "line": {
              "color": "white"
             }
            },
            "type": "table"
           }
          ]
         },
         "layout": {
          "annotationdefaults": {
           "arrowcolor": "#2a3f5f",
           "arrowhead": 0,
           "arrowwidth": 1
          },
          "autotypenumbers": "strict",
          "coloraxis": {
           "colorbar": {
            "outlinewidth": 0,
            "ticks": ""
           }
          },
          "colorscale": {
           "diverging": [
            [
             0,
             "#8e0152"
            ],
            [
             0.1,
             "#c51b7d"
            ],
            [
             0.2,
             "#de77ae"
            ],
            [
             0.3,
             "#f1b6da"
            ],
            [
             0.4,
             "#fde0ef"
            ],
            [
             0.5,
             "#f7f7f7"
            ],
            [
             0.6,
             "#e6f5d0"
            ],
            [
             0.7,
             "#b8e186"
            ],
            [
             0.8,
             "#7fbc41"
            ],
            [
             0.9,
             "#4d9221"
            ],
            [
             1,
             "#276419"
            ]
           ],
           "sequential": [
            [
             0,
             "#0d0887"
            ],
            [
             0.1111111111111111,
             "#46039f"
            ],
            [
             0.2222222222222222,
             "#7201a8"
            ],
            [
             0.3333333333333333,
             "#9c179e"
            ],
            [
             0.4444444444444444,
             "#bd3786"
            ],
            [
             0.5555555555555556,
             "#d8576b"
            ],
            [
             0.6666666666666666,
             "#ed7953"
            ],
            [
             0.7777777777777778,
             "#fb9f3a"
            ],
            [
             0.8888888888888888,
             "#fdca26"
            ],
            [
             1,
             "#f0f921"
            ]
           ],
           "sequentialminus": [
            [
             0,
             "#0d0887"
            ],
            [
             0.1111111111111111,
             "#46039f"
            ],
            [
             0.2222222222222222,
             "#7201a8"
            ],
            [
             0.3333333333333333,
             "#9c179e"
            ],
            [
             0.4444444444444444,
             "#bd3786"
            ],
            [
             0.5555555555555556,
             "#d8576b"
            ],
            [
             0.6666666666666666,
             "#ed7953"
            ],
            [
             0.7777777777777778,
             "#fb9f3a"
            ],
            [
             0.8888888888888888,
             "#fdca26"
            ],
            [
             1,
             "#f0f921"
            ]
           ]
          },
          "colorway": [
           "#636efa",
           "#EF553B",
           "#00cc96",
           "#ab63fa",
           "#FFA15A",
           "#19d3f3",
           "#FF6692",
           "#B6E880",
           "#FF97FF",
           "#FECB52"
          ],
          "font": {
           "color": "#2a3f5f"
          },
          "geo": {
           "bgcolor": "white",
           "lakecolor": "white",
           "landcolor": "#E5ECF6",
           "showlakes": true,
           "showland": true,
           "subunitcolor": "white"
          },
          "hoverlabel": {
           "align": "left"
          },
          "hovermode": "closest",
          "mapbox": {
           "style": "light"
          },
          "paper_bgcolor": "white",
          "plot_bgcolor": "#E5ECF6",
          "polar": {
           "angularaxis": {
            "gridcolor": "white",
            "linecolor": "white",
            "ticks": ""
           },
           "bgcolor": "#E5ECF6",
           "radialaxis": {
            "gridcolor": "white",
            "linecolor": "white",
            "ticks": ""
           }
          },
          "scene": {
           "xaxis": {
            "backgroundcolor": "#E5ECF6",
            "gridcolor": "white",
            "gridwidth": 2,
            "linecolor": "white",
            "showbackground": true,
            "ticks": "",
            "zerolinecolor": "white"
           },
           "yaxis": {
            "backgroundcolor": "#E5ECF6",
            "gridcolor": "white",
            "gridwidth": 2,
            "linecolor": "white",
            "showbackground": true,
            "ticks": "",
            "zerolinecolor": "white"
           },
           "zaxis": {
            "backgroundcolor": "#E5ECF6",
            "gridcolor": "white",
            "gridwidth": 2,
            "linecolor": "white",
            "showbackground": true,
            "ticks": "",
            "zerolinecolor": "white"
           }
          },
          "shapedefaults": {
           "line": {
            "color": "#2a3f5f"
           }
          },
          "ternary": {
           "aaxis": {
            "gridcolor": "white",
            "linecolor": "white",
            "ticks": ""
           },
           "baxis": {
            "gridcolor": "white",
            "linecolor": "white",
            "ticks": ""
           },
           "bgcolor": "#E5ECF6",
           "caxis": {
            "gridcolor": "white",
            "linecolor": "white",
            "ticks": ""
           }
          },
          "title": {
           "x": 0.05
          },
          "xaxis": {
           "automargin": true,
           "gridcolor": "white",
           "linecolor": "white",
           "ticks": "",
           "title": {
            "standoff": 15
           },
           "zerolinecolor": "white",
           "zerolinewidth": 2
          },
          "yaxis": {
           "automargin": true,
           "gridcolor": "white",
           "linecolor": "white",
           "ticks": "",
           "title": {
            "standoff": 15
           },
           "zerolinecolor": "white",
           "zerolinewidth": 2
          }
         }
        },
        "xaxis": {
         "anchor": "y",
         "domain": [
          0,
          1
         ],
         "title": {
          "text": "x"
         }
        },
        "yaxis": {
         "anchor": "x",
         "domain": [
          0,
          1
         ],
         "title": {
          "text": "y"
         }
        }
       }
      },
      "text/html": [
       "<div>                            <div id=\"ef82aca6-420f-4d25-92ee-4ea92c47b566\" class=\"plotly-graph-div\" style=\"height:525px; width:100%;\"></div>            <script type=\"text/javascript\">                require([\"plotly\"], function(Plotly) {                    window.PLOTLYENV=window.PLOTLYENV || {};                                    if (document.getElementById(\"ef82aca6-420f-4d25-92ee-4ea92c47b566\")) {                    Plotly.newPlot(                        \"ef82aca6-420f-4d25-92ee-4ea92c47b566\",                        [{\"hovertemplate\":\"color=COMPACT<br>x=%{x}<br>y=%{y}<extra></extra>\",\"legendgroup\":\"COMPACT\",\"line\":{\"color\":\"#636efa\",\"dash\":\"solid\"},\"marker\":{\"symbol\":\"circle\"},\"mode\":\"lines\",\"name\":\"COMPACT\",\"orientation\":\"v\",\"showlegend\":true,\"x\":[2000,2001,2002,2003,2004,2005,2006,2007,2008,2009,2010,2011,2012,2013,2014,2015,2016,2017,2018,2019,2020,2021,2022],\"xaxis\":\"x\",\"y\":[105.0,145.0,133.0,143.0,154.0,146.0,137.0,116.0,148.0,150.0,140.0,124.0,133.0,168.0,168.0,186.0,181.0,159.0,122.0,106.0,108.0,85.0,70.0],\"yaxis\":\"y\",\"type\":\"scatter\"},{\"hovertemplate\":\"color=FULL-SIZE<br>x=%{x}<br>y=%{y}<extra></extra>\",\"legendgroup\":\"FULL-SIZE\",\"line\":{\"color\":\"#EF553B\",\"dash\":\"solid\"},\"marker\":{\"symbol\":\"circle\"},\"mode\":\"lines\",\"name\":\"FULL-SIZE\",\"orientation\":\"v\",\"showlegend\":true,\"x\":[2000,2001,2002,2003,2004,2005,2006,2007,2008,2009,2010,2011,2012,2013,2014,2015,2016,2017,2018,2019,2020,2021,2022],\"xaxis\":\"x\",\"y\":[28.0,30.0,29.0,25.0,34.0,45.0,56.0,54.0,63.0,68.0,77.0,71.0,81.0,76.0,84.0,93.0,90.0,82.0,109.0,101.0,78.0,65.0,64.0],\"yaxis\":\"y\",\"type\":\"scatter\"},{\"hovertemplate\":\"color=MID-SIZE<br>x=%{x}<br>y=%{y}<extra></extra>\",\"legendgroup\":\"MID-SIZE\",\"line\":{\"color\":\"#00cc96\",\"dash\":\"solid\"},\"marker\":{\"symbol\":\"circle\"},\"mode\":\"lines\",\"name\":\"MID-SIZE\",\"orientation\":\"v\",\"showlegend\":true,\"x\":[2000,2001,2002,2003,2004,2005,2006,2007,2008,2009,2010,2011,2012,2013,2014,2015,2016,2017,2018,2019,2020,2021,2022],\"xaxis\":\"x\",\"y\":[77.0,82.0,90.0,89.0,103.0,114.0,111.0,139.0,134.0,125.0,120.0,132.0,131.0,153.0,170.0,180.0,188.0,162.0,158.0,145.0,126.0,114.0,117.0],\"yaxis\":\"y\",\"type\":\"scatter\"},{\"hovertemplate\":\"color=MINICOMPACT<br>x=%{x}<br>y=%{y}<extra></extra>\",\"legendgroup\":\"MINICOMPACT\",\"line\":{\"color\":\"#ab63fa\",\"dash\":\"solid\"},\"marker\":{\"symbol\":\"circle\"},\"mode\":\"lines\",\"name\":\"MINICOMPACT\",\"orientation\":\"v\",\"showlegend\":true,\"x\":[2000,2001,2002,2003,2004,2005,2006,2007,2008,2009,2010,2011,2012,2013,2014,2015,2016,2017,2018,2019,2020,2021,2022],\"xaxis\":\"x\",\"y\":[11.0,17.0,22.0,33.0,25.0,74.0,37.0,47.0,49.0,43.0,41.0,53.0,76.0,53.0,47.0,59.0,52.0,44.0,53.0,56.0,23.0,30.0,49.0],\"yaxis\":\"y\",\"type\":\"scatter\"},{\"hovertemplate\":\"color=MINIVAN<br>x=%{x}<br>y=%{y}<extra></extra>\",\"legendgroup\":\"MINIVAN\",\"line\":{\"color\":\"#FFA15A\",\"dash\":\"solid\"},\"marker\":{\"symbol\":\"circle\"},\"mode\":\"lines\",\"name\":\"MINIVAN\",\"orientation\":\"v\",\"showlegend\":true,\"x\":[2000,2001,2002,2003,2004,2005,2006,2007,2008,2009,2010,2011,2012,2013,2014,2015,2016,2017,2018,2019,2020,2021,2022],\"xaxis\":\"x\",\"y\":[26.0,17.0,22.0,28.0,21.0,33.0,35.0,34.0,22.0,16.0,14.0,14.0,16.0,15.0,14.0,15.0,12.0,12.0,11.0,9.0,8.0,7.0,7.0],\"yaxis\":\"y\",\"type\":\"scatter\"},{\"hovertemplate\":\"color=PICKUP TRUCK - SMALL<br>x=%{x}<br>y=%{y}<extra></extra>\",\"legendgroup\":\"PICKUP TRUCK - SMALL\",\"line\":{\"color\":\"#19d3f3\",\"dash\":\"solid\"},\"marker\":{\"symbol\":\"circle\"},\"mode\":\"lines\",\"name\":\"PICKUP TRUCK - SMALL\",\"orientation\":\"v\",\"showlegend\":true,\"x\":[2000,2001,2002,2003,2004,2008,2009,2010,2011,2012,2013,2014,2015,2016,2017,2018,2019,2020,2021,2022],\"xaxis\":\"x\",\"y\":[11.0,12.0,12.0,8.0,1.0,52.0,59.0,54.0,51.0,43.0,12.0,12.0,22.0,26.0,28.0,27.0,25.0,19.0,17.0,20.0],\"yaxis\":\"y\",\"type\":\"scatter\"},{\"hovertemplate\":\"color=PICKUP TRUCK - STANDARD<br>x=%{x}<br>y=%{y}<extra></extra>\",\"legendgroup\":\"PICKUP TRUCK - STANDARD\",\"line\":{\"color\":\"#FF6692\",\"dash\":\"solid\"},\"marker\":{\"symbol\":\"circle\"},\"mode\":\"lines\",\"name\":\"PICKUP TRUCK - STANDARD\",\"orientation\":\"v\",\"showlegend\":true,\"x\":[2000,2001,2002,2003,2004,2005,2006,2007,2008,2009,2010,2011,2012,2013,2014,2015,2016,2017,2018,2019,2020,2021,2022],\"xaxis\":\"x\",\"y\":[92.0,101.0,107.0,106.0,122.0,127.0,141.0,154.0,72.0,95.0,73.0,85.0,79.0,84.0,62.0,52.0,62.0,75.0,97.0,99.0,91.0,115.0,113.0],\"yaxis\":\"y\",\"type\":\"scatter\"},{\"hovertemplate\":\"color=STATION WAGON - MID-SIZE<br>x=%{x}<br>y=%{y}<extra></extra>\",\"legendgroup\":\"STATION WAGON - MID-SIZE\",\"line\":{\"color\":\"#B6E880\",\"dash\":\"solid\"},\"marker\":{\"symbol\":\"circle\"},\"mode\":\"lines\",\"name\":\"STATION WAGON - MID-SIZE\",\"orientation\":\"v\",\"showlegend\":true,\"x\":[2000,2001,2002,2003,2004,2005,2006,2007,2008,2009,2010,2011,2012,2013,2014,2015,2016,2017,2018,2019,2020,2021,2022],\"xaxis\":\"x\",\"y\":[25.0,31.0,32.0,35.0,41.0,38.0,28.0,32.0,18.0,13.0,9.0,4.0,5.0,3.0,6.0,8.0,7.0,8.0,10.0,9.0,8.0,9.0,8.0],\"yaxis\":\"y\",\"type\":\"scatter\"},{\"hovertemplate\":\"color=STATION WAGON - SMALL<br>x=%{x}<br>y=%{y}<extra></extra>\",\"legendgroup\":\"STATION WAGON - SMALL\",\"line\":{\"color\":\"#FF97FF\",\"dash\":\"solid\"},\"marker\":{\"symbol\":\"circle\"},\"mode\":\"lines\",\"name\":\"STATION WAGON - SMALL\",\"orientation\":\"v\",\"showlegend\":true,\"x\":[2000,2001,2002,2003,2004,2005,2006,2007,2008,2009,2010,2011,2012,2013,2014,2015,2016,2017,2018,2019,2020,2021,2022],\"xaxis\":\"x\",\"y\":[13.0,12.0,18.0,45.0,43.0,54.0,53.0,44.0,43.0,54.0,60.0,56.0,47.0,44.0,34.0,35.0,37.0,45.0,39.0,37.0,25.0,20.0,19.0],\"yaxis\":\"y\",\"type\":\"scatter\"},{\"hovertemplate\":\"color=SUBCOMPACT<br>x=%{x}<br>y=%{y}<extra></extra>\",\"legendgroup\":\"SUBCOMPACT\",\"line\":{\"color\":\"#FECB52\",\"dash\":\"solid\"},\"marker\":{\"symbol\":\"circle\"},\"mode\":\"lines\",\"name\":\"SUBCOMPACT\",\"orientation\":\"v\",\"showlegend\":true,\"x\":[2000,2001,2002,2003,2004,2005,2006,2007,2008,2009,2010,2011,2012,2013,2014,2015,2016,2017,2018,2019,2020,2021,2022],\"xaxis\":\"x\",\"y\":[104.0,62.0,73.0,65.0,86.0,87.0,78.0,83.0,100.0,99.0,98.0,104.0,102.0,95.0,62.0,92.0,76.0,93.0,96.0,98.0,95.0,83.0,79.0],\"yaxis\":\"y\",\"type\":\"scatter\"},{\"hovertemplate\":\"color=SUV<br>x=%{x}<br>y=%{y}<extra></extra>\",\"legendgroup\":\"SUV\",\"line\":{\"color\":\"#636efa\",\"dash\":\"solid\"},\"marker\":{\"symbol\":\"circle\"},\"mode\":\"lines\",\"name\":\"SUV\",\"orientation\":\"v\",\"showlegend\":true,\"x\":[2000,2001,2002,2003,2004,2005,2006,2007,2008,2009,2010,2011,2012],\"xaxis\":\"x\",\"y\":[97.0,98.0,124.0,160.0,190.0,224.0,221.0,239.0,267.0,268.0,249.0,268.0,235.0],\"yaxis\":\"y\",\"type\":\"scatter\"},{\"hovertemplate\":\"color=TWO-SEATER<br>x=%{x}<br>y=%{y}<extra></extra>\",\"legendgroup\":\"TWO-SEATER\",\"line\":{\"color\":\"#EF553B\",\"dash\":\"solid\"},\"marker\":{\"symbol\":\"circle\"},\"mode\":\"lines\",\"name\":\"TWO-SEATER\",\"orientation\":\"v\",\"showlegend\":true,\"x\":[2000,2001,2002,2003,2004,2005,2006,2007,2008,2009,2010,2011,2012,2013,2014,2015,2016,2017,2018,2019,2020,2021,2022],\"xaxis\":\"x\",\"y\":[10.0,31.0,37.0,40.0,46.0,52.0,49.0,61.0,73.0,64.0,59.0,64.0,76.0,58.0,70.0,84.0,68.0,57.0,69.0,70.0,64.0,59.0,51.0],\"yaxis\":\"y\",\"type\":\"scatter\"},{\"hovertemplate\":\"color=VAN - CARGO<br>x=%{x}<br>y=%{y}<extra></extra>\",\"legendgroup\":\"VAN - CARGO\",\"line\":{\"color\":\"#00cc96\",\"dash\":\"solid\"},\"marker\":{\"symbol\":\"circle\"},\"mode\":\"lines\",\"name\":\"VAN - CARGO\",\"orientation\":\"v\",\"showlegend\":true,\"x\":[2000,2001,2002,2003,2004,2005,2006,2007,2008,2009,2010,2011,2012,2013,2014],\"xaxis\":\"x\",\"y\":[23.0,23.0,23.0,30.0,21.0,13.0,14.0,27.0,26.0,26.0,18.0,22.0,22.0,22.0,22.0],\"yaxis\":\"y\",\"type\":\"scatter\"},{\"hovertemplate\":\"color=VAN - PASSENGER<br>x=%{x}<br>y=%{y}<extra></extra>\",\"legendgroup\":\"VAN - PASSENGER\",\"line\":{\"color\":\"#ab63fa\",\"dash\":\"solid\"},\"marker\":{\"symbol\":\"circle\"},\"mode\":\"lines\",\"name\":\"VAN - PASSENGER\",\"orientation\":\"v\",\"showlegend\":true,\"x\":[2000,2001,2002,2003,2004,2005,2006,2007,2008,2009,2010,2011,2012,2013,2014,2015,2016,2017,2018,2019,2020,2021],\"xaxis\":\"x\",\"y\":[17.0,18.0,18.0,13.0,11.0,12.0,8.0,12.0,12.0,12.0,8.0,27.0,31.0,30.0,25.0,19.0,7.0,7.0,2.0,2.0,4.0,4.0],\"yaxis\":\"y\",\"type\":\"scatter\"},{\"hovertemplate\":\"color=SUV - STANDARD<br>x=%{x}<br>y=%{y}<extra></extra>\",\"legendgroup\":\"SUV - STANDARD\",\"line\":{\"color\":\"#FFA15A\",\"dash\":\"solid\"},\"marker\":{\"symbol\":\"circle\"},\"mode\":\"lines\",\"name\":\"SUV - STANDARD\",\"orientation\":\"v\",\"showlegend\":true,\"x\":[2007,2012,2013,2014,2015,2016,2017,2018,2019,2020,2021,2022],\"xaxis\":\"x\",\"y\":[1.0,2.0,101.0,102.0,99.0,107.0,102.0,103.0,111.0,118.0,127.0,149.0],\"yaxis\":\"y\",\"type\":\"scatter\"},{\"hovertemplate\":\"color=SPECIAL PURPOSE VEHICLE<br>x=%{x}<br>y=%{y}<extra></extra>\",\"legendgroup\":\"SPECIAL PURPOSE VEHICLE\",\"line\":{\"color\":\"#19d3f3\",\"dash\":\"solid\"},\"marker\":{\"symbol\":\"circle\"},\"mode\":\"lines\",\"name\":\"SPECIAL PURPOSE VEHICLE\",\"orientation\":\"v\",\"showlegend\":true,\"x\":[2010,2011,2012,2013,2014,2015,2016,2017,2018,2019,2020,2021,2022],\"xaxis\":\"x\",\"y\":[1.0,1.0,2.0,5.0,7.0,9.0,17.0,10.0,10.0,14.0,13.0,13.0,12.0],\"yaxis\":\"y\",\"type\":\"scatter\"},{\"hovertemplate\":\"color=SUV - SMALL<br>x=%{x}<br>y=%{y}<extra></extra>\",\"legendgroup\":\"SUV - SMALL\",\"line\":{\"color\":\"#FF6692\",\"dash\":\"solid\"},\"marker\":{\"symbol\":\"circle\"},\"mode\":\"lines\",\"name\":\"SUV - SMALL\",\"orientation\":\"v\",\"showlegend\":true,\"x\":[2013,2014,2015,2016,2017,2018,2019,2020,2021,2022],\"xaxis\":\"x\",\"y\":[139.0,155.0,179.0,180.0,174.0,177.0,174.0,188.0,193.0,197.0],\"yaxis\":\"y\",\"type\":\"scatter\"}],                        {\"template\":{\"data\":{\"histogram2dcontour\":[{\"type\":\"histogram2dcontour\",\"colorbar\":{\"outlinewidth\":0,\"ticks\":\"\"},\"colorscale\":[[0.0,\"#0d0887\"],[0.1111111111111111,\"#46039f\"],[0.2222222222222222,\"#7201a8\"],[0.3333333333333333,\"#9c179e\"],[0.4444444444444444,\"#bd3786\"],[0.5555555555555556,\"#d8576b\"],[0.6666666666666666,\"#ed7953\"],[0.7777777777777778,\"#fb9f3a\"],[0.8888888888888888,\"#fdca26\"],[1.0,\"#f0f921\"]]}],\"choropleth\":[{\"type\":\"choropleth\",\"colorbar\":{\"outlinewidth\":0,\"ticks\":\"\"}}],\"histogram2d\":[{\"type\":\"histogram2d\",\"colorbar\":{\"outlinewidth\":0,\"ticks\":\"\"},\"colorscale\":[[0.0,\"#0d0887\"],[0.1111111111111111,\"#46039f\"],[0.2222222222222222,\"#7201a8\"],[0.3333333333333333,\"#9c179e\"],[0.4444444444444444,\"#bd3786\"],[0.5555555555555556,\"#d8576b\"],[0.6666666666666666,\"#ed7953\"],[0.7777777777777778,\"#fb9f3a\"],[0.8888888888888888,\"#fdca26\"],[1.0,\"#f0f921\"]]}],\"heatmap\":[{\"type\":\"heatmap\",\"colorbar\":{\"outlinewidth\":0,\"ticks\":\"\"},\"colorscale\":[[0.0,\"#0d0887\"],[0.1111111111111111,\"#46039f\"],[0.2222222222222222,\"#7201a8\"],[0.3333333333333333,\"#9c179e\"],[0.4444444444444444,\"#bd3786\"],[0.5555555555555556,\"#d8576b\"],[0.6666666666666666,\"#ed7953\"],[0.7777777777777778,\"#fb9f3a\"],[0.8888888888888888,\"#fdca26\"],[1.0,\"#f0f921\"]]}],\"heatmapgl\":[{\"type\":\"heatmapgl\",\"colorbar\":{\"outlinewidth\":0,\"ticks\":\"\"},\"colorscale\":[[0.0,\"#0d0887\"],[0.1111111111111111,\"#46039f\"],[0.2222222222222222,\"#7201a8\"],[0.3333333333333333,\"#9c179e\"],[0.4444444444444444,\"#bd3786\"],[0.5555555555555556,\"#d8576b\"],[0.6666666666666666,\"#ed7953\"],[0.7777777777777778,\"#fb9f3a\"],[0.8888888888888888,\"#fdca26\"],[1.0,\"#f0f921\"]]}],\"contourcarpet\":[{\"type\":\"contourcarpet\",\"colorbar\":{\"outlinewidth\":0,\"ticks\":\"\"}}],\"contour\":[{\"type\":\"contour\",\"colorbar\":{\"outlinewidth\":0,\"ticks\":\"\"},\"colorscale\":[[0.0,\"#0d0887\"],[0.1111111111111111,\"#46039f\"],[0.2222222222222222,\"#7201a8\"],[0.3333333333333333,\"#9c179e\"],[0.4444444444444444,\"#bd3786\"],[0.5555555555555556,\"#d8576b\"],[0.6666666666666666,\"#ed7953\"],[0.7777777777777778,\"#fb9f3a\"],[0.8888888888888888,\"#fdca26\"],[1.0,\"#f0f921\"]]}],\"surface\":[{\"type\":\"surface\",\"colorbar\":{\"outlinewidth\":0,\"ticks\":\"\"},\"colorscale\":[[0.0,\"#0d0887\"],[0.1111111111111111,\"#46039f\"],[0.2222222222222222,\"#7201a8\"],[0.3333333333333333,\"#9c179e\"],[0.4444444444444444,\"#bd3786\"],[0.5555555555555556,\"#d8576b\"],[0.6666666666666666,\"#ed7953\"],[0.7777777777777778,\"#fb9f3a\"],[0.8888888888888888,\"#fdca26\"],[1.0,\"#f0f921\"]]}],\"mesh3d\":[{\"type\":\"mesh3d\",\"colorbar\":{\"outlinewidth\":0,\"ticks\":\"\"}}],\"scatter\":[{\"fillpattern\":{\"fillmode\":\"overlay\",\"size\":10,\"solidity\":0.2},\"type\":\"scatter\"}],\"parcoords\":[{\"type\":\"parcoords\",\"line\":{\"colorbar\":{\"outlinewidth\":0,\"ticks\":\"\"}}}],\"scatterpolargl\":[{\"type\":\"scatterpolargl\",\"marker\":{\"colorbar\":{\"outlinewidth\":0,\"ticks\":\"\"}}}],\"bar\":[{\"error_x\":{\"color\":\"#2a3f5f\"},\"error_y\":{\"color\":\"#2a3f5f\"},\"marker\":{\"line\":{\"color\":\"#E5ECF6\",\"width\":0.5},\"pattern\":{\"fillmode\":\"overlay\",\"size\":10,\"solidity\":0.2}},\"type\":\"bar\"}],\"scattergeo\":[{\"type\":\"scattergeo\",\"marker\":{\"colorbar\":{\"outlinewidth\":0,\"ticks\":\"\"}}}],\"scatterpolar\":[{\"type\":\"scatterpolar\",\"marker\":{\"colorbar\":{\"outlinewidth\":0,\"ticks\":\"\"}}}],\"histogram\":[{\"marker\":{\"pattern\":{\"fillmode\":\"overlay\",\"size\":10,\"solidity\":0.2}},\"type\":\"histogram\"}],\"scattergl\":[{\"type\":\"scattergl\",\"marker\":{\"colorbar\":{\"outlinewidth\":0,\"ticks\":\"\"}}}],\"scatter3d\":[{\"type\":\"scatter3d\",\"line\":{\"colorbar\":{\"outlinewidth\":0,\"ticks\":\"\"}},\"marker\":{\"colorbar\":{\"outlinewidth\":0,\"ticks\":\"\"}}}],\"scattermapbox\":[{\"type\":\"scattermapbox\",\"marker\":{\"colorbar\":{\"outlinewidth\":0,\"ticks\":\"\"}}}],\"scatterternary\":[{\"type\":\"scatterternary\",\"marker\":{\"colorbar\":{\"outlinewidth\":0,\"ticks\":\"\"}}}],\"scattercarpet\":[{\"type\":\"scattercarpet\",\"marker\":{\"colorbar\":{\"outlinewidth\":0,\"ticks\":\"\"}}}],\"carpet\":[{\"aaxis\":{\"endlinecolor\":\"#2a3f5f\",\"gridcolor\":\"white\",\"linecolor\":\"white\",\"minorgridcolor\":\"white\",\"startlinecolor\":\"#2a3f5f\"},\"baxis\":{\"endlinecolor\":\"#2a3f5f\",\"gridcolor\":\"white\",\"linecolor\":\"white\",\"minorgridcolor\":\"white\",\"startlinecolor\":\"#2a3f5f\"},\"type\":\"carpet\"}],\"table\":[{\"cells\":{\"fill\":{\"color\":\"#EBF0F8\"},\"line\":{\"color\":\"white\"}},\"header\":{\"fill\":{\"color\":\"#C8D4E3\"},\"line\":{\"color\":\"white\"}},\"type\":\"table\"}],\"barpolar\":[{\"marker\":{\"line\":{\"color\":\"#E5ECF6\",\"width\":0.5},\"pattern\":{\"fillmode\":\"overlay\",\"size\":10,\"solidity\":0.2}},\"type\":\"barpolar\"}],\"pie\":[{\"automargin\":true,\"type\":\"pie\"}]},\"layout\":{\"autotypenumbers\":\"strict\",\"colorway\":[\"#636efa\",\"#EF553B\",\"#00cc96\",\"#ab63fa\",\"#FFA15A\",\"#19d3f3\",\"#FF6692\",\"#B6E880\",\"#FF97FF\",\"#FECB52\"],\"font\":{\"color\":\"#2a3f5f\"},\"hovermode\":\"closest\",\"hoverlabel\":{\"align\":\"left\"},\"paper_bgcolor\":\"white\",\"plot_bgcolor\":\"#E5ECF6\",\"polar\":{\"bgcolor\":\"#E5ECF6\",\"angularaxis\":{\"gridcolor\":\"white\",\"linecolor\":\"white\",\"ticks\":\"\"},\"radialaxis\":{\"gridcolor\":\"white\",\"linecolor\":\"white\",\"ticks\":\"\"}},\"ternary\":{\"bgcolor\":\"#E5ECF6\",\"aaxis\":{\"gridcolor\":\"white\",\"linecolor\":\"white\",\"ticks\":\"\"},\"baxis\":{\"gridcolor\":\"white\",\"linecolor\":\"white\",\"ticks\":\"\"},\"caxis\":{\"gridcolor\":\"white\",\"linecolor\":\"white\",\"ticks\":\"\"}},\"coloraxis\":{\"colorbar\":{\"outlinewidth\":0,\"ticks\":\"\"}},\"colorscale\":{\"sequential\":[[0.0,\"#0d0887\"],[0.1111111111111111,\"#46039f\"],[0.2222222222222222,\"#7201a8\"],[0.3333333333333333,\"#9c179e\"],[0.4444444444444444,\"#bd3786\"],[0.5555555555555556,\"#d8576b\"],[0.6666666666666666,\"#ed7953\"],[0.7777777777777778,\"#fb9f3a\"],[0.8888888888888888,\"#fdca26\"],[1.0,\"#f0f921\"]],\"sequentialminus\":[[0.0,\"#0d0887\"],[0.1111111111111111,\"#46039f\"],[0.2222222222222222,\"#7201a8\"],[0.3333333333333333,\"#9c179e\"],[0.4444444444444444,\"#bd3786\"],[0.5555555555555556,\"#d8576b\"],[0.6666666666666666,\"#ed7953\"],[0.7777777777777778,\"#fb9f3a\"],[0.8888888888888888,\"#fdca26\"],[1.0,\"#f0f921\"]],\"diverging\":[[0,\"#8e0152\"],[0.1,\"#c51b7d\"],[0.2,\"#de77ae\"],[0.3,\"#f1b6da\"],[0.4,\"#fde0ef\"],[0.5,\"#f7f7f7\"],[0.6,\"#e6f5d0\"],[0.7,\"#b8e186\"],[0.8,\"#7fbc41\"],[0.9,\"#4d9221\"],[1,\"#276419\"]]},\"xaxis\":{\"gridcolor\":\"white\",\"linecolor\":\"white\",\"ticks\":\"\",\"title\":{\"standoff\":15},\"zerolinecolor\":\"white\",\"automargin\":true,\"zerolinewidth\":2},\"yaxis\":{\"gridcolor\":\"white\",\"linecolor\":\"white\",\"ticks\":\"\",\"title\":{\"standoff\":15},\"zerolinecolor\":\"white\",\"automargin\":true,\"zerolinewidth\":2},\"scene\":{\"xaxis\":{\"backgroundcolor\":\"#E5ECF6\",\"gridcolor\":\"white\",\"linecolor\":\"white\",\"showbackground\":true,\"ticks\":\"\",\"zerolinecolor\":\"white\",\"gridwidth\":2},\"yaxis\":{\"backgroundcolor\":\"#E5ECF6\",\"gridcolor\":\"white\",\"linecolor\":\"white\",\"showbackground\":true,\"ticks\":\"\",\"zerolinecolor\":\"white\",\"gridwidth\":2},\"zaxis\":{\"backgroundcolor\":\"#E5ECF6\",\"gridcolor\":\"white\",\"linecolor\":\"white\",\"showbackground\":true,\"ticks\":\"\",\"zerolinecolor\":\"white\",\"gridwidth\":2}},\"shapedefaults\":{\"line\":{\"color\":\"#2a3f5f\"}},\"annotationdefaults\":{\"arrowcolor\":\"#2a3f5f\",\"arrowhead\":0,\"arrowwidth\":1},\"geo\":{\"bgcolor\":\"white\",\"landcolor\":\"#E5ECF6\",\"subunitcolor\":\"white\",\"showland\":true,\"showlakes\":true,\"lakecolor\":\"white\"},\"title\":{\"x\":0.05},\"mapbox\":{\"style\":\"light\"}}},\"xaxis\":{\"anchor\":\"y\",\"domain\":[0.0,1.0],\"title\":{\"text\":\"x\"}},\"yaxis\":{\"anchor\":\"x\",\"domain\":[0.0,1.0],\"title\":{\"text\":\"y\"}},\"legend\":{\"title\":{\"text\":\"color\"},\"tracegroupgap\":0},\"margin\":{\"t\":60}},                        {\"responsive\": true}                    ).then(function(){\n",
       "                            \n",
       "var gd = document.getElementById('ef82aca6-420f-4d25-92ee-4ea92c47b566');\n",
       "var x = new MutationObserver(function (mutations, observer) {{\n",
       "        var display = window.getComputedStyle(gd).display;\n",
       "        if (!display || display === 'none') {{\n",
       "            console.log([gd, 'removed!']);\n",
       "            Plotly.purge(gd);\n",
       "            observer.disconnect();\n",
       "        }}\n",
       "}});\n",
       "\n",
       "// Listen for the removal of the full notebook cells\n",
       "var notebookContainer = gd.closest('#notebook-container');\n",
       "if (notebookContainer) {{\n",
       "    x.observe(notebookContainer, {childList: true});\n",
       "}}\n",
       "\n",
       "// Listen for the clearing of the current output cell\n",
       "var outputEl = gd.closest('.output');\n",
       "if (outputEl) {{\n",
       "    x.observe(outputEl, {childList: true});\n",
       "}}\n",
       "\n",
       "                        })                };                });            </script>        </div>"
      ]
     },
     "metadata": {},
     "output_type": "display_data"
    }
   ],
   "source": [
    "fig3 = px.line(x = years, y = dat_grouped['COMB (mpg)']['count'], color = vehicle_class)\n",
    "fig3.show()"
   ]
  },
  {
   "cell_type": "code",
   "execution_count": 35,
   "id": "4f246912",
   "metadata": {},
   "outputs": [
    {
     "data": {
      "application/vnd.plotly.v1+json": {
       "config": {
        "plotlyServerURL": "https://plot.ly"
       },
       "data": [
        {
         "hovertemplate": "x=%{x}<br>y=%{y}<extra></extra>",
         "legendgroup": "",
         "line": {
          "color": "#636efa",
          "dash": "solid"
         },
         "marker": {
          "symbol": "circle"
         },
         "mode": "lines",
         "name": "",
         "orientation": "v",
         "showlegend": false,
         "type": "scatter",
         "x": [
          2000,
          2001,
          2002,
          2003,
          2004,
          2005,
          2006,
          2007,
          2008,
          2009,
          2010,
          2011,
          2012,
          2013,
          2014,
          2015,
          2016,
          2017,
          2018,
          2019,
          2020,
          2021,
          2022
         ],
         "xaxis": "x",
         "y": [
          26.450704225352112,
          26.519882179675996,
          25.85810810810811,
          26.135365853658538,
          25.97327394209354,
          26.23846908734053,
          26.43698347107438,
          26.129434324065198,
          26.532900834105654,
          26.6510989010989,
          27.66405484818805,
          27.923791821561338,
          28.638297872340427,
          29.906427221172024,
          30.673076923076923,
          27.506183745583037,
          27.71171171171171,
          27.688090737240074,
          27.65466297322253,
          27.651515151515152,
          27.46590909090909,
          27.30499468650372,
          27.158115183246075
         ],
         "yaxis": "y"
        }
       ],
       "layout": {
        "legend": {
         "tracegroupgap": 0
        },
        "margin": {
         "t": 60
        },
        "template": {
         "data": {
          "bar": [
           {
            "error_x": {
             "color": "#2a3f5f"
            },
            "error_y": {
             "color": "#2a3f5f"
            },
            "marker": {
             "line": {
              "color": "#E5ECF6",
              "width": 0.5
             },
             "pattern": {
              "fillmode": "overlay",
              "size": 10,
              "solidity": 0.2
             }
            },
            "type": "bar"
           }
          ],
          "barpolar": [
           {
            "marker": {
             "line": {
              "color": "#E5ECF6",
              "width": 0.5
             },
             "pattern": {
              "fillmode": "overlay",
              "size": 10,
              "solidity": 0.2
             }
            },
            "type": "barpolar"
           }
          ],
          "carpet": [
           {
            "aaxis": {
             "endlinecolor": "#2a3f5f",
             "gridcolor": "white",
             "linecolor": "white",
             "minorgridcolor": "white",
             "startlinecolor": "#2a3f5f"
            },
            "baxis": {
             "endlinecolor": "#2a3f5f",
             "gridcolor": "white",
             "linecolor": "white",
             "minorgridcolor": "white",
             "startlinecolor": "#2a3f5f"
            },
            "type": "carpet"
           }
          ],
          "choropleth": [
           {
            "colorbar": {
             "outlinewidth": 0,
             "ticks": ""
            },
            "type": "choropleth"
           }
          ],
          "contour": [
           {
            "colorbar": {
             "outlinewidth": 0,
             "ticks": ""
            },
            "colorscale": [
             [
              0,
              "#0d0887"
             ],
             [
              0.1111111111111111,
              "#46039f"
             ],
             [
              0.2222222222222222,
              "#7201a8"
             ],
             [
              0.3333333333333333,
              "#9c179e"
             ],
             [
              0.4444444444444444,
              "#bd3786"
             ],
             [
              0.5555555555555556,
              "#d8576b"
             ],
             [
              0.6666666666666666,
              "#ed7953"
             ],
             [
              0.7777777777777778,
              "#fb9f3a"
             ],
             [
              0.8888888888888888,
              "#fdca26"
             ],
             [
              1,
              "#f0f921"
             ]
            ],
            "type": "contour"
           }
          ],
          "contourcarpet": [
           {
            "colorbar": {
             "outlinewidth": 0,
             "ticks": ""
            },
            "type": "contourcarpet"
           }
          ],
          "heatmap": [
           {
            "colorbar": {
             "outlinewidth": 0,
             "ticks": ""
            },
            "colorscale": [
             [
              0,
              "#0d0887"
             ],
             [
              0.1111111111111111,
              "#46039f"
             ],
             [
              0.2222222222222222,
              "#7201a8"
             ],
             [
              0.3333333333333333,
              "#9c179e"
             ],
             [
              0.4444444444444444,
              "#bd3786"
             ],
             [
              0.5555555555555556,
              "#d8576b"
             ],
             [
              0.6666666666666666,
              "#ed7953"
             ],
             [
              0.7777777777777778,
              "#fb9f3a"
             ],
             [
              0.8888888888888888,
              "#fdca26"
             ],
             [
              1,
              "#f0f921"
             ]
            ],
            "type": "heatmap"
           }
          ],
          "heatmapgl": [
           {
            "colorbar": {
             "outlinewidth": 0,
             "ticks": ""
            },
            "colorscale": [
             [
              0,
              "#0d0887"
             ],
             [
              0.1111111111111111,
              "#46039f"
             ],
             [
              0.2222222222222222,
              "#7201a8"
             ],
             [
              0.3333333333333333,
              "#9c179e"
             ],
             [
              0.4444444444444444,
              "#bd3786"
             ],
             [
              0.5555555555555556,
              "#d8576b"
             ],
             [
              0.6666666666666666,
              "#ed7953"
             ],
             [
              0.7777777777777778,
              "#fb9f3a"
             ],
             [
              0.8888888888888888,
              "#fdca26"
             ],
             [
              1,
              "#f0f921"
             ]
            ],
            "type": "heatmapgl"
           }
          ],
          "histogram": [
           {
            "marker": {
             "pattern": {
              "fillmode": "overlay",
              "size": 10,
              "solidity": 0.2
             }
            },
            "type": "histogram"
           }
          ],
          "histogram2d": [
           {
            "colorbar": {
             "outlinewidth": 0,
             "ticks": ""
            },
            "colorscale": [
             [
              0,
              "#0d0887"
             ],
             [
              0.1111111111111111,
              "#46039f"
             ],
             [
              0.2222222222222222,
              "#7201a8"
             ],
             [
              0.3333333333333333,
              "#9c179e"
             ],
             [
              0.4444444444444444,
              "#bd3786"
             ],
             [
              0.5555555555555556,
              "#d8576b"
             ],
             [
              0.6666666666666666,
              "#ed7953"
             ],
             [
              0.7777777777777778,
              "#fb9f3a"
             ],
             [
              0.8888888888888888,
              "#fdca26"
             ],
             [
              1,
              "#f0f921"
             ]
            ],
            "type": "histogram2d"
           }
          ],
          "histogram2dcontour": [
           {
            "colorbar": {
             "outlinewidth": 0,
             "ticks": ""
            },
            "colorscale": [
             [
              0,
              "#0d0887"
             ],
             [
              0.1111111111111111,
              "#46039f"
             ],
             [
              0.2222222222222222,
              "#7201a8"
             ],
             [
              0.3333333333333333,
              "#9c179e"
             ],
             [
              0.4444444444444444,
              "#bd3786"
             ],
             [
              0.5555555555555556,
              "#d8576b"
             ],
             [
              0.6666666666666666,
              "#ed7953"
             ],
             [
              0.7777777777777778,
              "#fb9f3a"
             ],
             [
              0.8888888888888888,
              "#fdca26"
             ],
             [
              1,
              "#f0f921"
             ]
            ],
            "type": "histogram2dcontour"
           }
          ],
          "mesh3d": [
           {
            "colorbar": {
             "outlinewidth": 0,
             "ticks": ""
            },
            "type": "mesh3d"
           }
          ],
          "parcoords": [
           {
            "line": {
             "colorbar": {
              "outlinewidth": 0,
              "ticks": ""
             }
            },
            "type": "parcoords"
           }
          ],
          "pie": [
           {
            "automargin": true,
            "type": "pie"
           }
          ],
          "scatter": [
           {
            "fillpattern": {
             "fillmode": "overlay",
             "size": 10,
             "solidity": 0.2
            },
            "type": "scatter"
           }
          ],
          "scatter3d": [
           {
            "line": {
             "colorbar": {
              "outlinewidth": 0,
              "ticks": ""
             }
            },
            "marker": {
             "colorbar": {
              "outlinewidth": 0,
              "ticks": ""
             }
            },
            "type": "scatter3d"
           }
          ],
          "scattercarpet": [
           {
            "marker": {
             "colorbar": {
              "outlinewidth": 0,
              "ticks": ""
             }
            },
            "type": "scattercarpet"
           }
          ],
          "scattergeo": [
           {
            "marker": {
             "colorbar": {
              "outlinewidth": 0,
              "ticks": ""
             }
            },
            "type": "scattergeo"
           }
          ],
          "scattergl": [
           {
            "marker": {
             "colorbar": {
              "outlinewidth": 0,
              "ticks": ""
             }
            },
            "type": "scattergl"
           }
          ],
          "scattermapbox": [
           {
            "marker": {
             "colorbar": {
              "outlinewidth": 0,
              "ticks": ""
             }
            },
            "type": "scattermapbox"
           }
          ],
          "scatterpolar": [
           {
            "marker": {
             "colorbar": {
              "outlinewidth": 0,
              "ticks": ""
             }
            },
            "type": "scatterpolar"
           }
          ],
          "scatterpolargl": [
           {
            "marker": {
             "colorbar": {
              "outlinewidth": 0,
              "ticks": ""
             }
            },
            "type": "scatterpolargl"
           }
          ],
          "scatterternary": [
           {
            "marker": {
             "colorbar": {
              "outlinewidth": 0,
              "ticks": ""
             }
            },
            "type": "scatterternary"
           }
          ],
          "surface": [
           {
            "colorbar": {
             "outlinewidth": 0,
             "ticks": ""
            },
            "colorscale": [
             [
              0,
              "#0d0887"
             ],
             [
              0.1111111111111111,
              "#46039f"
             ],
             [
              0.2222222222222222,
              "#7201a8"
             ],
             [
              0.3333333333333333,
              "#9c179e"
             ],
             [
              0.4444444444444444,
              "#bd3786"
             ],
             [
              0.5555555555555556,
              "#d8576b"
             ],
             [
              0.6666666666666666,
              "#ed7953"
             ],
             [
              0.7777777777777778,
              "#fb9f3a"
             ],
             [
              0.8888888888888888,
              "#fdca26"
             ],
             [
              1,
              "#f0f921"
             ]
            ],
            "type": "surface"
           }
          ],
          "table": [
           {
            "cells": {
             "fill": {
              "color": "#EBF0F8"
             },
             "line": {
              "color": "white"
             }
            },
            "header": {
             "fill": {
              "color": "#C8D4E3"
             },
             "line": {
              "color": "white"
             }
            },
            "type": "table"
           }
          ]
         },
         "layout": {
          "annotationdefaults": {
           "arrowcolor": "#2a3f5f",
           "arrowhead": 0,
           "arrowwidth": 1
          },
          "autotypenumbers": "strict",
          "coloraxis": {
           "colorbar": {
            "outlinewidth": 0,
            "ticks": ""
           }
          },
          "colorscale": {
           "diverging": [
            [
             0,
             "#8e0152"
            ],
            [
             0.1,
             "#c51b7d"
            ],
            [
             0.2,
             "#de77ae"
            ],
            [
             0.3,
             "#f1b6da"
            ],
            [
             0.4,
             "#fde0ef"
            ],
            [
             0.5,
             "#f7f7f7"
            ],
            [
             0.6,
             "#e6f5d0"
            ],
            [
             0.7,
             "#b8e186"
            ],
            [
             0.8,
             "#7fbc41"
            ],
            [
             0.9,
             "#4d9221"
            ],
            [
             1,
             "#276419"
            ]
           ],
           "sequential": [
            [
             0,
             "#0d0887"
            ],
            [
             0.1111111111111111,
             "#46039f"
            ],
            [
             0.2222222222222222,
             "#7201a8"
            ],
            [
             0.3333333333333333,
             "#9c179e"
            ],
            [
             0.4444444444444444,
             "#bd3786"
            ],
            [
             0.5555555555555556,
             "#d8576b"
            ],
            [
             0.6666666666666666,
             "#ed7953"
            ],
            [
             0.7777777777777778,
             "#fb9f3a"
            ],
            [
             0.8888888888888888,
             "#fdca26"
            ],
            [
             1,
             "#f0f921"
            ]
           ],
           "sequentialminus": [
            [
             0,
             "#0d0887"
            ],
            [
             0.1111111111111111,
             "#46039f"
            ],
            [
             0.2222222222222222,
             "#7201a8"
            ],
            [
             0.3333333333333333,
             "#9c179e"
            ],
            [
             0.4444444444444444,
             "#bd3786"
            ],
            [
             0.5555555555555556,
             "#d8576b"
            ],
            [
             0.6666666666666666,
             "#ed7953"
            ],
            [
             0.7777777777777778,
             "#fb9f3a"
            ],
            [
             0.8888888888888888,
             "#fdca26"
            ],
            [
             1,
             "#f0f921"
            ]
           ]
          },
          "colorway": [
           "#636efa",
           "#EF553B",
           "#00cc96",
           "#ab63fa",
           "#FFA15A",
           "#19d3f3",
           "#FF6692",
           "#B6E880",
           "#FF97FF",
           "#FECB52"
          ],
          "font": {
           "color": "#2a3f5f"
          },
          "geo": {
           "bgcolor": "white",
           "lakecolor": "white",
           "landcolor": "#E5ECF6",
           "showlakes": true,
           "showland": true,
           "subunitcolor": "white"
          },
          "hoverlabel": {
           "align": "left"
          },
          "hovermode": "closest",
          "mapbox": {
           "style": "light"
          },
          "paper_bgcolor": "white",
          "plot_bgcolor": "#E5ECF6",
          "polar": {
           "angularaxis": {
            "gridcolor": "white",
            "linecolor": "white",
            "ticks": ""
           },
           "bgcolor": "#E5ECF6",
           "radialaxis": {
            "gridcolor": "white",
            "linecolor": "white",
            "ticks": ""
           }
          },
          "scene": {
           "xaxis": {
            "backgroundcolor": "#E5ECF6",
            "gridcolor": "white",
            "gridwidth": 2,
            "linecolor": "white",
            "showbackground": true,
            "ticks": "",
            "zerolinecolor": "white"
           },
           "yaxis": {
            "backgroundcolor": "#E5ECF6",
            "gridcolor": "white",
            "gridwidth": 2,
            "linecolor": "white",
            "showbackground": true,
            "ticks": "",
            "zerolinecolor": "white"
           },
           "zaxis": {
            "backgroundcolor": "#E5ECF6",
            "gridcolor": "white",
            "gridwidth": 2,
            "linecolor": "white",
            "showbackground": true,
            "ticks": "",
            "zerolinecolor": "white"
           }
          },
          "shapedefaults": {
           "line": {
            "color": "#2a3f5f"
           }
          },
          "ternary": {
           "aaxis": {
            "gridcolor": "white",
            "linecolor": "white",
            "ticks": ""
           },
           "baxis": {
            "gridcolor": "white",
            "linecolor": "white",
            "ticks": ""
           },
           "bgcolor": "#E5ECF6",
           "caxis": {
            "gridcolor": "white",
            "linecolor": "white",
            "ticks": ""
           }
          },
          "title": {
           "x": 0.05
          },
          "xaxis": {
           "automargin": true,
           "gridcolor": "white",
           "linecolor": "white",
           "ticks": "",
           "title": {
            "standoff": 15
           },
           "zerolinecolor": "white",
           "zerolinewidth": 2
          },
          "yaxis": {
           "automargin": true,
           "gridcolor": "white",
           "linecolor": "white",
           "ticks": "",
           "title": {
            "standoff": 15
           },
           "zerolinecolor": "white",
           "zerolinewidth": 2
          }
         }
        },
        "xaxis": {
         "anchor": "y",
         "domain": [
          0,
          1
         ],
         "title": {
          "text": "x"
         }
        },
        "yaxis": {
         "anchor": "x",
         "domain": [
          0,
          1
         ],
         "title": {
          "text": "y"
         }
        }
       }
      },
      "text/html": [
       "<div>                            <div id=\"b1e84a24-452b-4b41-8b28-73b121a08454\" class=\"plotly-graph-div\" style=\"height:525px; width:100%;\"></div>            <script type=\"text/javascript\">                require([\"plotly\"], function(Plotly) {                    window.PLOTLYENV=window.PLOTLYENV || {};                                    if (document.getElementById(\"b1e84a24-452b-4b41-8b28-73b121a08454\")) {                    Plotly.newPlot(                        \"b1e84a24-452b-4b41-8b28-73b121a08454\",                        [{\"hovertemplate\":\"x=%{x}<br>y=%{y}<extra></extra>\",\"legendgroup\":\"\",\"line\":{\"color\":\"#636efa\",\"dash\":\"solid\"},\"marker\":{\"symbol\":\"circle\"},\"mode\":\"lines\",\"name\":\"\",\"orientation\":\"v\",\"showlegend\":false,\"x\":[2000,2001,2002,2003,2004,2005,2006,2007,2008,2009,2010,2011,2012,2013,2014,2015,2016,2017,2018,2019,2020,2021,2022],\"xaxis\":\"x\",\"y\":[26.450704225352112,26.519882179675996,25.85810810810811,26.135365853658538,25.97327394209354,26.23846908734053,26.43698347107438,26.129434324065198,26.532900834105654,26.6510989010989,27.66405484818805,27.923791821561338,28.638297872340427,29.906427221172024,30.673076923076923,27.506183745583037,27.71171171171171,27.688090737240074,27.65466297322253,27.651515151515152,27.46590909090909,27.30499468650372,27.158115183246075],\"yaxis\":\"y\",\"type\":\"scatter\"}],                        {\"template\":{\"data\":{\"histogram2dcontour\":[{\"type\":\"histogram2dcontour\",\"colorbar\":{\"outlinewidth\":0,\"ticks\":\"\"},\"colorscale\":[[0.0,\"#0d0887\"],[0.1111111111111111,\"#46039f\"],[0.2222222222222222,\"#7201a8\"],[0.3333333333333333,\"#9c179e\"],[0.4444444444444444,\"#bd3786\"],[0.5555555555555556,\"#d8576b\"],[0.6666666666666666,\"#ed7953\"],[0.7777777777777778,\"#fb9f3a\"],[0.8888888888888888,\"#fdca26\"],[1.0,\"#f0f921\"]]}],\"choropleth\":[{\"type\":\"choropleth\",\"colorbar\":{\"outlinewidth\":0,\"ticks\":\"\"}}],\"histogram2d\":[{\"type\":\"histogram2d\",\"colorbar\":{\"outlinewidth\":0,\"ticks\":\"\"},\"colorscale\":[[0.0,\"#0d0887\"],[0.1111111111111111,\"#46039f\"],[0.2222222222222222,\"#7201a8\"],[0.3333333333333333,\"#9c179e\"],[0.4444444444444444,\"#bd3786\"],[0.5555555555555556,\"#d8576b\"],[0.6666666666666666,\"#ed7953\"],[0.7777777777777778,\"#fb9f3a\"],[0.8888888888888888,\"#fdca26\"],[1.0,\"#f0f921\"]]}],\"heatmap\":[{\"type\":\"heatmap\",\"colorbar\":{\"outlinewidth\":0,\"ticks\":\"\"},\"colorscale\":[[0.0,\"#0d0887\"],[0.1111111111111111,\"#46039f\"],[0.2222222222222222,\"#7201a8\"],[0.3333333333333333,\"#9c179e\"],[0.4444444444444444,\"#bd3786\"],[0.5555555555555556,\"#d8576b\"],[0.6666666666666666,\"#ed7953\"],[0.7777777777777778,\"#fb9f3a\"],[0.8888888888888888,\"#fdca26\"],[1.0,\"#f0f921\"]]}],\"heatmapgl\":[{\"type\":\"heatmapgl\",\"colorbar\":{\"outlinewidth\":0,\"ticks\":\"\"},\"colorscale\":[[0.0,\"#0d0887\"],[0.1111111111111111,\"#46039f\"],[0.2222222222222222,\"#7201a8\"],[0.3333333333333333,\"#9c179e\"],[0.4444444444444444,\"#bd3786\"],[0.5555555555555556,\"#d8576b\"],[0.6666666666666666,\"#ed7953\"],[0.7777777777777778,\"#fb9f3a\"],[0.8888888888888888,\"#fdca26\"],[1.0,\"#f0f921\"]]}],\"contourcarpet\":[{\"type\":\"contourcarpet\",\"colorbar\":{\"outlinewidth\":0,\"ticks\":\"\"}}],\"contour\":[{\"type\":\"contour\",\"colorbar\":{\"outlinewidth\":0,\"ticks\":\"\"},\"colorscale\":[[0.0,\"#0d0887\"],[0.1111111111111111,\"#46039f\"],[0.2222222222222222,\"#7201a8\"],[0.3333333333333333,\"#9c179e\"],[0.4444444444444444,\"#bd3786\"],[0.5555555555555556,\"#d8576b\"],[0.6666666666666666,\"#ed7953\"],[0.7777777777777778,\"#fb9f3a\"],[0.8888888888888888,\"#fdca26\"],[1.0,\"#f0f921\"]]}],\"surface\":[{\"type\":\"surface\",\"colorbar\":{\"outlinewidth\":0,\"ticks\":\"\"},\"colorscale\":[[0.0,\"#0d0887\"],[0.1111111111111111,\"#46039f\"],[0.2222222222222222,\"#7201a8\"],[0.3333333333333333,\"#9c179e\"],[0.4444444444444444,\"#bd3786\"],[0.5555555555555556,\"#d8576b\"],[0.6666666666666666,\"#ed7953\"],[0.7777777777777778,\"#fb9f3a\"],[0.8888888888888888,\"#fdca26\"],[1.0,\"#f0f921\"]]}],\"mesh3d\":[{\"type\":\"mesh3d\",\"colorbar\":{\"outlinewidth\":0,\"ticks\":\"\"}}],\"scatter\":[{\"fillpattern\":{\"fillmode\":\"overlay\",\"size\":10,\"solidity\":0.2},\"type\":\"scatter\"}],\"parcoords\":[{\"type\":\"parcoords\",\"line\":{\"colorbar\":{\"outlinewidth\":0,\"ticks\":\"\"}}}],\"scatterpolargl\":[{\"type\":\"scatterpolargl\",\"marker\":{\"colorbar\":{\"outlinewidth\":0,\"ticks\":\"\"}}}],\"bar\":[{\"error_x\":{\"color\":\"#2a3f5f\"},\"error_y\":{\"color\":\"#2a3f5f\"},\"marker\":{\"line\":{\"color\":\"#E5ECF6\",\"width\":0.5},\"pattern\":{\"fillmode\":\"overlay\",\"size\":10,\"solidity\":0.2}},\"type\":\"bar\"}],\"scattergeo\":[{\"type\":\"scattergeo\",\"marker\":{\"colorbar\":{\"outlinewidth\":0,\"ticks\":\"\"}}}],\"scatterpolar\":[{\"type\":\"scatterpolar\",\"marker\":{\"colorbar\":{\"outlinewidth\":0,\"ticks\":\"\"}}}],\"histogram\":[{\"marker\":{\"pattern\":{\"fillmode\":\"overlay\",\"size\":10,\"solidity\":0.2}},\"type\":\"histogram\"}],\"scattergl\":[{\"type\":\"scattergl\",\"marker\":{\"colorbar\":{\"outlinewidth\":0,\"ticks\":\"\"}}}],\"scatter3d\":[{\"type\":\"scatter3d\",\"line\":{\"colorbar\":{\"outlinewidth\":0,\"ticks\":\"\"}},\"marker\":{\"colorbar\":{\"outlinewidth\":0,\"ticks\":\"\"}}}],\"scattermapbox\":[{\"type\":\"scattermapbox\",\"marker\":{\"colorbar\":{\"outlinewidth\":0,\"ticks\":\"\"}}}],\"scatterternary\":[{\"type\":\"scatterternary\",\"marker\":{\"colorbar\":{\"outlinewidth\":0,\"ticks\":\"\"}}}],\"scattercarpet\":[{\"type\":\"scattercarpet\",\"marker\":{\"colorbar\":{\"outlinewidth\":0,\"ticks\":\"\"}}}],\"carpet\":[{\"aaxis\":{\"endlinecolor\":\"#2a3f5f\",\"gridcolor\":\"white\",\"linecolor\":\"white\",\"minorgridcolor\":\"white\",\"startlinecolor\":\"#2a3f5f\"},\"baxis\":{\"endlinecolor\":\"#2a3f5f\",\"gridcolor\":\"white\",\"linecolor\":\"white\",\"minorgridcolor\":\"white\",\"startlinecolor\":\"#2a3f5f\"},\"type\":\"carpet\"}],\"table\":[{\"cells\":{\"fill\":{\"color\":\"#EBF0F8\"},\"line\":{\"color\":\"white\"}},\"header\":{\"fill\":{\"color\":\"#C8D4E3\"},\"line\":{\"color\":\"white\"}},\"type\":\"table\"}],\"barpolar\":[{\"marker\":{\"line\":{\"color\":\"#E5ECF6\",\"width\":0.5},\"pattern\":{\"fillmode\":\"overlay\",\"size\":10,\"solidity\":0.2}},\"type\":\"barpolar\"}],\"pie\":[{\"automargin\":true,\"type\":\"pie\"}]},\"layout\":{\"autotypenumbers\":\"strict\",\"colorway\":[\"#636efa\",\"#EF553B\",\"#00cc96\",\"#ab63fa\",\"#FFA15A\",\"#19d3f3\",\"#FF6692\",\"#B6E880\",\"#FF97FF\",\"#FECB52\"],\"font\":{\"color\":\"#2a3f5f\"},\"hovermode\":\"closest\",\"hoverlabel\":{\"align\":\"left\"},\"paper_bgcolor\":\"white\",\"plot_bgcolor\":\"#E5ECF6\",\"polar\":{\"bgcolor\":\"#E5ECF6\",\"angularaxis\":{\"gridcolor\":\"white\",\"linecolor\":\"white\",\"ticks\":\"\"},\"radialaxis\":{\"gridcolor\":\"white\",\"linecolor\":\"white\",\"ticks\":\"\"}},\"ternary\":{\"bgcolor\":\"#E5ECF6\",\"aaxis\":{\"gridcolor\":\"white\",\"linecolor\":\"white\",\"ticks\":\"\"},\"baxis\":{\"gridcolor\":\"white\",\"linecolor\":\"white\",\"ticks\":\"\"},\"caxis\":{\"gridcolor\":\"white\",\"linecolor\":\"white\",\"ticks\":\"\"}},\"coloraxis\":{\"colorbar\":{\"outlinewidth\":0,\"ticks\":\"\"}},\"colorscale\":{\"sequential\":[[0.0,\"#0d0887\"],[0.1111111111111111,\"#46039f\"],[0.2222222222222222,\"#7201a8\"],[0.3333333333333333,\"#9c179e\"],[0.4444444444444444,\"#bd3786\"],[0.5555555555555556,\"#d8576b\"],[0.6666666666666666,\"#ed7953\"],[0.7777777777777778,\"#fb9f3a\"],[0.8888888888888888,\"#fdca26\"],[1.0,\"#f0f921\"]],\"sequentialminus\":[[0.0,\"#0d0887\"],[0.1111111111111111,\"#46039f\"],[0.2222222222222222,\"#7201a8\"],[0.3333333333333333,\"#9c179e\"],[0.4444444444444444,\"#bd3786\"],[0.5555555555555556,\"#d8576b\"],[0.6666666666666666,\"#ed7953\"],[0.7777777777777778,\"#fb9f3a\"],[0.8888888888888888,\"#fdca26\"],[1.0,\"#f0f921\"]],\"diverging\":[[0,\"#8e0152\"],[0.1,\"#c51b7d\"],[0.2,\"#de77ae\"],[0.3,\"#f1b6da\"],[0.4,\"#fde0ef\"],[0.5,\"#f7f7f7\"],[0.6,\"#e6f5d0\"],[0.7,\"#b8e186\"],[0.8,\"#7fbc41\"],[0.9,\"#4d9221\"],[1,\"#276419\"]]},\"xaxis\":{\"gridcolor\":\"white\",\"linecolor\":\"white\",\"ticks\":\"\",\"title\":{\"standoff\":15},\"zerolinecolor\":\"white\",\"automargin\":true,\"zerolinewidth\":2},\"yaxis\":{\"gridcolor\":\"white\",\"linecolor\":\"white\",\"ticks\":\"\",\"title\":{\"standoff\":15},\"zerolinecolor\":\"white\",\"automargin\":true,\"zerolinewidth\":2},\"scene\":{\"xaxis\":{\"backgroundcolor\":\"#E5ECF6\",\"gridcolor\":\"white\",\"linecolor\":\"white\",\"showbackground\":true,\"ticks\":\"\",\"zerolinecolor\":\"white\",\"gridwidth\":2},\"yaxis\":{\"backgroundcolor\":\"#E5ECF6\",\"gridcolor\":\"white\",\"linecolor\":\"white\",\"showbackground\":true,\"ticks\":\"\",\"zerolinecolor\":\"white\",\"gridwidth\":2},\"zaxis\":{\"backgroundcolor\":\"#E5ECF6\",\"gridcolor\":\"white\",\"linecolor\":\"white\",\"showbackground\":true,\"ticks\":\"\",\"zerolinecolor\":\"white\",\"gridwidth\":2}},\"shapedefaults\":{\"line\":{\"color\":\"#2a3f5f\"}},\"annotationdefaults\":{\"arrowcolor\":\"#2a3f5f\",\"arrowhead\":0,\"arrowwidth\":1},\"geo\":{\"bgcolor\":\"white\",\"landcolor\":\"#E5ECF6\",\"subunitcolor\":\"white\",\"showland\":true,\"showlakes\":true,\"lakecolor\":\"white\"},\"title\":{\"x\":0.05},\"mapbox\":{\"style\":\"light\"}}},\"xaxis\":{\"anchor\":\"y\",\"domain\":[0.0,1.0],\"title\":{\"text\":\"x\"}},\"yaxis\":{\"anchor\":\"x\",\"domain\":[0.0,1.0],\"title\":{\"text\":\"y\"}},\"legend\":{\"tracegroupgap\":0},\"margin\":{\"t\":60}},                        {\"responsive\": true}                    ).then(function(){\n",
       "                            \n",
       "var gd = document.getElementById('b1e84a24-452b-4b41-8b28-73b121a08454');\n",
       "var x = new MutationObserver(function (mutations, observer) {{\n",
       "        var display = window.getComputedStyle(gd).display;\n",
       "        if (!display || display === 'none') {{\n",
       "            console.log([gd, 'removed!']);\n",
       "            Plotly.purge(gd);\n",
       "            observer.disconnect();\n",
       "        }}\n",
       "}});\n",
       "\n",
       "// Listen for the removal of the full notebook cells\n",
       "var notebookContainer = gd.closest('#notebook-container');\n",
       "if (notebookContainer) {{\n",
       "    x.observe(notebookContainer, {childList: true});\n",
       "}}\n",
       "\n",
       "// Listen for the clearing of the current output cell\n",
       "var outputEl = gd.closest('.output');\n",
       "if (outputEl) {{\n",
       "    x.observe(outputEl, {childList: true});\n",
       "}}\n",
       "\n",
       "                        })                };                });            </script>        </div>"
      ]
     },
     "metadata": {},
     "output_type": "display_data"
    }
   ],
   "source": [
    "fig4 = px.line(x = dat.groupby('YEAR').describe()['COMB (mpg)']['mean'].index, y = dat.groupby('YEAR').describe()['COMB (mpg)']['mean'])\n",
    "fig4.show()"
   ]
  },
  {
   "cell_type": "code",
   "execution_count": null,
   "id": "67a0154f",
   "metadata": {},
   "outputs": [],
   "source": []
  }
 ],
 "metadata": {
  "kernelspec": {
   "display_name": "Python 3 (ipykernel)",
   "language": "python",
   "name": "python3"
  },
  "language_info": {
   "codemirror_mode": {
    "name": "ipython",
    "version": 3
   },
   "file_extension": ".py",
   "mimetype": "text/x-python",
   "name": "python",
   "nbconvert_exporter": "python",
   "pygments_lexer": "ipython3",
   "version": "3.9.16"
  }
 },
 "nbformat": 4,
 "nbformat_minor": 5
}
