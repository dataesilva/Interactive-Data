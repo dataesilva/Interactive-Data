{
 "cells": [
  {
   "cell_type": "code",
   "execution_count": 1,
   "id": "15e739c0",
   "metadata": {},
   "outputs": [],
   "source": [
    "import pandas as pd\n",
    "from matplotlib import pyplot as plt\n",
    "import seaborn as sns"
   ]
  },
  {
   "cell_type": "code",
   "execution_count": 2,
   "id": "ad413739",
   "metadata": {},
   "outputs": [],
   "source": [
    "uxd = pd.read_html('https://www.zippia.com/user-experience-designer-jobs/demographics/')"
   ]
  },
  {
   "cell_type": "code",
   "execution_count": 3,
   "id": "172c1b75",
   "metadata": {},
   "outputs": [
    {
     "data": {
      "text/plain": [
       "19"
      ]
     },
     "execution_count": 3,
     "metadata": {},
     "output_type": "execute_result"
    }
   ],
   "source": [
    "len(uxd)"
   ]
  },
  {
   "cell_type": "code",
   "execution_count": 4,
   "id": "947e1780",
   "metadata": {},
   "outputs": [],
   "source": [
    "gender_breakdown = uxd[1]"
   ]
  },
  {
   "cell_type": "code",
   "execution_count": 5,
   "id": "7438fc6f",
   "metadata": {},
   "outputs": [
    {
     "data": {
      "text/html": [
       "<div>\n",
       "<style scoped>\n",
       "    .dataframe tbody tr th:only-of-type {\n",
       "        vertical-align: middle;\n",
       "    }\n",
       "\n",
       "    .dataframe tbody tr th {\n",
       "        vertical-align: top;\n",
       "    }\n",
       "\n",
       "    .dataframe thead th {\n",
       "        text-align: right;\n",
       "    }\n",
       "</style>\n",
       "<table border=\"1\" class=\"dataframe\">\n",
       "  <thead>\n",
       "    <tr style=\"text-align: right;\">\n",
       "      <th></th>\n",
       "      <th>Year</th>\n",
       "      <th>Male</th>\n",
       "      <th>Female</th>\n",
       "    </tr>\n",
       "  </thead>\n",
       "  <tbody>\n",
       "    <tr>\n",
       "      <th>0</th>\n",
       "      <td>2010</td>\n",
       "      <td>61.88%</td>\n",
       "      <td>38.12%</td>\n",
       "    </tr>\n",
       "    <tr>\n",
       "      <th>1</th>\n",
       "      <td>2011</td>\n",
       "      <td>62.12%</td>\n",
       "      <td>37.88%</td>\n",
       "    </tr>\n",
       "    <tr>\n",
       "      <th>2</th>\n",
       "      <td>2012</td>\n",
       "      <td>61.35%</td>\n",
       "      <td>38.65%</td>\n",
       "    </tr>\n",
       "    <tr>\n",
       "      <th>3</th>\n",
       "      <td>2013</td>\n",
       "      <td>63.67%</td>\n",
       "      <td>36.33%</td>\n",
       "    </tr>\n",
       "    <tr>\n",
       "      <th>4</th>\n",
       "      <td>2014</td>\n",
       "      <td>61.60%</td>\n",
       "      <td>38.40%</td>\n",
       "    </tr>\n",
       "  </tbody>\n",
       "</table>\n",
       "</div>"
      ],
      "text/plain": [
       "   Year    Male  Female\n",
       "0  2010  61.88%  38.12%\n",
       "1  2011  62.12%  37.88%\n",
       "2  2012  61.35%  38.65%\n",
       "3  2013  63.67%  36.33%\n",
       "4  2014  61.60%  38.40%"
      ]
     },
     "execution_count": 5,
     "metadata": {},
     "output_type": "execute_result"
    }
   ],
   "source": [
    "gender_breakdown.head()"
   ]
  },
  {
   "cell_type": "code",
   "execution_count": 6,
   "id": "63f022d4",
   "metadata": {},
   "outputs": [],
   "source": [
    "gb_l = pd.melt(gender_breakdown,\n",
    "               id_vars = ['Year'],\n",
    "               value_vars = ['Male', 'Female'],\n",
    "               var_name = 'sex',\n",
    "               value_name = 'percent')"
   ]
  },
  {
   "cell_type": "code",
   "execution_count": 7,
   "id": "aa057523",
   "metadata": {},
   "outputs": [
    {
     "data": {
      "text/html": [
       "<div>\n",
       "<style scoped>\n",
       "    .dataframe tbody tr th:only-of-type {\n",
       "        vertical-align: middle;\n",
       "    }\n",
       "\n",
       "    .dataframe tbody tr th {\n",
       "        vertical-align: top;\n",
       "    }\n",
       "\n",
       "    .dataframe thead th {\n",
       "        text-align: right;\n",
       "    }\n",
       "</style>\n",
       "<table border=\"1\" class=\"dataframe\">\n",
       "  <thead>\n",
       "    <tr style=\"text-align: right;\">\n",
       "      <th></th>\n",
       "      <th>Year</th>\n",
       "      <th>sex</th>\n",
       "      <th>percent</th>\n",
       "    </tr>\n",
       "  </thead>\n",
       "  <tbody>\n",
       "    <tr>\n",
       "      <th>0</th>\n",
       "      <td>2010</td>\n",
       "      <td>Male</td>\n",
       "      <td>61.88%</td>\n",
       "    </tr>\n",
       "    <tr>\n",
       "      <th>1</th>\n",
       "      <td>2011</td>\n",
       "      <td>Male</td>\n",
       "      <td>62.12%</td>\n",
       "    </tr>\n",
       "    <tr>\n",
       "      <th>2</th>\n",
       "      <td>2012</td>\n",
       "      <td>Male</td>\n",
       "      <td>61.35%</td>\n",
       "    </tr>\n",
       "    <tr>\n",
       "      <th>3</th>\n",
       "      <td>2013</td>\n",
       "      <td>Male</td>\n",
       "      <td>63.67%</td>\n",
       "    </tr>\n",
       "    <tr>\n",
       "      <th>4</th>\n",
       "      <td>2014</td>\n",
       "      <td>Male</td>\n",
       "      <td>61.60%</td>\n",
       "    </tr>\n",
       "    <tr>\n",
       "      <th>5</th>\n",
       "      <td>2015</td>\n",
       "      <td>Male</td>\n",
       "      <td>62.31%</td>\n",
       "    </tr>\n",
       "    <tr>\n",
       "      <th>6</th>\n",
       "      <td>2016</td>\n",
       "      <td>Male</td>\n",
       "      <td>61.25%</td>\n",
       "    </tr>\n",
       "    <tr>\n",
       "      <th>7</th>\n",
       "      <td>2017</td>\n",
       "      <td>Male</td>\n",
       "      <td>60.32%</td>\n",
       "    </tr>\n",
       "    <tr>\n",
       "      <th>8</th>\n",
       "      <td>2018</td>\n",
       "      <td>Male</td>\n",
       "      <td>62.43%</td>\n",
       "    </tr>\n",
       "    <tr>\n",
       "      <th>9</th>\n",
       "      <td>2019</td>\n",
       "      <td>Male</td>\n",
       "      <td>59.38%</td>\n",
       "    </tr>\n",
       "    <tr>\n",
       "      <th>10</th>\n",
       "      <td>2021</td>\n",
       "      <td>Male</td>\n",
       "      <td>59.57%</td>\n",
       "    </tr>\n",
       "    <tr>\n",
       "      <th>11</th>\n",
       "      <td>2010</td>\n",
       "      <td>Female</td>\n",
       "      <td>38.12%</td>\n",
       "    </tr>\n",
       "    <tr>\n",
       "      <th>12</th>\n",
       "      <td>2011</td>\n",
       "      <td>Female</td>\n",
       "      <td>37.88%</td>\n",
       "    </tr>\n",
       "    <tr>\n",
       "      <th>13</th>\n",
       "      <td>2012</td>\n",
       "      <td>Female</td>\n",
       "      <td>38.65%</td>\n",
       "    </tr>\n",
       "    <tr>\n",
       "      <th>14</th>\n",
       "      <td>2013</td>\n",
       "      <td>Female</td>\n",
       "      <td>36.33%</td>\n",
       "    </tr>\n",
       "    <tr>\n",
       "      <th>15</th>\n",
       "      <td>2014</td>\n",
       "      <td>Female</td>\n",
       "      <td>38.40%</td>\n",
       "    </tr>\n",
       "    <tr>\n",
       "      <th>16</th>\n",
       "      <td>2015</td>\n",
       "      <td>Female</td>\n",
       "      <td>37.69%</td>\n",
       "    </tr>\n",
       "    <tr>\n",
       "      <th>17</th>\n",
       "      <td>2016</td>\n",
       "      <td>Female</td>\n",
       "      <td>38.75%</td>\n",
       "    </tr>\n",
       "    <tr>\n",
       "      <th>18</th>\n",
       "      <td>2017</td>\n",
       "      <td>Female</td>\n",
       "      <td>39.68%</td>\n",
       "    </tr>\n",
       "    <tr>\n",
       "      <th>19</th>\n",
       "      <td>2018</td>\n",
       "      <td>Female</td>\n",
       "      <td>37.57%</td>\n",
       "    </tr>\n",
       "    <tr>\n",
       "      <th>20</th>\n",
       "      <td>2019</td>\n",
       "      <td>Female</td>\n",
       "      <td>40.62%</td>\n",
       "    </tr>\n",
       "    <tr>\n",
       "      <th>21</th>\n",
       "      <td>2021</td>\n",
       "      <td>Female</td>\n",
       "      <td>40.43%</td>\n",
       "    </tr>\n",
       "  </tbody>\n",
       "</table>\n",
       "</div>"
      ],
      "text/plain": [
       "    Year     sex percent\n",
       "0   2010    Male  61.88%\n",
       "1   2011    Male  62.12%\n",
       "2   2012    Male  61.35%\n",
       "3   2013    Male  63.67%\n",
       "4   2014    Male  61.60%\n",
       "5   2015    Male  62.31%\n",
       "6   2016    Male  61.25%\n",
       "7   2017    Male  60.32%\n",
       "8   2018    Male  62.43%\n",
       "9   2019    Male  59.38%\n",
       "10  2021    Male  59.57%\n",
       "11  2010  Female  38.12%\n",
       "12  2011  Female  37.88%\n",
       "13  2012  Female  38.65%\n",
       "14  2013  Female  36.33%\n",
       "15  2014  Female  38.40%\n",
       "16  2015  Female  37.69%\n",
       "17  2016  Female  38.75%\n",
       "18  2017  Female  39.68%\n",
       "19  2018  Female  37.57%\n",
       "20  2019  Female  40.62%\n",
       "21  2021  Female  40.43%"
      ]
     },
     "execution_count": 7,
     "metadata": {},
     "output_type": "execute_result"
    }
   ],
   "source": [
    "gb_l"
   ]
  },
  {
   "cell_type": "code",
   "execution_count": 8,
   "id": "db3649f8",
   "metadata": {},
   "outputs": [],
   "source": [
    "gb_l = gb_l.astype({'sex': 'category', 'Year': 'category'})"
   ]
  },
  {
   "cell_type": "code",
   "execution_count": 9,
   "id": "969b7bfc",
   "metadata": {},
   "outputs": [
    {
     "data": {
      "text/html": [
       "<div>\n",
       "<style scoped>\n",
       "    .dataframe tbody tr th:only-of-type {\n",
       "        vertical-align: middle;\n",
       "    }\n",
       "\n",
       "    .dataframe tbody tr th {\n",
       "        vertical-align: top;\n",
       "    }\n",
       "\n",
       "    .dataframe thead th {\n",
       "        text-align: right;\n",
       "    }\n",
       "</style>\n",
       "<table border=\"1\" class=\"dataframe\">\n",
       "  <thead>\n",
       "    <tr style=\"text-align: right;\">\n",
       "      <th></th>\n",
       "      <th>Year</th>\n",
       "      <th>sex</th>\n",
       "      <th>percent</th>\n",
       "    </tr>\n",
       "  </thead>\n",
       "  <tbody>\n",
       "    <tr>\n",
       "      <th>0</th>\n",
       "      <td>2010</td>\n",
       "      <td>Male</td>\n",
       "      <td>61.88%</td>\n",
       "    </tr>\n",
       "    <tr>\n",
       "      <th>1</th>\n",
       "      <td>2011</td>\n",
       "      <td>Male</td>\n",
       "      <td>62.12%</td>\n",
       "    </tr>\n",
       "    <tr>\n",
       "      <th>2</th>\n",
       "      <td>2012</td>\n",
       "      <td>Male</td>\n",
       "      <td>61.35%</td>\n",
       "    </tr>\n",
       "    <tr>\n",
       "      <th>3</th>\n",
       "      <td>2013</td>\n",
       "      <td>Male</td>\n",
       "      <td>63.67%</td>\n",
       "    </tr>\n",
       "    <tr>\n",
       "      <th>4</th>\n",
       "      <td>2014</td>\n",
       "      <td>Male</td>\n",
       "      <td>61.60%</td>\n",
       "    </tr>\n",
       "    <tr>\n",
       "      <th>5</th>\n",
       "      <td>2015</td>\n",
       "      <td>Male</td>\n",
       "      <td>62.31%</td>\n",
       "    </tr>\n",
       "    <tr>\n",
       "      <th>6</th>\n",
       "      <td>2016</td>\n",
       "      <td>Male</td>\n",
       "      <td>61.25%</td>\n",
       "    </tr>\n",
       "    <tr>\n",
       "      <th>7</th>\n",
       "      <td>2017</td>\n",
       "      <td>Male</td>\n",
       "      <td>60.32%</td>\n",
       "    </tr>\n",
       "    <tr>\n",
       "      <th>8</th>\n",
       "      <td>2018</td>\n",
       "      <td>Male</td>\n",
       "      <td>62.43%</td>\n",
       "    </tr>\n",
       "    <tr>\n",
       "      <th>9</th>\n",
       "      <td>2019</td>\n",
       "      <td>Male</td>\n",
       "      <td>59.38%</td>\n",
       "    </tr>\n",
       "    <tr>\n",
       "      <th>10</th>\n",
       "      <td>2021</td>\n",
       "      <td>Male</td>\n",
       "      <td>59.57%</td>\n",
       "    </tr>\n",
       "    <tr>\n",
       "      <th>11</th>\n",
       "      <td>2010</td>\n",
       "      <td>Female</td>\n",
       "      <td>38.12%</td>\n",
       "    </tr>\n",
       "    <tr>\n",
       "      <th>12</th>\n",
       "      <td>2011</td>\n",
       "      <td>Female</td>\n",
       "      <td>37.88%</td>\n",
       "    </tr>\n",
       "    <tr>\n",
       "      <th>13</th>\n",
       "      <td>2012</td>\n",
       "      <td>Female</td>\n",
       "      <td>38.65%</td>\n",
       "    </tr>\n",
       "    <tr>\n",
       "      <th>14</th>\n",
       "      <td>2013</td>\n",
       "      <td>Female</td>\n",
       "      <td>36.33%</td>\n",
       "    </tr>\n",
       "    <tr>\n",
       "      <th>15</th>\n",
       "      <td>2014</td>\n",
       "      <td>Female</td>\n",
       "      <td>38.40%</td>\n",
       "    </tr>\n",
       "    <tr>\n",
       "      <th>16</th>\n",
       "      <td>2015</td>\n",
       "      <td>Female</td>\n",
       "      <td>37.69%</td>\n",
       "    </tr>\n",
       "    <tr>\n",
       "      <th>17</th>\n",
       "      <td>2016</td>\n",
       "      <td>Female</td>\n",
       "      <td>38.75%</td>\n",
       "    </tr>\n",
       "    <tr>\n",
       "      <th>18</th>\n",
       "      <td>2017</td>\n",
       "      <td>Female</td>\n",
       "      <td>39.68%</td>\n",
       "    </tr>\n",
       "    <tr>\n",
       "      <th>19</th>\n",
       "      <td>2018</td>\n",
       "      <td>Female</td>\n",
       "      <td>37.57%</td>\n",
       "    </tr>\n",
       "    <tr>\n",
       "      <th>20</th>\n",
       "      <td>2019</td>\n",
       "      <td>Female</td>\n",
       "      <td>40.62%</td>\n",
       "    </tr>\n",
       "    <tr>\n",
       "      <th>21</th>\n",
       "      <td>2021</td>\n",
       "      <td>Female</td>\n",
       "      <td>40.43%</td>\n",
       "    </tr>\n",
       "  </tbody>\n",
       "</table>\n",
       "</div>"
      ],
      "text/plain": [
       "    Year     sex percent\n",
       "0   2010    Male  61.88%\n",
       "1   2011    Male  62.12%\n",
       "2   2012    Male  61.35%\n",
       "3   2013    Male  63.67%\n",
       "4   2014    Male  61.60%\n",
       "5   2015    Male  62.31%\n",
       "6   2016    Male  61.25%\n",
       "7   2017    Male  60.32%\n",
       "8   2018    Male  62.43%\n",
       "9   2019    Male  59.38%\n",
       "10  2021    Male  59.57%\n",
       "11  2010  Female  38.12%\n",
       "12  2011  Female  37.88%\n",
       "13  2012  Female  38.65%\n",
       "14  2013  Female  36.33%\n",
       "15  2014  Female  38.40%\n",
       "16  2015  Female  37.69%\n",
       "17  2016  Female  38.75%\n",
       "18  2017  Female  39.68%\n",
       "19  2018  Female  37.57%\n",
       "20  2019  Female  40.62%\n",
       "21  2021  Female  40.43%"
      ]
     },
     "execution_count": 9,
     "metadata": {},
     "output_type": "execute_result"
    }
   ],
   "source": [
    "gb_l"
   ]
  },
  {
   "cell_type": "code",
   "execution_count": 10,
   "id": "e4f5b77e",
   "metadata": {},
   "outputs": [],
   "source": [
    "gb_l['percent'] = gb_l['percent'].str.rstrip('%').astype('float')"
   ]
  },
  {
   "cell_type": "code",
   "execution_count": 11,
   "id": "be02bb5b",
   "metadata": {},
   "outputs": [
    {
     "data": {
      "text/html": [
       "<div>\n",
       "<style scoped>\n",
       "    .dataframe tbody tr th:only-of-type {\n",
       "        vertical-align: middle;\n",
       "    }\n",
       "\n",
       "    .dataframe tbody tr th {\n",
       "        vertical-align: top;\n",
       "    }\n",
       "\n",
       "    .dataframe thead th {\n",
       "        text-align: right;\n",
       "    }\n",
       "</style>\n",
       "<table border=\"1\" class=\"dataframe\">\n",
       "  <thead>\n",
       "    <tr style=\"text-align: right;\">\n",
       "      <th></th>\n",
       "      <th>Year</th>\n",
       "      <th>sex</th>\n",
       "      <th>percent</th>\n",
       "    </tr>\n",
       "  </thead>\n",
       "  <tbody>\n",
       "    <tr>\n",
       "      <th>0</th>\n",
       "      <td>2010</td>\n",
       "      <td>Male</td>\n",
       "      <td>61.88</td>\n",
       "    </tr>\n",
       "    <tr>\n",
       "      <th>1</th>\n",
       "      <td>2011</td>\n",
       "      <td>Male</td>\n",
       "      <td>62.12</td>\n",
       "    </tr>\n",
       "    <tr>\n",
       "      <th>2</th>\n",
       "      <td>2012</td>\n",
       "      <td>Male</td>\n",
       "      <td>61.35</td>\n",
       "    </tr>\n",
       "    <tr>\n",
       "      <th>3</th>\n",
       "      <td>2013</td>\n",
       "      <td>Male</td>\n",
       "      <td>63.67</td>\n",
       "    </tr>\n",
       "    <tr>\n",
       "      <th>4</th>\n",
       "      <td>2014</td>\n",
       "      <td>Male</td>\n",
       "      <td>61.60</td>\n",
       "    </tr>\n",
       "  </tbody>\n",
       "</table>\n",
       "</div>"
      ],
      "text/plain": [
       "   Year   sex  percent\n",
       "0  2010  Male    61.88\n",
       "1  2011  Male    62.12\n",
       "2  2012  Male    61.35\n",
       "3  2013  Male    63.67\n",
       "4  2014  Male    61.60"
      ]
     },
     "execution_count": 11,
     "metadata": {},
     "output_type": "execute_result"
    }
   ],
   "source": [
    "gb_l.head()"
   ]
  },
  {
   "cell_type": "code",
   "execution_count": 12,
   "id": "c65d8eaa",
   "metadata": {},
   "outputs": [],
   "source": [
    "gbl_grouped = gb_l.groupby(['Year', 'sex'])"
   ]
  },
  {
   "cell_type": "code",
   "execution_count": 13,
   "id": "3051610e",
   "metadata": {},
   "outputs": [
    {
     "data": {
      "text/html": [
       "<div>\n",
       "<style scoped>\n",
       "    .dataframe tbody tr th:only-of-type {\n",
       "        vertical-align: middle;\n",
       "    }\n",
       "\n",
       "    .dataframe tbody tr th {\n",
       "        vertical-align: top;\n",
       "    }\n",
       "\n",
       "    .dataframe thead th {\n",
       "        text-align: right;\n",
       "    }\n",
       "</style>\n",
       "<table border=\"1\" class=\"dataframe\">\n",
       "  <thead>\n",
       "    <tr style=\"text-align: right;\">\n",
       "      <th></th>\n",
       "      <th>Year</th>\n",
       "      <th>sex</th>\n",
       "      <th>percent</th>\n",
       "    </tr>\n",
       "  </thead>\n",
       "  <tbody>\n",
       "    <tr>\n",
       "      <th>15</th>\n",
       "      <td>2014</td>\n",
       "      <td>Female</td>\n",
       "      <td>38.4</td>\n",
       "    </tr>\n",
       "  </tbody>\n",
       "</table>\n",
       "</div>"
      ],
      "text/plain": [
       "    Year     sex  percent\n",
       "15  2014  Female     38.4"
      ]
     },
     "execution_count": 13,
     "metadata": {},
     "output_type": "execute_result"
    }
   ],
   "source": [
    "gbl_grouped.get_group((2014, 'Female'))"
   ]
  },
  {
   "cell_type": "code",
   "execution_count": 14,
   "id": "820242f0",
   "metadata": {},
   "outputs": [
    {
     "data": {
      "text/plain": [
       "{(2010, 'Female'): array([11], dtype=int64),\n",
       " (2010, 'Male'): array([0], dtype=int64),\n",
       " (2011, 'Female'): array([12], dtype=int64),\n",
       " (2011, 'Male'): array([1], dtype=int64),\n",
       " (2012, 'Female'): array([13], dtype=int64),\n",
       " (2012, 'Male'): array([2], dtype=int64),\n",
       " (2013, 'Female'): array([14], dtype=int64),\n",
       " (2013, 'Male'): array([3], dtype=int64),\n",
       " (2014, 'Female'): array([15], dtype=int64),\n",
       " (2014, 'Male'): array([4], dtype=int64),\n",
       " (2015, 'Female'): array([16], dtype=int64),\n",
       " (2015, 'Male'): array([5], dtype=int64),\n",
       " (2016, 'Female'): array([17], dtype=int64),\n",
       " (2016, 'Male'): array([6], dtype=int64),\n",
       " (2017, 'Female'): array([18], dtype=int64),\n",
       " (2017, 'Male'): array([7], dtype=int64),\n",
       " (2018, 'Female'): array([19], dtype=int64),\n",
       " (2018, 'Male'): array([8], dtype=int64),\n",
       " (2019, 'Female'): array([20], dtype=int64),\n",
       " (2019, 'Male'): array([9], dtype=int64),\n",
       " (2021, 'Female'): array([21], dtype=int64),\n",
       " (2021, 'Male'): array([10], dtype=int64)}"
      ]
     },
     "execution_count": 14,
     "metadata": {},
     "output_type": "execute_result"
    }
   ],
   "source": [
    "gbl_grouped.indices"
   ]
  },
  {
   "cell_type": "code",
   "execution_count": 15,
   "id": "b474a3b0",
   "metadata": {},
   "outputs": [
    {
     "name": "stdout",
     "output_type": "stream",
     "text": [
      "name\n",
      " (2010, 'Female') \n",
      "data\n",
      "     Year     sex  percent\n",
      "11  2010  Female    38.12\n",
      "name\n",
      " (2010, 'Male') \n",
      "data\n",
      "    Year   sex  percent\n",
      "0  2010  Male    61.88\n",
      "name\n",
      " (2011, 'Female') \n",
      "data\n",
      "     Year     sex  percent\n",
      "12  2011  Female    37.88\n",
      "name\n",
      " (2011, 'Male') \n",
      "data\n",
      "    Year   sex  percent\n",
      "1  2011  Male    62.12\n",
      "name\n",
      " (2012, 'Female') \n",
      "data\n",
      "     Year     sex  percent\n",
      "13  2012  Female    38.65\n",
      "name\n",
      " (2012, 'Male') \n",
      "data\n",
      "    Year   sex  percent\n",
      "2  2012  Male    61.35\n",
      "name\n",
      " (2013, 'Female') \n",
      "data\n",
      "     Year     sex  percent\n",
      "14  2013  Female    36.33\n",
      "name\n",
      " (2013, 'Male') \n",
      "data\n",
      "    Year   sex  percent\n",
      "3  2013  Male    63.67\n",
      "name\n",
      " (2014, 'Female') \n",
      "data\n",
      "     Year     sex  percent\n",
      "15  2014  Female     38.4\n",
      "name\n",
      " (2014, 'Male') \n",
      "data\n",
      "    Year   sex  percent\n",
      "4  2014  Male     61.6\n",
      "name\n",
      " (2015, 'Female') \n",
      "data\n",
      "     Year     sex  percent\n",
      "16  2015  Female    37.69\n",
      "name\n",
      " (2015, 'Male') \n",
      "data\n",
      "    Year   sex  percent\n",
      "5  2015  Male    62.31\n",
      "name\n",
      " (2016, 'Female') \n",
      "data\n",
      "     Year     sex  percent\n",
      "17  2016  Female    38.75\n",
      "name\n",
      " (2016, 'Male') \n",
      "data\n",
      "    Year   sex  percent\n",
      "6  2016  Male    61.25\n",
      "name\n",
      " (2017, 'Female') \n",
      "data\n",
      "     Year     sex  percent\n",
      "18  2017  Female    39.68\n",
      "name\n",
      " (2017, 'Male') \n",
      "data\n",
      "    Year   sex  percent\n",
      "7  2017  Male    60.32\n",
      "name\n",
      " (2018, 'Female') \n",
      "data\n",
      "     Year     sex  percent\n",
      "19  2018  Female    37.57\n",
      "name\n",
      " (2018, 'Male') \n",
      "data\n",
      "    Year   sex  percent\n",
      "8  2018  Male    62.43\n",
      "name\n",
      " (2019, 'Female') \n",
      "data\n",
      "     Year     sex  percent\n",
      "20  2019  Female    40.62\n",
      "name\n",
      " (2019, 'Male') \n",
      "data\n",
      "    Year   sex  percent\n",
      "9  2019  Male    59.38\n",
      "name\n",
      " (2021, 'Female') \n",
      "data\n",
      "     Year     sex  percent\n",
      "21  2021  Female    40.43\n",
      "name\n",
      " (2021, 'Male') \n",
      "data\n",
      "     Year   sex  percent\n",
      "10  2021  Male    59.57\n"
     ]
    }
   ],
   "source": [
    "for i, o in gbl_grouped:\n",
    "    print('name\\n', i, '\\ndata\\n', o)"
   ]
  },
  {
   "cell_type": "code",
   "execution_count": 16,
   "id": "805174d1",
   "metadata": {},
   "outputs": [
    {
     "data": {
      "image/png": "[encoded data removed]",
      "text/plain": [
       "<Figure size 640x480 with 1 Axes>"
      ]
     },
     "metadata": {},
     "output_type": "display_data"
    }
   ],
   "source": [
    "fig1, ax1 = plt.subplots()\n",
    "\n",
    "for i, o in gbl_grouped:\n",
    "    if o.sex.item() == 'Male':\n",
    "        ax1.barh(o.Year, o.percent, left = 0, label = 'Male', color = 'tab:purple')\n",
    "    else:\n",
    "        start = 100 - o.percent\n",
    "        ax1.barh(o.Year, o.percent, left = start, label = 'Female', color = 'tab:orange')\n",
    "        \n",
    "ax1.legend(['Female', 'Male'])\n",
    "        \n",
    "ax1.set(xlabel = '% sex', ylabel = 'Year', title = 'UX Designer Sex by Year')\n",
    "\n",
    "plt.show()"
   ]
  },
  {
   "cell_type": "code",
   "execution_count": 17,
   "id": "3249791d",
   "metadata": {},
   "outputs": [
    {
     "data": {
      "image/png": "[encoded data removed]",
      "text/plain": [
       "<Figure size 640x480 with 1 Axes>"
      ]
     },
     "metadata": {},
     "output_type": "display_data"
    }
   ],
   "source": [
    "fig2, ax2 = plt.subplots()\n",
    "sns.histplot(gb_l, y = 'Year', hue = 'sex', weights = 'percent', multiple = 'stack')\n",
    "ax2.set_title('UX Designer Sex by Year')\n",
    "ax2.set_xlabel('% sex')\n",
    "\n",
    "plt.show()"
   ]
  },
  {
   "cell_type": "code",
   "execution_count": 18,
   "id": "b0538cba",
   "metadata": {},
   "outputs": [
    {
     "data": {
      "image/png": "[encoded data removed]",
      "text/plain": [
       "<Figure size 640x480 with 1 Axes>"
      ]
     },
     "metadata": {},
     "output_type": "display_data"
    }
   ],
   "source": [
    "sns.histplot(gb_l, y = 'Year', hue = 'sex', weights = 'percent', multiple = 'stack')\n",
    "sns.set_style('darkgrid')\n",
    "plt.show()"
   ]
  },
  {
   "cell_type": "code",
   "execution_count": 19,
   "id": "07324fe9",
   "metadata": {},
   "outputs": [
    {
     "data": {
      "image/png": "[encoded data removed]",
      "text/plain": [
       "<Figure size 640x480 with 1 Axes>"
      ]
     },
     "metadata": {},
     "output_type": "display_data"
    }
   ],
   "source": [
    "sns.histplot(gb_l, y = 'Year', hue = 'sex', weights = 'percent', multiple = 'stack')\n",
    "sns.set_style('whitegrid')\n",
    "plt.show()"
   ]
  },
  {
   "cell_type": "code",
   "execution_count": 20,
   "id": "677eac82",
   "metadata": {},
   "outputs": [
    {
     "data": {
      "image/png": "[encoded data removed]",
      "text/plain": [
       "<Figure size 640x480 with 1 Axes>"
      ]
     },
     "metadata": {},
     "output_type": "display_data"
    }
   ],
   "source": [
    "sns.histplot(gb_l, y = 'Year', hue = 'sex', weights = 'percent', multiple = 'stack')\n",
    "sns.set_style('ticks')\n",
    "plt.show()"
   ]
  },
  {
   "cell_type": "code",
   "execution_count": 21,
   "id": "80e58e60",
   "metadata": {},
   "outputs": [
    {
     "data": {
      "image/png": "[encoded data removed]",
      "text/plain": [
       "<Figure size 640x480 with 1 Axes>"
      ]
     },
     "metadata": {},
     "output_type": "display_data"
    }
   ],
   "source": [
    "sns.histplot(gb_l, y = 'Year', hue = 'sex', weights = 'percent', multiple = 'stack')\n",
    "sns.set_style('darkgrid')\n",
    "sns.set_context('notebook')\n",
    "sns.color_palette('Set2')\n",
    "plt.show()"
   ]
  }
 ],
 "metadata": {
  "kernelspec": {
   "display_name": "Python 3 (ipykernel)",
   "language": "python",
   "name": "python3"
  },
  "language_info": {
   "codemirror_mode": {
    "name": "ipython",
    "version": 3
   },
   "file_extension": ".py",
   "mimetype": "text/x-python",
   "name": "python",
   "nbconvert_exporter": "python",
   "pygments_lexer": "ipython3",
   "version": "3.9.16"
  }
 },
 "nbformat": 4,
 "nbformat_minor": 5
}
